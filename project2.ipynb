{
 "cells": [
  {
   "cell_type": "markdown",
   "metadata": {},
   "source": [
    "# CME538 - Introduction to Data Science\n",
    "**Project 2 - Toronto Bike Share**\n",
    "\n",
    "**Team: Diligent Debuggers**\n",
    "\n",
    "**Team members:** "
   ]
  },
  {
   "cell_type": "markdown",
   "metadata": {},
   "source": [
    "# Setup Notebook"
   ]
  },
  {
   "cell_type": "code",
   "execution_count": null,
   "metadata": {},
   "outputs": [],
   "source": []
  },
  {
   "cell_type": "code",
   "execution_count": null,
   "metadata": {},
   "outputs": [],
   "source": []
  },
  {
   "cell_type": "code",
   "execution_count": 159,
   "metadata": {
    "ExecuteTime": {
     "end_time": "2022-12-01T08:57:02.015684Z",
     "start_time": "2022-12-01T08:56:47.114938Z"
    }
   },
   "outputs": [],
   "source": [
    "# Import 3rd party libraries\n",
    "import os\n",
    "import json\n",
    "import time\n",
    "import numpy as np\n",
    "import datetime as dt\n",
    "import codecs\n",
    "import requests\n",
    "import pandas as pd\n",
    "import seaborn as sns\n",
    "import matplotlib.pylab as plt\n",
    "from io import StringIO\n",
    "import pytz\n",
    "from fuzzywuzzy import fuzz\n",
    "from fuzzywuzzy import process\n",
    "import geopandas as gpd\n",
    "\n",
    "\n",
    "# Configure Notebook\n",
    "%matplotlib inline\n",
    "plt.style.use('fivethirtyeight')\n",
    "sns.set_context(\"notebook\")\n",
    "import warnings\n",
    "warnings.filterwarnings('ignore')"
   ]
  },
  {
   "cell_type": "markdown",
   "metadata": {},
   "source": [
    "# Data Cleaning"
   ]
  },
  {
   "cell_type": "markdown",
   "metadata": {},
   "source": [
    "## Get Station Data\n",
    "Get the up to date bikeshare station information from `https://tor.publicbikesystem.net`."
   ]
  },
  {
   "cell_type": "code",
   "execution_count": 2,
   "metadata": {
    "ExecuteTime": {
     "end_time": "2022-12-01T08:57:02.625062Z",
     "start_time": "2022-12-01T08:57:02.018697Z"
    },
    "scrolled": false
   },
   "outputs": [
    {
     "data": {
      "text/html": [
       "<div>\n",
       "<style scoped>\n",
       "    .dataframe tbody tr th:only-of-type {\n",
       "        vertical-align: middle;\n",
       "    }\n",
       "\n",
       "    .dataframe tbody tr th {\n",
       "        vertical-align: top;\n",
       "    }\n",
       "\n",
       "    .dataframe thead th {\n",
       "        text-align: right;\n",
       "    }\n",
       "</style>\n",
       "<table border=\"1\" class=\"dataframe\">\n",
       "  <thead>\n",
       "    <tr style=\"text-align: right;\">\n",
       "      <th></th>\n",
       "      <th>Station Id</th>\n",
       "      <th>Station Name</th>\n",
       "      <th>lat</th>\n",
       "      <th>lon</th>\n",
       "      <th>capacity</th>\n",
       "    </tr>\n",
       "  </thead>\n",
       "  <tbody>\n",
       "    <tr>\n",
       "      <th>0</th>\n",
       "      <td>7000</td>\n",
       "      <td>Fort York  Blvd / Capreol Ct</td>\n",
       "      <td>43.639832</td>\n",
       "      <td>-79.395954</td>\n",
       "      <td>35</td>\n",
       "    </tr>\n",
       "    <tr>\n",
       "      <th>1</th>\n",
       "      <td>7001</td>\n",
       "      <td>Wellesley Station Green P</td>\n",
       "      <td>43.664964</td>\n",
       "      <td>-79.383550</td>\n",
       "      <td>26</td>\n",
       "    </tr>\n",
       "    <tr>\n",
       "      <th>2</th>\n",
       "      <td>7002</td>\n",
       "      <td>St. George St / Bloor St W</td>\n",
       "      <td>43.667333</td>\n",
       "      <td>-79.399429</td>\n",
       "      <td>19</td>\n",
       "    </tr>\n",
       "    <tr>\n",
       "      <th>3</th>\n",
       "      <td>7003</td>\n",
       "      <td>Madison Ave / Bloor St W</td>\n",
       "      <td>43.667158</td>\n",
       "      <td>-79.402761</td>\n",
       "      <td>15</td>\n",
       "    </tr>\n",
       "    <tr>\n",
       "      <th>4</th>\n",
       "      <td>7004</td>\n",
       "      <td>University Ave / Elm St</td>\n",
       "      <td>43.656518</td>\n",
       "      <td>-79.389099</td>\n",
       "      <td>11</td>\n",
       "    </tr>\n",
       "    <tr>\n",
       "      <th>5</th>\n",
       "      <td>7005</td>\n",
       "      <td>King St W / York St</td>\n",
       "      <td>43.648001</td>\n",
       "      <td>-79.383177</td>\n",
       "      <td>19</td>\n",
       "    </tr>\n",
       "    <tr>\n",
       "      <th>6</th>\n",
       "      <td>7006</td>\n",
       "      <td>Bay St / College St (East Side)</td>\n",
       "      <td>43.660439</td>\n",
       "      <td>-79.385525</td>\n",
       "      <td>19</td>\n",
       "    </tr>\n",
       "    <tr>\n",
       "      <th>7</th>\n",
       "      <td>7007</td>\n",
       "      <td>College St / Huron St</td>\n",
       "      <td>43.658148</td>\n",
       "      <td>-79.398167</td>\n",
       "      <td>19</td>\n",
       "    </tr>\n",
       "    <tr>\n",
       "      <th>8</th>\n",
       "      <td>7008</td>\n",
       "      <td>Wellesley St / Queen's Park Cres</td>\n",
       "      <td>43.663376</td>\n",
       "      <td>-79.392125</td>\n",
       "      <td>19</td>\n",
       "    </tr>\n",
       "    <tr>\n",
       "      <th>9</th>\n",
       "      <td>7009</td>\n",
       "      <td>King St E / Jarvis St</td>\n",
       "      <td>43.650325</td>\n",
       "      <td>-79.372287</td>\n",
       "      <td>25</td>\n",
       "    </tr>\n",
       "    <tr>\n",
       "      <th>10</th>\n",
       "      <td>7010</td>\n",
       "      <td>King St W / Spadina Ave</td>\n",
       "      <td>43.645323</td>\n",
       "      <td>-79.395003</td>\n",
       "      <td>19</td>\n",
       "    </tr>\n",
       "    <tr>\n",
       "      <th>11</th>\n",
       "      <td>7012</td>\n",
       "      <td>Elizabeth St / Edward St (Bus Terminal)</td>\n",
       "      <td>43.656026</td>\n",
       "      <td>-79.385327</td>\n",
       "      <td>15</td>\n",
       "    </tr>\n",
       "    <tr>\n",
       "      <th>12</th>\n",
       "      <td>7014</td>\n",
       "      <td>Sherbourne St / Carlton St (Allan Gardens)</td>\n",
       "      <td>43.663102</td>\n",
       "      <td>-79.373181</td>\n",
       "      <td>17</td>\n",
       "    </tr>\n",
       "    <tr>\n",
       "      <th>13</th>\n",
       "      <td>7015</td>\n",
       "      <td>King St W / Bay St (West Side)</td>\n",
       "      <td>43.648520</td>\n",
       "      <td>-79.380576</td>\n",
       "      <td>39</td>\n",
       "    </tr>\n",
       "    <tr>\n",
       "      <th>14</th>\n",
       "      <td>7016</td>\n",
       "      <td>Bay St / Queens Quay W (Ferry Terminal)</td>\n",
       "      <td>43.640978</td>\n",
       "      <td>-79.376785</td>\n",
       "      <td>23</td>\n",
       "    </tr>\n",
       "  </tbody>\n",
       "</table>\n",
       "</div>"
      ],
      "text/plain": [
       "    Station Id                                Station Name        lat  \\\n",
       "0         7000                Fort York  Blvd / Capreol Ct  43.639832   \n",
       "1         7001                   Wellesley Station Green P  43.664964   \n",
       "2         7002                  St. George St / Bloor St W  43.667333   \n",
       "3         7003                    Madison Ave / Bloor St W  43.667158   \n",
       "4         7004                     University Ave / Elm St  43.656518   \n",
       "5         7005                         King St W / York St  43.648001   \n",
       "6         7006             Bay St / College St (East Side)  43.660439   \n",
       "7         7007                       College St / Huron St  43.658148   \n",
       "8         7008            Wellesley St / Queen's Park Cres  43.663376   \n",
       "9         7009                       King St E / Jarvis St  43.650325   \n",
       "10        7010                     King St W / Spadina Ave  43.645323   \n",
       "11        7012     Elizabeth St / Edward St (Bus Terminal)  43.656026   \n",
       "12        7014  Sherbourne St / Carlton St (Allan Gardens)  43.663102   \n",
       "13        7015              King St W / Bay St (West Side)  43.648520   \n",
       "14        7016     Bay St / Queens Quay W (Ferry Terminal)  43.640978   \n",
       "\n",
       "          lon  capacity  \n",
       "0  -79.395954        35  \n",
       "1  -79.383550        26  \n",
       "2  -79.399429        19  \n",
       "3  -79.402761        15  \n",
       "4  -79.389099        11  \n",
       "5  -79.383177        19  \n",
       "6  -79.385525        19  \n",
       "7  -79.398167        19  \n",
       "8  -79.392125        19  \n",
       "9  -79.372287        25  \n",
       "10 -79.395003        19  \n",
       "11 -79.385327        15  \n",
       "12 -79.373181        17  \n",
       "13 -79.380576        39  \n",
       "14 -79.376785        23  "
      ]
     },
     "execution_count": 2,
     "metadata": {},
     "output_type": "execute_result"
    }
   ],
   "source": [
    "response = requests.get('https://tor.publicbikesystem.net/ube/gbfs/v1/en/station_information')\n",
    "bikeshare_stations = pd.DataFrame(json.loads(response.content)['data']['stations'])[['station_id', 'name', 'lat', 'lon', 'capacity']].astype({'station_id': 'int',})\n",
    "bikeshare_stations = bikeshare_stations.rename(columns={'station_id': 'Station Id', \n",
    "                                                        'name': 'Station Name'})\n",
    "\n",
    "# View DataFrame\n",
    "bikeshare_stations.head(15)"
   ]
  },
  {
   "cell_type": "code",
   "execution_count": 3,
   "metadata": {
    "ExecuteTime": {
     "end_time": "2022-12-01T08:57:02.656626Z",
     "start_time": "2022-12-01T08:57:02.627067Z"
    },
    "scrolled": true
   },
   "outputs": [
    {
     "name": "stdout",
     "output_type": "stream",
     "text": [
      "<class 'pandas.core.frame.DataFrame'>\n",
      "RangeIndex: 655 entries, 0 to 654\n",
      "Data columns (total 5 columns):\n",
      " #   Column        Non-Null Count  Dtype  \n",
      "---  ------        --------------  -----  \n",
      " 0   Station Id    655 non-null    int32  \n",
      " 1   Station Name  655 non-null    object \n",
      " 2   lat           655 non-null    float64\n",
      " 3   lon           655 non-null    float64\n",
      " 4   capacity      655 non-null    int64  \n",
      "dtypes: float64(2), int32(1), int64(1), object(1)\n",
      "memory usage: 23.2+ KB\n"
     ]
    }
   ],
   "source": [
    "bikeshare_stations.info()"
   ]
  },
  {
   "cell_type": "code",
   "execution_count": 256,
   "metadata": {
    "ExecuteTime": {
     "end_time": "2022-12-01T08:57:02.704058Z",
     "start_time": "2022-12-01T08:57:02.659627Z"
    }
   },
   "outputs": [
    {
     "data": {
      "text/plain": [
       "Station Id      655\n",
       "Station Name    655\n",
       "lat             653\n",
       "lon             654\n",
       "capacity         39\n",
       "dtype: int64"
      ]
     },
     "execution_count": 256,
     "metadata": {},
     "output_type": "execute_result"
    }
   ],
   "source": [
    "bikeshare_stations.nunique()"
   ]
  },
  {
   "cell_type": "markdown",
   "metadata": {},
   "source": [
    "The station dataframe has no missing/duplicated station name or id. "
   ]
  },
  {
   "cell_type": "code",
   "execution_count": 7,
   "metadata": {
    "ExecuteTime": {
     "end_time": "2022-12-01T08:57:02.735073Z",
     "start_time": "2022-12-01T08:57:02.706016Z"
    },
    "scrolled": true
   },
   "outputs": [],
   "source": [
    "# Write bikeshare station dataframe to a csv file\n",
    "path_stations = os.path.join(os.path.abspath(os.getcwd()), 'data', 'stations')\n",
    "bikeshare_stations.to_csv(os.path.join(path_stations, 'bikeshare_stations.csv'))"
   ]
  },
  {
   "cell_type": "markdown",
   "metadata": {},
   "source": [
    "## Weather Data"
   ]
  },
  {
   "cell_type": "markdown",
   "metadata": {},
   "source": [
    "### Load Weather Data"
   ]
  },
  {
   "cell_type": "code",
   "execution_count": 14,
   "metadata": {
    "ExecuteTime": {
     "end_time": "2022-12-01T08:57:02.751164Z",
     "start_time": "2022-12-01T08:57:02.737606Z"
    },
    "scrolled": true
   },
   "outputs": [
    {
     "name": "stdout",
     "output_type": "stream",
     "text": [
      "['en_climate_hourly_ON_6158359_01-2017_P1H.csv', 'en_climate_hourly_ON_6158359_01-2018_P1H.csv', 'en_climate_hourly_ON_6158359_01-2019_P1H.csv', 'en_climate_hourly_ON_6158359_01-2020_P1H.csv', 'en_climate_hourly_ON_6158359_01-2021_P1H.csv']\n"
     ]
    }
   ],
   "source": [
    "# Set weather data path\n",
    "path_weather = os.path.join(os.path.abspath(os.getcwd()), 'data', 'weather')\n",
    "\n",
    "# Get weather file names\n",
    "weather_filenames = [filename for filename in os.listdir(path_weather) if 'climate' in filename]\n",
    "\n",
    "# Print file names\n",
    "print(weather_filenames[0:5])"
   ]
  },
  {
   "cell_type": "code",
   "execution_count": 17,
   "metadata": {
    "ExecuteTime": {
     "end_time": "2022-12-01T08:57:03.159191Z",
     "start_time": "2022-12-01T08:57:02.753153Z"
    }
   },
   "outputs": [],
   "source": [
    "# Create a dictionary where key:value pairs correspond to the file name and DataFrame respectively\n",
    "weather_data = {filename: pd.read_csv(os.path.join(path_weather, filename)) for filename in weather_filenames}  "
   ]
  },
  {
   "cell_type": "code",
   "execution_count": 18,
   "metadata": {
    "ExecuteTime": {
     "end_time": "2022-12-01T08:57:03.189884Z",
     "start_time": "2022-12-01T08:57:03.161196Z"
    }
   },
   "outputs": [],
   "source": [
    "weather_rename = {\n",
    "    'Date/Time (LST)' : 'Date/Time',\n",
    "    'Time (LST)' : 'Time',\n",
    "}\n",
    "\n",
    "for filename in weather_filenames:\n",
    "    weather_data[filename].rename(columns=weather_rename, inplace=True)"
   ]
  },
  {
   "cell_type": "code",
   "execution_count": 19,
   "metadata": {
    "ExecuteTime": {
     "end_time": "2022-12-01T08:57:03.269784Z",
     "start_time": "2022-12-01T08:57:03.191879Z"
    },
    "scrolled": false
   },
   "outputs": [
    {
     "data": {
      "text/html": [
       "<div>\n",
       "<style scoped>\n",
       "    .dataframe tbody tr th:only-of-type {\n",
       "        vertical-align: middle;\n",
       "    }\n",
       "\n",
       "    .dataframe tbody tr th {\n",
       "        vertical-align: top;\n",
       "    }\n",
       "\n",
       "    .dataframe thead th {\n",
       "        text-align: right;\n",
       "    }\n",
       "</style>\n",
       "<table border=\"1\" class=\"dataframe\">\n",
       "  <thead>\n",
       "    <tr style=\"text-align: right;\">\n",
       "      <th></th>\n",
       "      <th>Longitude (x)</th>\n",
       "      <th>Latitude (y)</th>\n",
       "      <th>Station Name</th>\n",
       "      <th>Climate ID</th>\n",
       "      <th>Date/Time</th>\n",
       "      <th>Year</th>\n",
       "      <th>Month</th>\n",
       "      <th>Day</th>\n",
       "      <th>Time</th>\n",
       "      <th>Temp (°C)</th>\n",
       "      <th>...</th>\n",
       "      <th>Visibility Flag</th>\n",
       "      <th>Stn Press (kPa)</th>\n",
       "      <th>Stn Press Flag</th>\n",
       "      <th>Hmdx</th>\n",
       "      <th>Hmdx Flag</th>\n",
       "      <th>Wind Chill</th>\n",
       "      <th>Wind Chill Flag</th>\n",
       "      <th>Weather</th>\n",
       "      <th>Precip. Amount (mm)</th>\n",
       "      <th>Precip. Amount Flag</th>\n",
       "    </tr>\n",
       "  </thead>\n",
       "  <tbody>\n",
       "    <tr>\n",
       "      <th>0</th>\n",
       "      <td>-79.4</td>\n",
       "      <td>43.63</td>\n",
       "      <td>TORONTO CITY CENTRE</td>\n",
       "      <td>6158359</td>\n",
       "      <td>2017-01-01 00:00</td>\n",
       "      <td>2017</td>\n",
       "      <td>1</td>\n",
       "      <td>1</td>\n",
       "      <td>00:00</td>\n",
       "      <td>1.5</td>\n",
       "      <td>...</td>\n",
       "      <td>NaN</td>\n",
       "      <td>99.81</td>\n",
       "      <td>NaN</td>\n",
       "      <td>NaN</td>\n",
       "      <td>NaN</td>\n",
       "      <td>NaN</td>\n",
       "      <td>NaN</td>\n",
       "      <td>NaN</td>\n",
       "      <td>NaN</td>\n",
       "      <td>NaN</td>\n",
       "    </tr>\n",
       "    <tr>\n",
       "      <th>1</th>\n",
       "      <td>-79.4</td>\n",
       "      <td>43.63</td>\n",
       "      <td>TORONTO CITY CENTRE</td>\n",
       "      <td>6158359</td>\n",
       "      <td>2017-01-01 01:00</td>\n",
       "      <td>2017</td>\n",
       "      <td>1</td>\n",
       "      <td>1</td>\n",
       "      <td>01:00</td>\n",
       "      <td>1.5</td>\n",
       "      <td>...</td>\n",
       "      <td>NaN</td>\n",
       "      <td>100.01</td>\n",
       "      <td>NaN</td>\n",
       "      <td>NaN</td>\n",
       "      <td>NaN</td>\n",
       "      <td>NaN</td>\n",
       "      <td>NaN</td>\n",
       "      <td>NaN</td>\n",
       "      <td>NaN</td>\n",
       "      <td>NaN</td>\n",
       "    </tr>\n",
       "    <tr>\n",
       "      <th>2</th>\n",
       "      <td>-79.4</td>\n",
       "      <td>43.63</td>\n",
       "      <td>TORONTO CITY CENTRE</td>\n",
       "      <td>6158359</td>\n",
       "      <td>2017-01-01 02:00</td>\n",
       "      <td>2017</td>\n",
       "      <td>1</td>\n",
       "      <td>1</td>\n",
       "      <td>02:00</td>\n",
       "      <td>1.0</td>\n",
       "      <td>...</td>\n",
       "      <td>NaN</td>\n",
       "      <td>100.14</td>\n",
       "      <td>NaN</td>\n",
       "      <td>NaN</td>\n",
       "      <td>NaN</td>\n",
       "      <td>NaN</td>\n",
       "      <td>NaN</td>\n",
       "      <td>NaN</td>\n",
       "      <td>NaN</td>\n",
       "      <td>NaN</td>\n",
       "    </tr>\n",
       "    <tr>\n",
       "      <th>3</th>\n",
       "      <td>-79.4</td>\n",
       "      <td>43.63</td>\n",
       "      <td>TORONTO CITY CENTRE</td>\n",
       "      <td>6158359</td>\n",
       "      <td>2017-01-01 03:00</td>\n",
       "      <td>2017</td>\n",
       "      <td>1</td>\n",
       "      <td>1</td>\n",
       "      <td>03:00</td>\n",
       "      <td>1.2</td>\n",
       "      <td>...</td>\n",
       "      <td>NaN</td>\n",
       "      <td>100.32</td>\n",
       "      <td>NaN</td>\n",
       "      <td>NaN</td>\n",
       "      <td>NaN</td>\n",
       "      <td>NaN</td>\n",
       "      <td>NaN</td>\n",
       "      <td>NaN</td>\n",
       "      <td>NaN</td>\n",
       "      <td>NaN</td>\n",
       "    </tr>\n",
       "    <tr>\n",
       "      <th>4</th>\n",
       "      <td>-79.4</td>\n",
       "      <td>43.63</td>\n",
       "      <td>TORONTO CITY CENTRE</td>\n",
       "      <td>6158359</td>\n",
       "      <td>2017-01-01 04:00</td>\n",
       "      <td>2017</td>\n",
       "      <td>1</td>\n",
       "      <td>1</td>\n",
       "      <td>04:00</td>\n",
       "      <td>1.3</td>\n",
       "      <td>...</td>\n",
       "      <td>NaN</td>\n",
       "      <td>100.48</td>\n",
       "      <td>NaN</td>\n",
       "      <td>NaN</td>\n",
       "      <td>NaN</td>\n",
       "      <td>NaN</td>\n",
       "      <td>NaN</td>\n",
       "      <td>NaN</td>\n",
       "      <td>NaN</td>\n",
       "      <td>NaN</td>\n",
       "    </tr>\n",
       "  </tbody>\n",
       "</table>\n",
       "<p>5 rows × 30 columns</p>\n",
       "</div>"
      ],
      "text/plain": [
       "   Longitude (x)  Latitude (y)         Station Name  Climate ID  \\\n",
       "0          -79.4         43.63  TORONTO CITY CENTRE     6158359   \n",
       "1          -79.4         43.63  TORONTO CITY CENTRE     6158359   \n",
       "2          -79.4         43.63  TORONTO CITY CENTRE     6158359   \n",
       "3          -79.4         43.63  TORONTO CITY CENTRE     6158359   \n",
       "4          -79.4         43.63  TORONTO CITY CENTRE     6158359   \n",
       "\n",
       "          Date/Time  Year  Month  Day   Time  Temp (°C)  ... Visibility Flag  \\\n",
       "0  2017-01-01 00:00  2017      1    1  00:00        1.5  ...             NaN   \n",
       "1  2017-01-01 01:00  2017      1    1  01:00        1.5  ...             NaN   \n",
       "2  2017-01-01 02:00  2017      1    1  02:00        1.0  ...             NaN   \n",
       "3  2017-01-01 03:00  2017      1    1  03:00        1.2  ...             NaN   \n",
       "4  2017-01-01 04:00  2017      1    1  04:00        1.3  ...             NaN   \n",
       "\n",
       "   Stn Press (kPa) Stn Press Flag  Hmdx Hmdx Flag  Wind Chill Wind Chill Flag  \\\n",
       "0            99.81            NaN   NaN       NaN         NaN             NaN   \n",
       "1           100.01            NaN   NaN       NaN         NaN             NaN   \n",
       "2           100.14            NaN   NaN       NaN         NaN             NaN   \n",
       "3           100.32            NaN   NaN       NaN         NaN             NaN   \n",
       "4           100.48            NaN   NaN       NaN         NaN             NaN   \n",
       "\n",
       "   Weather Precip. Amount (mm)  Precip. Amount Flag  \n",
       "0      NaN                 NaN                  NaN  \n",
       "1      NaN                 NaN                  NaN  \n",
       "2      NaN                 NaN                  NaN  \n",
       "3      NaN                 NaN                  NaN  \n",
       "4      NaN                 NaN                  NaN  \n",
       "\n",
       "[5 rows x 30 columns]"
      ]
     },
     "execution_count": 19,
     "metadata": {},
     "output_type": "execute_result"
    }
   ],
   "source": [
    "# Import weather\n",
    "weather = pd.concat([weather_data[filename] for filename in weather_filenames], ignore_index=True)\n",
    "\n",
    "# View DataFrame\n",
    "weather.head()"
   ]
  },
  {
   "cell_type": "code",
   "execution_count": 20,
   "metadata": {
    "ExecuteTime": {
     "end_time": "2022-12-01T08:57:03.363741Z",
     "start_time": "2022-12-01T08:57:03.273725Z"
    }
   },
   "outputs": [
    {
     "name": "stdout",
     "output_type": "stream",
     "text": [
      "<class 'pandas.core.frame.DataFrame'>\n",
      "RangeIndex: 49656 entries, 0 to 49655\n",
      "Data columns (total 30 columns):\n",
      " #   Column               Non-Null Count  Dtype  \n",
      "---  ------               --------------  -----  \n",
      " 0   Longitude (x)        49656 non-null  float64\n",
      " 1   Latitude (y)         49656 non-null  float64\n",
      " 2   Station Name         49656 non-null  object \n",
      " 3   Climate ID           49656 non-null  int64  \n",
      " 4   Date/Time            49656 non-null  object \n",
      " 5   Year                 49656 non-null  int64  \n",
      " 6   Month                49656 non-null  int64  \n",
      " 7   Day                  49656 non-null  int64  \n",
      " 8   Time                 49656 non-null  object \n",
      " 9   Temp (°C)            49273 non-null  float64\n",
      " 10  Temp Flag            331 non-null    object \n",
      " 11  Dew Point Temp (°C)  49012 non-null  float64\n",
      " 12  Dew Point Temp Flag  593 non-null    object \n",
      " 13  Rel Hum (%)          49026 non-null  float64\n",
      " 14  Rel Hum Flag         579 non-null    object \n",
      " 15  Wind Dir (10s deg)   46833 non-null  float64\n",
      " 16  Wind Dir Flag        1529 non-null   object \n",
      " 17  Wind Spd (km/h)      49581 non-null  float64\n",
      " 18  Wind Spd Flag        24 non-null     object \n",
      " 19  Visibility (km)      49570 non-null  float64\n",
      " 20  Visibility Flag      35 non-null     object \n",
      " 21  Stn Press (kPa)      49270 non-null  float64\n",
      " 22  Stn Press Flag       335 non-null    object \n",
      " 23  Hmdx                 8134 non-null   float64\n",
      " 24  Hmdx Flag            0 non-null      float64\n",
      " 25  Wind Chill           8862 non-null   float64\n",
      " 26  Wind Chill Flag      0 non-null      float64\n",
      " 27  Weather              7442 non-null   object \n",
      " 28  Precip. Amount (mm)  15318 non-null  float64\n",
      " 29  Precip. Amount Flag  0 non-null      float64\n",
      "dtypes: float64(15), int64(4), object(11)\n",
      "memory usage: 11.4+ MB\n"
     ]
    }
   ],
   "source": [
    "weather.info()"
   ]
  },
  {
   "cell_type": "markdown",
   "metadata": {},
   "source": [
    "### Drop Redundant Columns"
   ]
  },
  {
   "cell_type": "markdown",
   "metadata": {},
   "source": [
    "Apart from the unnecessary columns specified in proposal, 'Stn Press (kPa)' is not important because small atmospheric pressure changes have infinitesimal effects on everyday activities."
   ]
  },
  {
   "cell_type": "code",
   "execution_count": 21,
   "metadata": {
    "ExecuteTime": {
     "end_time": "2022-12-01T08:57:03.379337Z",
     "start_time": "2022-12-01T08:57:03.366790Z"
    }
   },
   "outputs": [],
   "source": [
    "weather_clean = weather.drop(['Year', 'Month', 'Day', 'Time', 'Station Name', 'Climate ID', 'Longitude (x)', 'Latitude (y)', 'Stn Press (kPa)'], axis=1)"
   ]
  },
  {
   "cell_type": "markdown",
   "metadata": {},
   "source": [
    "* The 'Date/Time' column need to be converted to datetime variable and localized to 'EST' timezone.\n",
    "* The 'Weather' column is the visual observation of the weather environment and appears to be important. The missing values in this column means a clear weather. So missing values should be assigned with 'Clear'.\n",
    "* There are a number of columns containing the word 'Flag', and only contains NaN or 'M' values. According to Environment and Climate Change Canada, the 'M' represents 'missing' which means the data is unretrievable or unavailable. The flag columns can be removed since they only contain overlapping information."
   ]
  },
  {
   "cell_type": "code",
   "execution_count": 22,
   "metadata": {
    "ExecuteTime": {
     "end_time": "2022-12-01T08:57:03.394893Z",
     "start_time": "2022-12-01T08:57:03.381344Z"
    }
   },
   "outputs": [],
   "source": [
    "# Look for and drop the columns containing the word 'Flag'\n",
    "flag_columns = [col for col in weather.columns if 'Flag' in col]\n",
    "weather_clean = weather_clean.drop(flag_columns, axis = 1)"
   ]
  },
  {
   "cell_type": "code",
   "execution_count": 23,
   "metadata": {
    "ExecuteTime": {
     "end_time": "2022-12-01T08:57:03.426160Z",
     "start_time": "2022-12-01T08:57:03.397465Z"
    },
    "scrolled": false
   },
   "outputs": [
    {
     "name": "stdout",
     "output_type": "stream",
     "text": [
      "<class 'pandas.core.frame.DataFrame'>\n",
      "RangeIndex: 49656 entries, 0 to 49655\n",
      "Data columns (total 11 columns):\n",
      " #   Column               Non-Null Count  Dtype  \n",
      "---  ------               --------------  -----  \n",
      " 0   Date/Time            49656 non-null  object \n",
      " 1   Temp (°C)            49273 non-null  float64\n",
      " 2   Dew Point Temp (°C)  49012 non-null  float64\n",
      " 3   Rel Hum (%)          49026 non-null  float64\n",
      " 4   Wind Dir (10s deg)   46833 non-null  float64\n",
      " 5   Wind Spd (km/h)      49581 non-null  float64\n",
      " 6   Visibility (km)      49570 non-null  float64\n",
      " 7   Hmdx                 8134 non-null   float64\n",
      " 8   Wind Chill           8862 non-null   float64\n",
      " 9   Weather              7442 non-null   object \n",
      " 10  Precip. Amount (mm)  15318 non-null  float64\n",
      "dtypes: float64(9), object(2)\n",
      "memory usage: 4.2+ MB\n"
     ]
    }
   ],
   "source": [
    "weather_clean.info()"
   ]
  },
  {
   "cell_type": "code",
   "execution_count": 24,
   "metadata": {
    "ExecuteTime": {
     "end_time": "2022-12-01T08:57:03.473392Z",
     "start_time": "2022-12-01T08:57:03.428163Z"
    }
   },
   "outputs": [
    {
     "data": {
      "text/plain": [
       "array([ nan,  -6.,  -2.,  -9., -11., -13., -14., -15., -17., -16., -18.,\n",
       "       -19., -20., -21., -12., -10.,  -8.,  -7.,  -5.,  -4.,  -3., -22.,\n",
       "       -26., -24., -23., -25., -28., -29., -31., -30., -27., -32., -33.,\n",
       "       -35., -34., -36.,  -1.])"
      ]
     },
     "execution_count": 24,
     "metadata": {},
     "output_type": "execute_result"
    }
   ],
   "source": [
    "weather_clean['Wind Chill'].unique()"
   ]
  },
  {
   "cell_type": "code",
   "execution_count": 25,
   "metadata": {
    "ExecuteTime": {
     "end_time": "2022-12-01T08:57:03.488933Z",
     "start_time": "2022-12-01T08:57:03.476390Z"
    }
   },
   "outputs": [
    {
     "data": {
      "text/plain": [
       "array([ 69.,  67.,  68.,  66.,  70.,  63.,  59.,  56.,  54.,  57.,  61.,\n",
       "        71.,  76.,  74.,  77.,  85.,  83.,  79.,  78.,  84.,  90.,  82.,\n",
       "        87.,  88.,  72.,  73.,  81.,  92.,  95.,  94.,  96.,  97.,  98.,\n",
       "        93.,  80.,  65.,  53.,  60.,  64.,  58.,  62.,  49.,  47.,  48.,\n",
       "        52.,  55.,  75.,  46.,  42.,  89.,  91.,  86.,  99.,  50.,  51.,\n",
       "       100.,  45.,  43.,  41.,  38.,  36.,  40.,  44.,  32.,  34.,  25.,\n",
       "        29.,  31.,  33.,  37.,  35.,  26.,  39.,  30.,  nan,  18.,  19.,\n",
       "        27.,  28.,  20.,  24.,  23.,  17.,  21.,  16.,  22.])"
      ]
     },
     "execution_count": 25,
     "metadata": {},
     "output_type": "execute_result"
    }
   ],
   "source": [
    "weather['Rel Hum (%)'].unique()"
   ]
  },
  {
   "cell_type": "code",
   "execution_count": 26,
   "metadata": {
    "ExecuteTime": {
     "end_time": "2022-12-01T08:57:03.504984Z",
     "start_time": "2022-12-01T08:57:03.491931Z"
    },
    "scrolled": false
   },
   "outputs": [
    {
     "data": {
      "text/plain": [
       "array([26., 27., 23., 24., 25., 22., nan,  3.,  5.,  6.,  8.,  7., 10.,\n",
       "        9.,  4., 33., 28., 29., 31., 30., 32., 20., 21., 19., 18., 15.,\n",
       "       14., 12., 13., 16., 17., 34., 35., 11.,  1., 36.,  2.])"
      ]
     },
     "execution_count": 26,
     "metadata": {},
     "output_type": "execute_result"
    }
   ],
   "source": [
    "weather['Wind Dir (10s deg)'].unique()"
   ]
  },
  {
   "cell_type": "markdown",
   "metadata": {},
   "source": [
    "### Datetime data"
   ]
  },
  {
   "cell_type": "code",
   "execution_count": 27,
   "metadata": {
    "ExecuteTime": {
     "end_time": "2022-12-01T08:57:05.460295Z",
     "start_time": "2022-12-01T08:57:03.507987Z"
    }
   },
   "outputs": [],
   "source": [
    "# Convert 'Date/Time' column to datetime variables\n",
    "est = pytz.timezone('US/Eastern')\n",
    "utc = pytz.utc\n",
    "\n",
    "weather_clean['Date/Time'] = weather_clean['Date/Time'].apply(lambda _: est.localize(dt.datetime.strptime(_,'%Y-%m-%d %H:%M')))"
   ]
  },
  {
   "cell_type": "code",
   "execution_count": 28,
   "metadata": {
    "ExecuteTime": {
     "end_time": "2022-12-01T08:57:05.553577Z",
     "start_time": "2022-12-01T08:57:05.463298Z"
    },
    "scrolled": true
   },
   "outputs": [
    {
     "data": {
      "text/html": [
       "<div>\n",
       "<style scoped>\n",
       "    .dataframe tbody tr th:only-of-type {\n",
       "        vertical-align: middle;\n",
       "    }\n",
       "\n",
       "    .dataframe tbody tr th {\n",
       "        vertical-align: top;\n",
       "    }\n",
       "\n",
       "    .dataframe thead th {\n",
       "        text-align: right;\n",
       "    }\n",
       "</style>\n",
       "<table border=\"1\" class=\"dataframe\">\n",
       "  <thead>\n",
       "    <tr style=\"text-align: right;\">\n",
       "      <th></th>\n",
       "      <th>Temp (°C)</th>\n",
       "      <th>Dew Point Temp (°C)</th>\n",
       "      <th>Rel Hum (%)</th>\n",
       "      <th>Wind Dir (10s deg)</th>\n",
       "      <th>Wind Spd (km/h)</th>\n",
       "      <th>Visibility (km)</th>\n",
       "      <th>Hmdx</th>\n",
       "      <th>Wind Chill</th>\n",
       "      <th>Weather</th>\n",
       "      <th>Precip. Amount (mm)</th>\n",
       "    </tr>\n",
       "    <tr>\n",
       "      <th>Date/Time</th>\n",
       "      <th></th>\n",
       "      <th></th>\n",
       "      <th></th>\n",
       "      <th></th>\n",
       "      <th></th>\n",
       "      <th></th>\n",
       "      <th></th>\n",
       "      <th></th>\n",
       "      <th></th>\n",
       "      <th></th>\n",
       "    </tr>\n",
       "  </thead>\n",
       "  <tbody>\n",
       "    <tr>\n",
       "      <th>2017-01-01 00:00:00-05:00</th>\n",
       "      <td>1.5</td>\n",
       "      <td>-3.6</td>\n",
       "      <td>69.0</td>\n",
       "      <td>26.0</td>\n",
       "      <td>39.0</td>\n",
       "      <td>16.1</td>\n",
       "      <td>NaN</td>\n",
       "      <td>NaN</td>\n",
       "      <td>NaN</td>\n",
       "      <td>NaN</td>\n",
       "    </tr>\n",
       "    <tr>\n",
       "      <th>2017-01-01 01:00:00-05:00</th>\n",
       "      <td>1.5</td>\n",
       "      <td>-3.9</td>\n",
       "      <td>67.0</td>\n",
       "      <td>27.0</td>\n",
       "      <td>35.0</td>\n",
       "      <td>16.1</td>\n",
       "      <td>NaN</td>\n",
       "      <td>NaN</td>\n",
       "      <td>NaN</td>\n",
       "      <td>NaN</td>\n",
       "    </tr>\n",
       "    <tr>\n",
       "      <th>2017-01-01 02:00:00-05:00</th>\n",
       "      <td>1.0</td>\n",
       "      <td>-4.3</td>\n",
       "      <td>68.0</td>\n",
       "      <td>26.0</td>\n",
       "      <td>32.0</td>\n",
       "      <td>16.1</td>\n",
       "      <td>NaN</td>\n",
       "      <td>NaN</td>\n",
       "      <td>NaN</td>\n",
       "      <td>NaN</td>\n",
       "    </tr>\n",
       "    <tr>\n",
       "      <th>2017-01-01 03:00:00-05:00</th>\n",
       "      <td>1.2</td>\n",
       "      <td>-4.3</td>\n",
       "      <td>67.0</td>\n",
       "      <td>26.0</td>\n",
       "      <td>37.0</td>\n",
       "      <td>16.1</td>\n",
       "      <td>NaN</td>\n",
       "      <td>NaN</td>\n",
       "      <td>NaN</td>\n",
       "      <td>NaN</td>\n",
       "    </tr>\n",
       "    <tr>\n",
       "      <th>2017-01-01 04:00:00-05:00</th>\n",
       "      <td>1.3</td>\n",
       "      <td>-4.4</td>\n",
       "      <td>66.0</td>\n",
       "      <td>26.0</td>\n",
       "      <td>28.0</td>\n",
       "      <td>16.1</td>\n",
       "      <td>NaN</td>\n",
       "      <td>NaN</td>\n",
       "      <td>NaN</td>\n",
       "      <td>NaN</td>\n",
       "    </tr>\n",
       "  </tbody>\n",
       "</table>\n",
       "</div>"
      ],
      "text/plain": [
       "                           Temp (°C)  Dew Point Temp (°C)  Rel Hum (%)  \\\n",
       "Date/Time                                                                \n",
       "2017-01-01 00:00:00-05:00        1.5                 -3.6         69.0   \n",
       "2017-01-01 01:00:00-05:00        1.5                 -3.9         67.0   \n",
       "2017-01-01 02:00:00-05:00        1.0                 -4.3         68.0   \n",
       "2017-01-01 03:00:00-05:00        1.2                 -4.3         67.0   \n",
       "2017-01-01 04:00:00-05:00        1.3                 -4.4         66.0   \n",
       "\n",
       "                           Wind Dir (10s deg)  Wind Spd (km/h)  \\\n",
       "Date/Time                                                        \n",
       "2017-01-01 00:00:00-05:00                26.0             39.0   \n",
       "2017-01-01 01:00:00-05:00                27.0             35.0   \n",
       "2017-01-01 02:00:00-05:00                26.0             32.0   \n",
       "2017-01-01 03:00:00-05:00                26.0             37.0   \n",
       "2017-01-01 04:00:00-05:00                26.0             28.0   \n",
       "\n",
       "                           Visibility (km)  Hmdx  Wind Chill Weather  \\\n",
       "Date/Time                                                              \n",
       "2017-01-01 00:00:00-05:00             16.1   NaN         NaN     NaN   \n",
       "2017-01-01 01:00:00-05:00             16.1   NaN         NaN     NaN   \n",
       "2017-01-01 02:00:00-05:00             16.1   NaN         NaN     NaN   \n",
       "2017-01-01 03:00:00-05:00             16.1   NaN         NaN     NaN   \n",
       "2017-01-01 04:00:00-05:00             16.1   NaN         NaN     NaN   \n",
       "\n",
       "                           Precip. Amount (mm)  \n",
       "Date/Time                                       \n",
       "2017-01-01 00:00:00-05:00                  NaN  \n",
       "2017-01-01 01:00:00-05:00                  NaN  \n",
       "2017-01-01 02:00:00-05:00                  NaN  \n",
       "2017-01-01 03:00:00-05:00                  NaN  \n",
       "2017-01-01 04:00:00-05:00                  NaN  "
      ]
     },
     "execution_count": 28,
     "metadata": {},
     "output_type": "execute_result"
    }
   ],
   "source": [
    "weather_clean = weather_clean.set_index('Date/Time')\n",
    "weather_clean.head()"
   ]
  },
  {
   "cell_type": "markdown",
   "metadata": {},
   "source": [
    "### Missing Values"
   ]
  },
  {
   "cell_type": "code",
   "execution_count": 29,
   "metadata": {
    "ExecuteTime": {
     "end_time": "2022-12-01T08:57:05.584163Z",
     "start_time": "2022-12-01T08:57:05.556573Z"
    },
    "scrolled": false
   },
   "outputs": [
    {
     "data": {
      "text/html": [
       "<div>\n",
       "<style scoped>\n",
       "    .dataframe tbody tr th:only-of-type {\n",
       "        vertical-align: middle;\n",
       "    }\n",
       "\n",
       "    .dataframe tbody tr th {\n",
       "        vertical-align: top;\n",
       "    }\n",
       "\n",
       "    .dataframe thead th {\n",
       "        text-align: right;\n",
       "    }\n",
       "</style>\n",
       "<table border=\"1\" class=\"dataframe\">\n",
       "  <thead>\n",
       "    <tr style=\"text-align: right;\">\n",
       "      <th></th>\n",
       "      <th>count</th>\n",
       "    </tr>\n",
       "  </thead>\n",
       "  <tbody>\n",
       "    <tr>\n",
       "      <th>Temp (°C)</th>\n",
       "      <td>383</td>\n",
       "    </tr>\n",
       "    <tr>\n",
       "      <th>Dew Point Temp (°C)</th>\n",
       "      <td>644</td>\n",
       "    </tr>\n",
       "    <tr>\n",
       "      <th>Rel Hum (%)</th>\n",
       "      <td>630</td>\n",
       "    </tr>\n",
       "    <tr>\n",
       "      <th>Wind Dir (10s deg)</th>\n",
       "      <td>2823</td>\n",
       "    </tr>\n",
       "    <tr>\n",
       "      <th>Wind Spd (km/h)</th>\n",
       "      <td>75</td>\n",
       "    </tr>\n",
       "    <tr>\n",
       "      <th>Visibility (km)</th>\n",
       "      <td>86</td>\n",
       "    </tr>\n",
       "    <tr>\n",
       "      <th>Hmdx</th>\n",
       "      <td>41522</td>\n",
       "    </tr>\n",
       "    <tr>\n",
       "      <th>Wind Chill</th>\n",
       "      <td>40794</td>\n",
       "    </tr>\n",
       "    <tr>\n",
       "      <th>Weather</th>\n",
       "      <td>42214</td>\n",
       "    </tr>\n",
       "    <tr>\n",
       "      <th>Precip. Amount (mm)</th>\n",
       "      <td>34338</td>\n",
       "    </tr>\n",
       "  </tbody>\n",
       "</table>\n",
       "</div>"
      ],
      "text/plain": [
       "                     count\n",
       "Temp (°C)              383\n",
       "Dew Point Temp (°C)    644\n",
       "Rel Hum (%)            630\n",
       "Wind Dir (10s deg)    2823\n",
       "Wind Spd (km/h)         75\n",
       "Visibility (km)         86\n",
       "Hmdx                 41522\n",
       "Wind Chill           40794\n",
       "Weather              42214\n",
       "Precip. Amount (mm)  34338"
      ]
     },
     "metadata": {},
     "output_type": "display_data"
    }
   ],
   "source": [
    "# Check missing values\n",
    "display(weather_clean.isnull().sum(axis=0).to_frame('count'))"
   ]
  },
  {
   "cell_type": "markdown",
   "metadata": {},
   "source": [
    "'Hmdx', 'Wind Chill', and 'Weather' columns have significantly more missing values than the other columns."
   ]
  },
  {
   "cell_type": "code",
   "execution_count": 30,
   "metadata": {
    "ExecuteTime": {
     "end_time": "2022-12-01T08:57:05.911298Z",
     "start_time": "2022-12-01T08:57:05.587724Z"
    }
   },
   "outputs": [
    {
     "data": {
      "text/html": [
       "<div>\n",
       "<style scoped>\n",
       "    .dataframe tbody tr th:only-of-type {\n",
       "        vertical-align: middle;\n",
       "    }\n",
       "\n",
       "    .dataframe tbody tr th {\n",
       "        vertical-align: top;\n",
       "    }\n",
       "\n",
       "    .dataframe thead th {\n",
       "        text-align: right;\n",
       "    }\n",
       "</style>\n",
       "<table border=\"1\" class=\"dataframe\">\n",
       "  <thead>\n",
       "    <tr style=\"text-align: right;\">\n",
       "      <th></th>\n",
       "      <th>Temp (°C)</th>\n",
       "      <th>Dew Point Temp (°C)</th>\n",
       "      <th>Rel Hum (%)</th>\n",
       "      <th>Wind Dir (10s deg)</th>\n",
       "      <th>Wind Spd (km/h)</th>\n",
       "      <th>Visibility (km)</th>\n",
       "      <th>Hmdx</th>\n",
       "      <th>Wind Chill</th>\n",
       "      <th>Weather</th>\n",
       "      <th>Precip. Amount (mm)</th>\n",
       "    </tr>\n",
       "    <tr>\n",
       "      <th>Date/Time</th>\n",
       "      <th></th>\n",
       "      <th></th>\n",
       "      <th></th>\n",
       "      <th></th>\n",
       "      <th></th>\n",
       "      <th></th>\n",
       "      <th></th>\n",
       "      <th></th>\n",
       "      <th></th>\n",
       "      <th></th>\n",
       "    </tr>\n",
       "  </thead>\n",
       "  <tbody>\n",
       "    <tr>\n",
       "      <th>2017-12-31 00:00:00-05:00</th>\n",
       "      <td>11</td>\n",
       "      <td>11</td>\n",
       "      <td>10</td>\n",
       "      <td>530</td>\n",
       "      <td>9</td>\n",
       "      <td>11</td>\n",
       "      <td>7599</td>\n",
       "      <td>7251</td>\n",
       "      <td>7390</td>\n",
       "      <td>8760</td>\n",
       "    </tr>\n",
       "    <tr>\n",
       "      <th>2018-12-31 00:00:00-05:00</th>\n",
       "      <td>4</td>\n",
       "      <td>4</td>\n",
       "      <td>2</td>\n",
       "      <td>504</td>\n",
       "      <td>2</td>\n",
       "      <td>4</td>\n",
       "      <td>6979</td>\n",
       "      <td>7084</td>\n",
       "      <td>7336</td>\n",
       "      <td>8760</td>\n",
       "    </tr>\n",
       "    <tr>\n",
       "      <th>2019-12-31 00:00:00-05:00</th>\n",
       "      <td>95</td>\n",
       "      <td>145</td>\n",
       "      <td>145</td>\n",
       "      <td>595</td>\n",
       "      <td>23</td>\n",
       "      <td>24</td>\n",
       "      <td>7608</td>\n",
       "      <td>6936</td>\n",
       "      <td>7213</td>\n",
       "      <td>8760</td>\n",
       "    </tr>\n",
       "    <tr>\n",
       "      <th>2020-12-31 00:00:00-05:00</th>\n",
       "      <td>13</td>\n",
       "      <td>12</td>\n",
       "      <td>7</td>\n",
       "      <td>426</td>\n",
       "      <td>14</td>\n",
       "      <td>16</td>\n",
       "      <td>7211</td>\n",
       "      <td>7599</td>\n",
       "      <td>7494</td>\n",
       "      <td>8040</td>\n",
       "    </tr>\n",
       "    <tr>\n",
       "      <th>2021-12-31 00:00:00-05:00</th>\n",
       "      <td>26</td>\n",
       "      <td>52</td>\n",
       "      <td>47</td>\n",
       "      <td>476</td>\n",
       "      <td>21</td>\n",
       "      <td>16</td>\n",
       "      <td>7307</td>\n",
       "      <td>7383</td>\n",
       "      <td>7624</td>\n",
       "      <td>14</td>\n",
       "    </tr>\n",
       "    <tr>\n",
       "      <th>2022-12-31 00:00:00-05:00</th>\n",
       "      <td>234</td>\n",
       "      <td>420</td>\n",
       "      <td>419</td>\n",
       "      <td>292</td>\n",
       "      <td>6</td>\n",
       "      <td>15</td>\n",
       "      <td>4818</td>\n",
       "      <td>4541</td>\n",
       "      <td>5157</td>\n",
       "      <td>4</td>\n",
       "    </tr>\n",
       "  </tbody>\n",
       "</table>\n",
       "</div>"
      ],
      "text/plain": [
       "                           Temp (°C)  Dew Point Temp (°C)  Rel Hum (%)  \\\n",
       "Date/Time                                                                \n",
       "2017-12-31 00:00:00-05:00         11                   11           10   \n",
       "2018-12-31 00:00:00-05:00          4                    4            2   \n",
       "2019-12-31 00:00:00-05:00         95                  145          145   \n",
       "2020-12-31 00:00:00-05:00         13                   12            7   \n",
       "2021-12-31 00:00:00-05:00         26                   52           47   \n",
       "2022-12-31 00:00:00-05:00        234                  420          419   \n",
       "\n",
       "                           Wind Dir (10s deg)  Wind Spd (km/h)  \\\n",
       "Date/Time                                                        \n",
       "2017-12-31 00:00:00-05:00                 530                9   \n",
       "2018-12-31 00:00:00-05:00                 504                2   \n",
       "2019-12-31 00:00:00-05:00                 595               23   \n",
       "2020-12-31 00:00:00-05:00                 426               14   \n",
       "2021-12-31 00:00:00-05:00                 476               21   \n",
       "2022-12-31 00:00:00-05:00                 292                6   \n",
       "\n",
       "                           Visibility (km)  Hmdx  Wind Chill  Weather  \\\n",
       "Date/Time                                                               \n",
       "2017-12-31 00:00:00-05:00               11  7599        7251     7390   \n",
       "2018-12-31 00:00:00-05:00                4  6979        7084     7336   \n",
       "2019-12-31 00:00:00-05:00               24  7608        6936     7213   \n",
       "2020-12-31 00:00:00-05:00               16  7211        7599     7494   \n",
       "2021-12-31 00:00:00-05:00               16  7307        7383     7624   \n",
       "2022-12-31 00:00:00-05:00               15  4818        4541     5157   \n",
       "\n",
       "                           Precip. Amount (mm)  \n",
       "Date/Time                                       \n",
       "2017-12-31 00:00:00-05:00                 8760  \n",
       "2018-12-31 00:00:00-05:00                 8760  \n",
       "2019-12-31 00:00:00-05:00                 8760  \n",
       "2020-12-31 00:00:00-05:00                 8040  \n",
       "2021-12-31 00:00:00-05:00                   14  \n",
       "2022-12-31 00:00:00-05:00                    4  "
      ]
     },
     "metadata": {},
     "output_type": "display_data"
    }
   ],
   "source": [
    "# Check missing values for each year\n",
    "display(weather_clean.resample('Y').agg(lambda row: row.isnull().sum()))"
   ]
  },
  {
   "cell_type": "markdown",
   "metadata": {},
   "source": [
    "#### **Imputing/filling Hmdx and Wind Chill missing values**\n",
    "\n",
    "According to Environment and Climate Change Canada (https://climate.weather.gc.ca/glossary_e.html), the humidex values are only reported if:\n",
    "\n",
    "  (1) air temperature is greater than or equal to 20 degrees celsius and,\n",
    "  \n",
    "  (2) the humidex value is at least 1 degree greater than the air temperature. \n",
    "  \n",
    "Similarily, wind chill is only calculated if the air temperature is greater than or equal to 0 degrees celsius."
   ]
  },
  {
   "cell_type": "code",
   "execution_count": 31,
   "metadata": {
    "ExecuteTime": {
     "end_time": "2022-12-01T08:57:08.727883Z",
     "start_time": "2022-12-01T08:57:05.914814Z"
    }
   },
   "outputs": [
    {
     "data": {
      "text/plain": [
       "<matplotlib.legend.Legend at 0x2015d4d06a0>"
      ]
     },
     "execution_count": 31,
     "metadata": {},
     "output_type": "execute_result"
    },
    {
     "data": {
      "image/png": "[encoded data removed]",
      "text/plain": [
       "<Figure size 720x432 with 1 Axes>"
      ]
     },
     "metadata": {},
     "output_type": "display_data"
    }
   ],
   "source": [
    "# Visualizing number of missing values in 'Hmdx' and 'Wind Chill' columns\n",
    "weather_clean.resample('M').agg(lambda row: row.isnull().sum())[['Hmdx', 'Wind Chill']].plot(figsize = (10, 6))\n",
    "\n",
    "plt.title('Number of missing values for Hmdx and Wind Chill columns', fontsize = 18)\n",
    "plt.xlabel('Time', fontsize = 15)\n",
    "plt.ylabel('Missing Value Count', fontsize = 15)\n",
    "plt.legend(['Hmdx', 'Wind Chill'], fontsize = 14)"
   ]
  },
  {
   "cell_type": "markdown",
   "metadata": {},
   "source": [
    "We can find that there are more missing wind chill values and fewer missing humidex values in the summer, and vice versa in the winter. This agrees with the explanation provided by Environment and Climate Change Canada.\n",
    "\n",
    "Therefore, the missing values in 'Hmdx' and 'Wind Chill' should not be modified."
   ]
  },
  {
   "cell_type": "markdown",
   "metadata": {},
   "source": [
    "#### **Imputing/filling Weather missing values**"
   ]
  },
  {
   "cell_type": "code",
   "execution_count": 32,
   "metadata": {
    "ExecuteTime": {
     "end_time": "2022-12-01T08:57:08.759042Z",
     "start_time": "2022-12-01T08:57:08.730881Z"
    },
    "scrolled": false
   },
   "outputs": [
    {
     "data": {
      "text/html": [
       "<div>\n",
       "<style scoped>\n",
       "    .dataframe tbody tr th:only-of-type {\n",
       "        vertical-align: middle;\n",
       "    }\n",
       "\n",
       "    .dataframe tbody tr th {\n",
       "        vertical-align: top;\n",
       "    }\n",
       "\n",
       "    .dataframe thead th {\n",
       "        text-align: right;\n",
       "    }\n",
       "</style>\n",
       "<table border=\"1\" class=\"dataframe\">\n",
       "  <thead>\n",
       "    <tr style=\"text-align: right;\">\n",
       "      <th></th>\n",
       "      <th>Temp (°C)</th>\n",
       "      <th>Dew Point Temp (°C)</th>\n",
       "      <th>Rel Hum (%)</th>\n",
       "      <th>Wind Dir (10s deg)</th>\n",
       "      <th>Wind Spd (km/h)</th>\n",
       "      <th>Visibility (km)</th>\n",
       "      <th>Hmdx</th>\n",
       "      <th>Wind Chill</th>\n",
       "      <th>Weather</th>\n",
       "      <th>Precip. Amount (mm)</th>\n",
       "    </tr>\n",
       "    <tr>\n",
       "      <th>Date/Time</th>\n",
       "      <th></th>\n",
       "      <th></th>\n",
       "      <th></th>\n",
       "      <th></th>\n",
       "      <th></th>\n",
       "      <th></th>\n",
       "      <th></th>\n",
       "      <th></th>\n",
       "      <th></th>\n",
       "      <th></th>\n",
       "    </tr>\n",
       "  </thead>\n",
       "  <tbody>\n",
       "    <tr>\n",
       "      <th>2017-01-01 00:00:00-05:00</th>\n",
       "      <td>1.5</td>\n",
       "      <td>-3.6</td>\n",
       "      <td>69.0</td>\n",
       "      <td>26.0</td>\n",
       "      <td>39.0</td>\n",
       "      <td>16.1</td>\n",
       "      <td>NaN</td>\n",
       "      <td>NaN</td>\n",
       "      <td>Clear</td>\n",
       "      <td>NaN</td>\n",
       "    </tr>\n",
       "    <tr>\n",
       "      <th>2017-01-01 01:00:00-05:00</th>\n",
       "      <td>1.5</td>\n",
       "      <td>-3.9</td>\n",
       "      <td>67.0</td>\n",
       "      <td>27.0</td>\n",
       "      <td>35.0</td>\n",
       "      <td>16.1</td>\n",
       "      <td>NaN</td>\n",
       "      <td>NaN</td>\n",
       "      <td>Clear</td>\n",
       "      <td>NaN</td>\n",
       "    </tr>\n",
       "    <tr>\n",
       "      <th>2017-01-01 02:00:00-05:00</th>\n",
       "      <td>1.0</td>\n",
       "      <td>-4.3</td>\n",
       "      <td>68.0</td>\n",
       "      <td>26.0</td>\n",
       "      <td>32.0</td>\n",
       "      <td>16.1</td>\n",
       "      <td>NaN</td>\n",
       "      <td>NaN</td>\n",
       "      <td>Clear</td>\n",
       "      <td>NaN</td>\n",
       "    </tr>\n",
       "    <tr>\n",
       "      <th>2017-01-01 03:00:00-05:00</th>\n",
       "      <td>1.2</td>\n",
       "      <td>-4.3</td>\n",
       "      <td>67.0</td>\n",
       "      <td>26.0</td>\n",
       "      <td>37.0</td>\n",
       "      <td>16.1</td>\n",
       "      <td>NaN</td>\n",
       "      <td>NaN</td>\n",
       "      <td>Clear</td>\n",
       "      <td>NaN</td>\n",
       "    </tr>\n",
       "    <tr>\n",
       "      <th>2017-01-01 04:00:00-05:00</th>\n",
       "      <td>1.3</td>\n",
       "      <td>-4.4</td>\n",
       "      <td>66.0</td>\n",
       "      <td>26.0</td>\n",
       "      <td>28.0</td>\n",
       "      <td>16.1</td>\n",
       "      <td>NaN</td>\n",
       "      <td>NaN</td>\n",
       "      <td>Clear</td>\n",
       "      <td>NaN</td>\n",
       "    </tr>\n",
       "  </tbody>\n",
       "</table>\n",
       "</div>"
      ],
      "text/plain": [
       "                           Temp (°C)  Dew Point Temp (°C)  Rel Hum (%)  \\\n",
       "Date/Time                                                                \n",
       "2017-01-01 00:00:00-05:00        1.5                 -3.6         69.0   \n",
       "2017-01-01 01:00:00-05:00        1.5                 -3.9         67.0   \n",
       "2017-01-01 02:00:00-05:00        1.0                 -4.3         68.0   \n",
       "2017-01-01 03:00:00-05:00        1.2                 -4.3         67.0   \n",
       "2017-01-01 04:00:00-05:00        1.3                 -4.4         66.0   \n",
       "\n",
       "                           Wind Dir (10s deg)  Wind Spd (km/h)  \\\n",
       "Date/Time                                                        \n",
       "2017-01-01 00:00:00-05:00                26.0             39.0   \n",
       "2017-01-01 01:00:00-05:00                27.0             35.0   \n",
       "2017-01-01 02:00:00-05:00                26.0             32.0   \n",
       "2017-01-01 03:00:00-05:00                26.0             37.0   \n",
       "2017-01-01 04:00:00-05:00                26.0             28.0   \n",
       "\n",
       "                           Visibility (km)  Hmdx  Wind Chill Weather  \\\n",
       "Date/Time                                                              \n",
       "2017-01-01 00:00:00-05:00             16.1   NaN         NaN   Clear   \n",
       "2017-01-01 01:00:00-05:00             16.1   NaN         NaN   Clear   \n",
       "2017-01-01 02:00:00-05:00             16.1   NaN         NaN   Clear   \n",
       "2017-01-01 03:00:00-05:00             16.1   NaN         NaN   Clear   \n",
       "2017-01-01 04:00:00-05:00             16.1   NaN         NaN   Clear   \n",
       "\n",
       "                           Precip. Amount (mm)  \n",
       "Date/Time                                       \n",
       "2017-01-01 00:00:00-05:00                  NaN  \n",
       "2017-01-01 01:00:00-05:00                  NaN  \n",
       "2017-01-01 02:00:00-05:00                  NaN  \n",
       "2017-01-01 03:00:00-05:00                  NaN  \n",
       "2017-01-01 04:00:00-05:00                  NaN  "
      ]
     },
     "execution_count": 32,
     "metadata": {},
     "output_type": "execute_result"
    }
   ],
   "source": [
    "# Modifying missing values in 'Weather' column\n",
    "weather_clean['Weather'].fillna('Clear', inplace = True)\n",
    "weather_clean.head()"
   ]
  },
  {
   "cell_type": "markdown",
   "metadata": {},
   "source": [
    "#### **Imputing/filling missing values for other columns**\n",
    "\n",
    "The weather data is sampled every hour, so it should be reasonable to impute missing values based on the time-adjacent valid observations. Except for 'Hmdx', 'Wind Chill', and 'Weather' columns, all other columns will have missing values filled using linear interpolation between valid observations."
   ]
  },
  {
   "cell_type": "code",
   "execution_count": 33,
   "metadata": {
    "ExecuteTime": {
     "end_time": "2022-12-01T08:57:08.822236Z",
     "start_time": "2022-12-01T08:57:08.762042Z"
    }
   },
   "outputs": [],
   "source": [
    "# Linear interpolating values \n",
    "interpolating_col = weather_clean.columns.drop(['Hmdx', 'Wind Chill', 'Weather'])\n",
    "weather_clean[interpolating_col] = weather_clean[interpolating_col].interpolate(\n",
    "    method = 'linear', axis = 0, limit_direction = 'both').round(1)"
   ]
  },
  {
   "cell_type": "code",
   "execution_count": 34,
   "metadata": {
    "ExecuteTime": {
     "end_time": "2022-12-01T08:57:08.853527Z",
     "start_time": "2022-12-01T08:57:08.825238Z"
    },
    "scrolled": false
   },
   "outputs": [
    {
     "data": {
      "text/html": [
       "<div>\n",
       "<style scoped>\n",
       "    .dataframe tbody tr th:only-of-type {\n",
       "        vertical-align: middle;\n",
       "    }\n",
       "\n",
       "    .dataframe tbody tr th {\n",
       "        vertical-align: top;\n",
       "    }\n",
       "\n",
       "    .dataframe thead th {\n",
       "        text-align: right;\n",
       "    }\n",
       "</style>\n",
       "<table border=\"1\" class=\"dataframe\">\n",
       "  <thead>\n",
       "    <tr style=\"text-align: right;\">\n",
       "      <th></th>\n",
       "      <th>count</th>\n",
       "    </tr>\n",
       "  </thead>\n",
       "  <tbody>\n",
       "    <tr>\n",
       "      <th>Temp (°C)</th>\n",
       "      <td>0</td>\n",
       "    </tr>\n",
       "    <tr>\n",
       "      <th>Dew Point Temp (°C)</th>\n",
       "      <td>0</td>\n",
       "    </tr>\n",
       "    <tr>\n",
       "      <th>Rel Hum (%)</th>\n",
       "      <td>0</td>\n",
       "    </tr>\n",
       "    <tr>\n",
       "      <th>Wind Dir (10s deg)</th>\n",
       "      <td>0</td>\n",
       "    </tr>\n",
       "    <tr>\n",
       "      <th>Wind Spd (km/h)</th>\n",
       "      <td>0</td>\n",
       "    </tr>\n",
       "    <tr>\n",
       "      <th>Visibility (km)</th>\n",
       "      <td>0</td>\n",
       "    </tr>\n",
       "    <tr>\n",
       "      <th>Hmdx</th>\n",
       "      <td>41522</td>\n",
       "    </tr>\n",
       "    <tr>\n",
       "      <th>Wind Chill</th>\n",
       "      <td>40794</td>\n",
       "    </tr>\n",
       "    <tr>\n",
       "      <th>Weather</th>\n",
       "      <td>0</td>\n",
       "    </tr>\n",
       "    <tr>\n",
       "      <th>Precip. Amount (mm)</th>\n",
       "      <td>0</td>\n",
       "    </tr>\n",
       "  </tbody>\n",
       "</table>\n",
       "</div>"
      ],
      "text/plain": [
       "                     count\n",
       "Temp (°C)                0\n",
       "Dew Point Temp (°C)      0\n",
       "Rel Hum (%)              0\n",
       "Wind Dir (10s deg)       0\n",
       "Wind Spd (km/h)          0\n",
       "Visibility (km)          0\n",
       "Hmdx                 41522\n",
       "Wind Chill           40794\n",
       "Weather                  0\n",
       "Precip. Amount (mm)      0"
      ]
     },
     "execution_count": 34,
     "metadata": {},
     "output_type": "execute_result"
    }
   ],
   "source": [
    "# Check if there are still missing values\n",
    "weather_clean.isnull().sum(axis=0).to_frame('count')"
   ]
  },
  {
   "cell_type": "markdown",
   "metadata": {},
   "source": [
    "### Outliers"
   ]
  },
  {
   "cell_type": "markdown",
   "metadata": {
    "ExecuteTime": {
     "end_time": "2022-11-29T22:36:25.138922Z",
     "start_time": "2022-11-29T22:36:25.125371Z"
    }
   },
   "source": [
    "Check if there are outliers for temperature."
   ]
  },
  {
   "cell_type": "code",
   "execution_count": 35,
   "metadata": {
    "ExecuteTime": {
     "end_time": "2022-12-01T08:57:09.041366Z",
     "start_time": "2022-12-01T08:57:08.856537Z"
    }
   },
   "outputs": [
    {
     "data": {
      "image/png": "[encoded data removed]",
      "text/plain": [
       "<Figure size 432x288 with 1 Axes>"
      ]
     },
     "metadata": {},
     "output_type": "display_data"
    }
   ],
   "source": [
    "# draw boxplots to visualize outliers\n",
    "plt.figure()\n",
    "weather_clean.boxplot(column='Temp (°C)')\n",
    "plt.show()"
   ]
  },
  {
   "cell_type": "markdown",
   "metadata": {},
   "source": [
    "There is no need to remove outliers. The weather data is cleaned!"
   ]
  },
  {
   "cell_type": "code",
   "execution_count": 36,
   "metadata": {
    "ExecuteTime": {
     "end_time": "2022-12-01T08:57:09.072293Z",
     "start_time": "2022-12-01T08:57:09.044381Z"
    }
   },
   "outputs": [
    {
     "name": "stdout",
     "output_type": "stream",
     "text": [
      "<class 'pandas.core.frame.DataFrame'>\n",
      "DatetimeIndex: 49656 entries, 2017-01-01 00:00:00-05:00 to 2021-12-31 23:00:00-05:00\n",
      "Data columns (total 10 columns):\n",
      " #   Column               Non-Null Count  Dtype  \n",
      "---  ------               --------------  -----  \n",
      " 0   Temp (°C)            49656 non-null  float64\n",
      " 1   Dew Point Temp (°C)  49656 non-null  float64\n",
      " 2   Rel Hum (%)          49656 non-null  float64\n",
      " 3   Wind Dir (10s deg)   49656 non-null  float64\n",
      " 4   Wind Spd (km/h)      49656 non-null  float64\n",
      " 5   Visibility (km)      49656 non-null  float64\n",
      " 6   Hmdx                 8134 non-null   float64\n",
      " 7   Wind Chill           8862 non-null   float64\n",
      " 8   Weather              49656 non-null  object \n",
      " 9   Precip. Amount (mm)  49656 non-null  float64\n",
      "dtypes: float64(9), object(1)\n",
      "memory usage: 4.2+ MB\n"
     ]
    }
   ],
   "source": [
    "weather_clean.info()"
   ]
  },
  {
   "cell_type": "markdown",
   "metadata": {},
   "source": [
    "## Bike Share Trip Data"
   ]
  },
  {
   "cell_type": "markdown",
   "metadata": {},
   "source": [
    "### Load Bike Share Trip Data"
   ]
  },
  {
   "cell_type": "code",
   "execution_count": 43,
   "metadata": {
    "ExecuteTime": {
     "end_time": "2022-12-01T08:57:09.088287Z",
     "start_time": "2022-12-01T08:57:09.074777Z"
    }
   },
   "outputs": [],
   "source": [
    "# Define the rubbish character in front of the 'trip id' columns in some files\n",
    "rubbish = ''.join([chr(c) for c in codecs.BOM_UTF8])\n",
    "\n",
    "def read_bikeshare_csv(path):\n",
    "    \"\"\"\n",
    "    Create a function t\"o read bike share trips csv files without the rubbish character.\n",
    "    \"\"\"\n",
    "    with open(path, encoding='utf-8') as f:\n",
    "        txt = f.read()\n",
    "        if txt.startswith(rubbish):\n",
    "            txt = txt[len(rubbish):]\n",
    "            \n",
    "        return pd.read_csv(StringIO(txt), encoding='utf-8', encoding_errors='ignore')"
   ]
  },
  {
   "cell_type": "code",
   "execution_count": 44,
   "metadata": {
    "ExecuteTime": {
     "end_time": "2022-12-01T08:57:40.850538Z",
     "start_time": "2022-12-01T08:57:09.097834Z"
    },
    "scrolled": true
   },
   "outputs": [],
   "source": [
    "# Set bikeshare data path\n",
    "path_ridership = os.path.join(os.path.abspath(os.getcwd()), 'data', 'ridership')\n",
    "\n",
    "# Create a list of file names for bike share trips data\n",
    "trips_filenames = [filename for filename in os.listdir(path_ridership) if 'bike_share' in filename]\n",
    "\n",
    "# Create a dictionary where key:value pairs correspond to the file name and DataFrame respectively\n",
    "trips_data = {filename: read_bikeshare_csv(os.path.join(path_ridership, filename)) for filename in trips_filenames}  "
   ]
  },
  {
   "cell_type": "code",
   "execution_count": 45,
   "metadata": {
    "ExecuteTime": {
     "end_time": "2022-12-01T08:57:40.866099Z",
     "start_time": "2022-12-01T08:57:40.852540Z"
    }
   },
   "outputs": [
    {
     "name": "stdout",
     "output_type": "stream",
     "text": [
      "['trip_id', 'trip_start_time', 'trip_stop_time', 'trip_duration_seconds', 'from_station_id', 'from_station_name', 'to_station_id', 'to_station_name', 'user_type']\n",
      "['trip_id', 'trip_start_time', 'trip_stop_time', 'trip_duration_seconds', 'from_station_id', 'from_station_name', 'to_station_id', 'to_station_name', 'user_type']\n",
      "['trip_id', 'trip_start_time', 'trip_stop_time', 'trip_duration_seconds', 'from_station_id', 'from_station_name', 'to_station_id', 'to_station_name', 'user_type']\n",
      "['trip_id', 'trip_start_time', 'trip_stop_time', 'trip_duration_seconds', 'from_station_id', 'from_station_name', 'to_station_id', 'to_station_name', 'user_type']\n",
      "['trip_id', 'trip_start_time', 'trip_stop_time', 'trip_duration_seconds', 'from_station_id', 'from_station_name', 'to_station_id', 'to_station_name', 'user_type']\n",
      "['trip_id', 'trip_start_time', 'trip_stop_time', 'trip_duration_seconds', 'from_station_id', 'from_station_name', 'to_station_id', 'to_station_name', 'user_type']\n",
      "['trip_id', 'trip_start_time', 'trip_stop_time', 'trip_duration_seconds', 'from_station_id', 'from_station_name', 'to_station_id', 'to_station_name', 'user_type']\n",
      "['trip_id', 'trip_start_time', 'trip_stop_time', 'trip_duration_seconds', 'from_station_id', 'from_station_name', 'to_station_id', 'to_station_name', 'user_type']\n",
      "['trip_id', 'trip_start_time', 'trip_stop_time', 'trip_duration_seconds', 'from_station_id', 'from_station_name', 'to_station_id', 'to_station_name', 'user_type']\n",
      "['trip_id', 'trip_start_time', 'trip_stop_time', 'trip_duration_seconds', 'from_station_id', 'from_station_name', 'to_station_id', 'to_station_name', 'user_type']\n",
      "['trip_id', 'trip_start_time', 'trip_stop_time', 'trip_duration_seconds', 'from_station_id', 'from_station_name', 'to_station_id', 'to_station_name', 'user_type']\n",
      "['trip_id', 'trip_start_time', 'trip_stop_time', 'trip_duration_seconds', 'from_station_id', 'from_station_name', 'to_station_id', 'to_station_name', 'user_type']\n",
      "['trip_id', 'trip_duration_seconds', 'from_station_id', 'trip_start_time', 'from_station_name', 'trip_stop_time', 'to_station_id', 'to_station_name', 'user_type']\n",
      "['trip_id', 'trip_duration_seconds', 'from_station_id', 'trip_start_time', 'from_station_name', 'trip_stop_time', 'to_station_id', 'to_station_name', 'user_type']\n",
      "['trip_id', 'trip_duration_seconds', 'from_station_id', 'trip_start_time', 'from_station_name', 'trip_stop_time', 'to_station_id', 'to_station_name', 'user_type']\n",
      "['trip_id', 'trip_duration_seconds', 'from_station_id', 'trip_start_time', 'from_station_name', 'trip_stop_time', 'to_station_id', 'to_station_name', 'user_type']\n",
      "['trip_id', 'trip_duration_seconds', 'from_station_id', 'trip_start_time', 'from_station_name', 'trip_stop_time', 'to_station_id', 'to_station_name', 'user_type']\n",
      "['trip_id', 'trip_duration_seconds', 'from_station_id', 'trip_start_time', 'from_station_name', 'trip_stop_time', 'to_station_id', 'to_station_name', 'user_type']\n",
      "['trip_id', 'trip_duration_seconds', 'from_station_id', 'trip_start_time', 'from_station_name', 'trip_stop_time', 'to_station_id', 'to_station_name', 'user_type']\n",
      "['trip_id', 'trip_duration_seconds', 'from_station_id', 'trip_start_time', 'from_station_name', 'trip_stop_time', 'to_station_id', 'to_station_name', 'user_type']\n",
      "['trip_id', 'trip_duration_seconds', 'from_station_id', 'trip_start_time', 'from_station_name', 'trip_stop_time', 'to_station_id', 'to_station_name', 'user_type']\n",
      "['trip_id', 'trip_duration_seconds', 'from_station_id', 'trip_start_time', 'from_station_name', 'trip_stop_time', 'to_station_id', 'to_station_name', 'user_type']\n",
      "['trip_id', 'trip_duration_seconds', 'from_station_id', 'trip_start_time', 'from_station_name', 'trip_stop_time', 'to_station_id', 'to_station_name', 'user_type']\n",
      "['trip_id', 'trip_duration_seconds', 'from_station_id', 'trip_start_time', 'from_station_name', 'trip_stop_time', 'to_station_id', 'to_station_name', 'user_type']\n",
      "['Trip Id', 'Subscription Id', 'Trip  Duration', 'Start Station Id', 'Start Time', 'Start Station Name', 'End Station Id', 'End Time', 'End Station Name', 'Bike Id', 'User Type']\n",
      "['Trip Id', 'Subscription Id', 'Trip  Duration', 'Start Station Id', 'Start Time', 'Start Station Name', 'End Station Id', 'End Time', 'End Station Name', 'Bike Id', 'User Type']\n",
      "['Trip Id', 'Subscription Id', 'Trip  Duration', 'Start Station Id', 'Start Time', 'Start Station Name', 'End Station Id', 'End Time', 'End Station Name', 'Bike Id', 'User Type']\n",
      "['Trip Id', 'Subscription Id', 'Trip  Duration', 'Start Station Id', 'Start Time', 'Start Station Name', 'End Station Id', 'End Time', 'End Station Name', 'Bike Id', 'User Type']\n",
      "['Trip Id', 'Subscription Id', 'Trip  Duration', 'Start Station Id', 'Start Time', 'Start Station Name', 'End Station Id', 'End Time', 'End Station Name', 'Bike Id', 'User Type']\n",
      "['Trip Id', 'Subscription Id', 'Trip  Duration', 'Start Station Id', 'Start Time', 'Start Station Name', 'End Station Id', 'End Time', 'End Station Name', 'Bike Id', 'User Type']\n",
      "['Trip Id', 'Subscription Id', 'Trip  Duration', 'Start Station Id', 'Start Time', 'Start Station Name', 'End Station Id', 'End Time', 'End Station Name', 'Bike Id', 'User Type']\n",
      "['Trip Id', 'Subscription Id', 'Trip  Duration', 'Start Station Id', 'Start Time', 'Start Station Name', 'End Station Id', 'End Time', 'End Station Name', 'Bike Id', 'User Type']\n",
      "['Trip Id', 'Subscription Id', 'Trip  Duration', 'Start Station Id', 'Start Time', 'Start Station Name', 'End Station Id', 'End Time', 'End Station Name', 'Bike Id', 'User Type']\n",
      "['Trip Id', 'Subscription Id', 'Trip  Duration', 'Start Station Id', 'Start Time', 'Start Station Name', 'End Station Id', 'End Time', 'End Station Name', 'Bike Id', 'User Type']\n",
      "['Trip Id', 'Subscription Id', 'Trip  Duration', 'Start Station Id', 'Start Time', 'Start Station Name', 'End Station Id', 'End Time', 'End Station Name', 'Bike Id', 'User Type']\n",
      "['Trip Id', 'Subscription Id', 'Trip  Duration', 'Start Station Id', 'Start Time', 'Start Station Name', 'End Station Id', 'End Time', 'End Station Name', 'Bike Id', 'User Type']\n",
      "['Trip Id', 'Subscription Id', 'Trip  Duration', 'Start Station Id', 'Start Time', 'Start Station Name', 'End Station Id', 'End Time', 'End Station Name', 'Bike Id', 'User Type']\n",
      "['Trip Id', 'Subscription Id', 'Trip  Duration', 'Start Station Id', 'Start Time', 'Start Station Name', 'End Station Id', 'End Time', 'End Station Name', 'Bike Id', 'User Type']\n",
      "['Trip Id', 'Trip  Duration', 'Start Station Id', 'Start Time', 'Start Station Name', 'End Station Id', 'End Time', 'End Station Name', 'Bike Id', 'User Type']\n",
      "['Trip Id', 'Trip  Duration', 'Start Station Id', 'Start Time', 'Start Station Name', 'End Station Id', 'End Time', 'End Station Name', 'Bike Id', 'User Type']\n",
      "['Trip Id', 'Subscription Id', 'Trip  Duration', 'Start Station Id', 'Start Time', 'Start Station Name', 'End Station Id', 'End Time', 'End Station Name', 'Bike Id', 'User Type']\n",
      "['Trip Id', 'Subscription Id', 'Trip  Duration', 'Start Station Id', 'Start Time', 'Start Station Name', 'End Station Id', 'End Time', 'End Station Name', 'Bike Id', 'User Type']\n",
      "['Trip Id', 'Subscription Id', 'Trip  Duration', 'Start Station Id', 'Start Time', 'Start Station Name', 'End Station Id', 'End Time', 'End Station Name', 'Bike Id', 'User Type']\n",
      "['Trip Id', 'Subscription Id', 'Trip  Duration', 'Start Station Id', 'Start Time', 'Start Station Name', 'End Station Id', 'End Time', 'End Station Name', 'Bike Id', 'User Type']\n",
      "['Trip Id', 'Subscription Id', 'Trip  Duration', 'Start Station Id', 'Start Time', 'Start Station Name', 'End Station Id', 'End Time', 'End Station Name', 'Bike Id', 'User Type']\n",
      "['Trip Id', 'Subscription Id', 'Trip  Duration', 'Start Station Id', 'Start Time', 'Start Station Name', 'End Station Id', 'End Time', 'End Station Name', 'Bike Id', 'User Type']\n",
      "['Trip Id', 'Subscription Id', 'Trip  Duration', 'Start Station Id', 'Start Time', 'Start Station Name', 'End Station Id', 'End Time', 'End Station Name', 'Bike Id', 'User Type']\n",
      "['Trip Id', 'Subscription Id', 'Trip  Duration', 'Start Station Id', 'Start Time', 'Start Station Name', 'End Station Id', 'End Time', 'End Station Name', 'Bike Id', 'User Type']\n",
      "['Trip Id', 'Trip  Duration', 'Start Station Id', 'Start Time', 'Start Station Name', 'End Station Id', 'End Time', 'End Station Name', 'Bike Id', 'User Type']\n",
      "['Trip Id', 'Trip  Duration', 'Start Station Id', 'Start Time', 'Start Station Name', 'End Station Id', 'End Time', 'End Station Name', 'Bike Id', 'User Type']\n",
      "['Trip Id', 'Trip  Duration', 'Start Station Id', 'Start Time', 'Start Station Name', 'End Station Id', 'End Time', 'End Station Name', 'Bike Id', 'User Type']\n",
      "['Trip Id', 'Trip  Duration', 'Start Station Id', 'Start Time', 'Start Station Name', 'End Station Id', 'End Time', 'End Station Name', 'Bike Id', 'User Type']\n",
      "['Trip Id', 'Trip  Duration', 'Start Station Id', 'Start Time', 'Start Station Name', 'End Station Id', 'End Time', 'End Station Name', 'Bike Id', 'User Type']\n",
      "['Trip Id', 'Trip  Duration', 'Start Station Id', 'Start Time', 'Start Station Name', 'End Station Id', 'End Time', 'End Station Name', 'Bike Id', 'User Type']\n",
      "['Trip Id', 'Trip  Duration', 'Start Station Id', 'Start Time', 'Start Station Name', 'End Station Id', 'End Time', 'End Station Name', 'Bike Id', 'User Type']\n",
      "['Trip Id', 'Trip  Duration', 'Start Station Id', 'Start Time', 'Start Station Name', 'End Station Id', 'End Time', 'End Station Name', 'Bike Id', 'User Type']\n",
      "['Trip Id', 'Trip  Duration', 'Start Station Id', 'Start Time', 'Start Station Name', 'End Station Id', 'End Time', 'End Station Name', 'Bike Id', 'User Type']\n",
      "['Trip Id', 'Trip  Duration', 'Start Station Id', 'Start Time', 'Start Station Name', 'End Station Id', 'End Time', 'End Station Name', 'Bike Id', 'User Type']\n",
      "['Trip Id', 'Trip  Duration', 'Start Station Id', 'Start Time', 'Start Station Name', 'End Station Id', 'End Time', 'End Station Name', 'Bike Id', 'User Type']\n",
      "['Trip Id', 'Trip  Duration', 'Start Station Id', 'Start Time', 'Start Station Name', 'End Station Id', 'End Time', 'End Station Name', 'Bike Id', 'User Type']\n",
      "['Trip Id', 'Trip  Duration', 'Start Station Id', 'Start Time', 'Start Station Name', 'End Station Id', 'End Time', 'End Station Name', 'Bike Id', 'User Type']\n",
      "['Trip Id', 'Trip  Duration', 'Start Station Id', 'Start Time', 'Start Station Name', 'End Station Id', 'End Time', 'End Station Name', 'Bike Id', 'User Type']\n",
      "['Trip Id', 'Trip  Duration', 'Start Station Id', 'Start Time', 'Start Station Name', 'End Station Id', 'End Time', 'End Station Name', 'Bike Id', 'User Type']\n",
      "['Trip Id', 'Trip  Duration', 'Start Station Id', 'Start Time', 'Start Station Name', 'End Station Id', 'End Time', 'End Station Name', 'Bike Id', 'User Type']\n",
      "['Trip Id', 'Trip  Duration', 'Start Station Id', 'Start Time', 'Start Station Name', 'End Station Id', 'End Time', 'End Station Name', 'Bike Id', 'User Type']\n",
      "['Trip Id', 'Trip  Duration', 'Start Station Id', 'Start Time', 'Start Station Name', 'End Station Id', 'End Time', 'End Station Name', 'Bike Id', 'User Type']\n",
      "['Trip Id', 'Trip  Duration', 'Start Station Id', 'Start Time', 'Start Station Name', 'End Station Id', 'End Time', 'End Station Name', 'Bike Id', 'User Type']\n",
      "['Trip Id', 'Trip  Duration', 'Start Station Id', 'Start Time', 'Start Station Name', 'End Station Id', 'End Time', 'End Station Name', 'Bike Id', 'User Type']\n"
     ]
    }
   ],
   "source": [
    "# Check the column names of all files\n",
    "for filename in trips_filenames:\n",
    "    print(format(trips_data[filename].columns.tolist()))"
   ]
  },
  {
   "cell_type": "code",
   "execution_count": 46,
   "metadata": {
    "ExecuteTime": {
     "end_time": "2022-12-01T08:57:40.897088Z",
     "start_time": "2022-12-01T08:57:40.869111Z"
    },
    "scrolled": true
   },
   "outputs": [],
   "source": [
    "# Rename the columns in 2017 and 2018 data\n",
    "trips_rename = {\n",
    "    'trip_id' : 'Trip Id',\n",
    "    'trip_start_time' : 'Start Time',\n",
    "    'trip_stop_time' : 'End Time',\n",
    "    'trip_duration_seconds' : 'Trip Duration',\n",
    "    'from_station_id' : 'Start Station Id',\n",
    "    'from_station_name' : 'Start Station Name',\n",
    "    'to_station_id' : 'End Station Id',\n",
    "    'to_station_name' : 'End Station Name',\n",
    "    'user_type' : 'User Type'\n",
    "}\n",
    "\n",
    "for filename in trips_filenames:\n",
    "    if ('2017' in filename) or ('2018' in filename):\n",
    "        trips_data[filename].rename(columns=trips_rename, inplace=True)\n",
    "    else:\n",
    "        trips_data[filename].rename(columns={'Trip  Duration' : 'Trip Duration'}, inplace=True)"
   ]
  },
  {
   "cell_type": "code",
   "execution_count": 47,
   "metadata": {
    "ExecuteTime": {
     "end_time": "2022-12-01T08:57:41.396232Z",
     "start_time": "2022-12-01T08:57:40.899085Z"
    },
    "scrolled": true
   },
   "outputs": [
    {
     "data": {
      "text/html": [
       "<div>\n",
       "<style scoped>\n",
       "    .dataframe tbody tr th:only-of-type {\n",
       "        vertical-align: middle;\n",
       "    }\n",
       "\n",
       "    .dataframe tbody tr th {\n",
       "        vertical-align: top;\n",
       "    }\n",
       "\n",
       "    .dataframe thead th {\n",
       "        text-align: right;\n",
       "    }\n",
       "</style>\n",
       "<table border=\"1\" class=\"dataframe\">\n",
       "  <thead>\n",
       "    <tr style=\"text-align: right;\">\n",
       "      <th></th>\n",
       "      <th>Trip Id</th>\n",
       "      <th>Start Time</th>\n",
       "      <th>End Time</th>\n",
       "      <th>Trip Duration</th>\n",
       "      <th>Start Station Id</th>\n",
       "      <th>Start Station Name</th>\n",
       "      <th>End Station Id</th>\n",
       "      <th>End Station Name</th>\n",
       "      <th>User Type</th>\n",
       "      <th>Subscription Id</th>\n",
       "      <th>Bike Id</th>\n",
       "    </tr>\n",
       "  </thead>\n",
       "  <tbody>\n",
       "    <tr>\n",
       "      <th>0</th>\n",
       "      <td>712441</td>\n",
       "      <td>2017-01-01 05:03 (UTC)</td>\n",
       "      <td>2017-01-01 05:08 (UTC)</td>\n",
       "      <td>274</td>\n",
       "      <td>7006.0</td>\n",
       "      <td>Bay St / College St (East Side)</td>\n",
       "      <td>7021.0</td>\n",
       "      <td>Bay St / Albert St</td>\n",
       "      <td>Member</td>\n",
       "      <td>NaN</td>\n",
       "      <td>NaN</td>\n",
       "    </tr>\n",
       "    <tr>\n",
       "      <th>1</th>\n",
       "      <td>712442</td>\n",
       "      <td>2017-01-01 05:03 (UTC)</td>\n",
       "      <td>2017-01-01 05:12 (UTC)</td>\n",
       "      <td>538</td>\n",
       "      <td>7046.0</td>\n",
       "      <td>Niagara St / Richmond St W</td>\n",
       "      <td>7147.0</td>\n",
       "      <td>King St W / Fraser Ave</td>\n",
       "      <td>Member</td>\n",
       "      <td>NaN</td>\n",
       "      <td>NaN</td>\n",
       "    </tr>\n",
       "    <tr>\n",
       "      <th>2</th>\n",
       "      <td>712443</td>\n",
       "      <td>2017-01-01 05:05 (UTC)</td>\n",
       "      <td>2017-01-01 05:22 (UTC)</td>\n",
       "      <td>992</td>\n",
       "      <td>7048.0</td>\n",
       "      <td>Front St / Yonge St (Hockey Hall of Fame)</td>\n",
       "      <td>7089.0</td>\n",
       "      <td>Church St  / Wood St</td>\n",
       "      <td>Member</td>\n",
       "      <td>NaN</td>\n",
       "      <td>NaN</td>\n",
       "    </tr>\n",
       "    <tr>\n",
       "      <th>3</th>\n",
       "      <td>712444</td>\n",
       "      <td>2017-01-01 05:09 (UTC)</td>\n",
       "      <td>2017-01-01 05:26 (UTC)</td>\n",
       "      <td>1005</td>\n",
       "      <td>7177.0</td>\n",
       "      <td>East Liberty St / Pirandello St</td>\n",
       "      <td>7202.0</td>\n",
       "      <td>Queen St W / York St (City Hall)</td>\n",
       "      <td>Member</td>\n",
       "      <td>NaN</td>\n",
       "      <td>NaN</td>\n",
       "    </tr>\n",
       "    <tr>\n",
       "      <th>4</th>\n",
       "      <td>712445</td>\n",
       "      <td>2017-01-01 05:14 (UTC)</td>\n",
       "      <td>2017-01-01 05:25 (UTC)</td>\n",
       "      <td>645</td>\n",
       "      <td>7203.0</td>\n",
       "      <td>Bathurst St / Queens Quay W</td>\n",
       "      <td>7010.0</td>\n",
       "      <td>King St W / Spadina Ave</td>\n",
       "      <td>Member</td>\n",
       "      <td>NaN</td>\n",
       "      <td>NaN</td>\n",
       "    </tr>\n",
       "  </tbody>\n",
       "</table>\n",
       "</div>"
      ],
      "text/plain": [
       "   Trip Id              Start Time                End Time  Trip Duration  \\\n",
       "0   712441  2017-01-01 05:03 (UTC)  2017-01-01 05:08 (UTC)            274   \n",
       "1   712442  2017-01-01 05:03 (UTC)  2017-01-01 05:12 (UTC)            538   \n",
       "2   712443  2017-01-01 05:05 (UTC)  2017-01-01 05:22 (UTC)            992   \n",
       "3   712444  2017-01-01 05:09 (UTC)  2017-01-01 05:26 (UTC)           1005   \n",
       "4   712445  2017-01-01 05:14 (UTC)  2017-01-01 05:25 (UTC)            645   \n",
       "\n",
       "   Start Station Id                         Start Station Name  \\\n",
       "0            7006.0            Bay St / College St (East Side)   \n",
       "1            7046.0                 Niagara St / Richmond St W   \n",
       "2            7048.0  Front St / Yonge St (Hockey Hall of Fame)   \n",
       "3            7177.0            East Liberty St / Pirandello St   \n",
       "4            7203.0                Bathurst St / Queens Quay W   \n",
       "\n",
       "   End Station Id                  End Station Name User Type  \\\n",
       "0          7021.0                Bay St / Albert St    Member   \n",
       "1          7147.0            King St W / Fraser Ave    Member   \n",
       "2          7089.0              Church St  / Wood St    Member   \n",
       "3          7202.0  Queen St W / York St (City Hall)    Member   \n",
       "4          7010.0           King St W / Spadina Ave    Member   \n",
       "\n",
       "   Subscription Id  Bike Id  \n",
       "0              NaN      NaN  \n",
       "1              NaN      NaN  \n",
       "2              NaN      NaN  \n",
       "3              NaN      NaN  \n",
       "4              NaN      NaN  "
      ]
     },
     "execution_count": 47,
     "metadata": {},
     "output_type": "execute_result"
    }
   ],
   "source": [
    "# Concatenate the ridership data into one dataframe \n",
    "ridership = pd.concat([trips_data[filename] for filename in trips_filenames], ignore_index=True)\n",
    "\n",
    "# View DataFrame\n",
    "ridership.head()"
   ]
  },
  {
   "cell_type": "code",
   "execution_count": 48,
   "metadata": {
    "ExecuteTime": {
     "end_time": "2022-12-01T08:57:49.549593Z",
     "start_time": "2022-12-01T08:57:41.399233Z"
    },
    "scrolled": false
   },
   "outputs": [
    {
     "name": "stdout",
     "output_type": "stream",
     "text": [
      "<class 'pandas.core.frame.DataFrame'>\n",
      "RangeIndex: 15358993 entries, 0 to 15358992\n",
      "Data columns (total 11 columns):\n",
      " #   Column              Non-Null Count     Dtype  \n",
      "---  ------              --------------     -----  \n",
      " 0   Trip Id             15358993 non-null  int64  \n",
      " 1   Start Time          15358993 non-null  object \n",
      " 2   End Time            15358992 non-null  object \n",
      " 3   Trip Duration       15358993 non-null  int64  \n",
      " 4   Start Station Id    14332100 non-null  float64\n",
      " 5   Start Station Name  15262057 non-null  object \n",
      " 6   End Station Id      14327681 non-null  float64\n",
      " 7   End Station Name    15256259 non-null  object \n",
      " 8   User Type           15358993 non-null  object \n",
      " 9   Subscription Id     5052221 non-null   float64\n",
      " 10  Bike Id             11943393 non-null  float64\n",
      "dtypes: float64(4), int64(2), object(5)\n",
      "memory usage: 1.3+ GB\n"
     ]
    }
   ],
   "source": [
    "ridership.info(show_counts=True)"
   ]
  },
  {
   "cell_type": "code",
   "execution_count": 49,
   "metadata": {
    "ExecuteTime": {
     "end_time": "2022-12-01T08:57:50.236789Z",
     "start_time": "2022-12-01T08:57:49.551589Z"
    }
   },
   "outputs": [
    {
     "data": {
      "text/plain": [
       "array(['Member', 'Casual', 'Annual Member', 'Casual Member'], dtype=object)"
      ]
     },
     "execution_count": 49,
     "metadata": {},
     "output_type": "execute_result"
    }
   ],
   "source": [
    "ridership['User Type'].unique()"
   ]
  },
  {
   "cell_type": "markdown",
   "metadata": {},
   "source": [
    "Problems in the dataset:\n",
    "* There are a lot of null values.\n",
    "* Start Time and End Time values need to be first converted into datatime variables with timezone info and then converted to 'US/Eastern' timezone.\n",
    "* User Types need to be unified."
   ]
  },
  {
   "cell_type": "markdown",
   "metadata": {},
   "source": [
    "### Drop Redundant Columns"
   ]
  },
  {
   "cell_type": "code",
   "execution_count": 50,
   "metadata": {
    "ExecuteTime": {
     "end_time": "2022-12-01T08:57:50.848010Z",
     "start_time": "2022-12-01T08:57:50.239699Z"
    }
   },
   "outputs": [],
   "source": [
    "#Drop Bike ID and Subscription ID columns\n",
    "ridership.drop(['Subscription Id', 'Bike Id'], axis=1, inplace=True)"
   ]
  },
  {
   "cell_type": "code",
   "execution_count": 51,
   "metadata": {
    "ExecuteTime": {
     "end_time": "2022-12-01T08:57:50.863147Z",
     "start_time": "2022-12-01T08:57:50.852001Z"
    }
   },
   "outputs": [],
   "source": [
    "user_rename = {\n",
    "    'Annual Member' : 'Member',\n",
    "    'Casual Member' : 'Casual'\n",
    "}\n",
    "\n",
    "ridership.rename(columns=user_rename, inplace=True)"
   ]
  },
  {
   "cell_type": "code",
   "execution_count": 52,
   "metadata": {
    "ExecuteTime": {
     "end_time": "2022-12-01T08:57:58.954860Z",
     "start_time": "2022-12-01T08:57:50.865638Z"
    }
   },
   "outputs": [
    {
     "name": "stdout",
     "output_type": "stream",
     "text": [
      "<class 'pandas.core.frame.DataFrame'>\n",
      "RangeIndex: 15358993 entries, 0 to 15358992\n",
      "Data columns (total 9 columns):\n",
      " #   Column              Non-Null Count     Dtype  \n",
      "---  ------              --------------     -----  \n",
      " 0   Trip Id             15358993 non-null  int64  \n",
      " 1   Start Time          15358993 non-null  object \n",
      " 2   End Time            15358992 non-null  object \n",
      " 3   Trip Duration       15358993 non-null  int64  \n",
      " 4   Start Station Id    14332100 non-null  float64\n",
      " 5   Start Station Name  15262057 non-null  object \n",
      " 6   End Station Id      14327681 non-null  float64\n",
      " 7   End Station Name    15256259 non-null  object \n",
      " 8   User Type           15358993 non-null  object \n",
      "dtypes: float64(2), int64(2), object(5)\n",
      "memory usage: 1.0+ GB\n"
     ]
    }
   ],
   "source": [
    "ridership.info(show_counts=True)"
   ]
  },
  {
   "cell_type": "code",
   "execution_count": 53,
   "metadata": {
    "ExecuteTime": {
     "end_time": "2022-12-01T08:58:00.468846Z",
     "start_time": "2022-12-01T08:57:58.957827Z"
    },
    "scrolled": true
   },
   "outputs": [
    {
     "data": {
      "text/html": [
       "<div>\n",
       "<style scoped>\n",
       "    .dataframe tbody tr th:only-of-type {\n",
       "        vertical-align: middle;\n",
       "    }\n",
       "\n",
       "    .dataframe tbody tr th {\n",
       "        vertical-align: top;\n",
       "    }\n",
       "\n",
       "    .dataframe thead th {\n",
       "        text-align: right;\n",
       "    }\n",
       "</style>\n",
       "<table border=\"1\" class=\"dataframe\">\n",
       "  <thead>\n",
       "    <tr style=\"text-align: right;\">\n",
       "      <th></th>\n",
       "      <th>Start Time</th>\n",
       "      <th>End Time</th>\n",
       "      <th>Trip Duration</th>\n",
       "      <th>Start Station Id</th>\n",
       "      <th>Start Station Name</th>\n",
       "      <th>End Station Id</th>\n",
       "      <th>End Station Name</th>\n",
       "      <th>User Type</th>\n",
       "    </tr>\n",
       "    <tr>\n",
       "      <th>Trip Id</th>\n",
       "      <th></th>\n",
       "      <th></th>\n",
       "      <th></th>\n",
       "      <th></th>\n",
       "      <th></th>\n",
       "      <th></th>\n",
       "      <th></th>\n",
       "      <th></th>\n",
       "    </tr>\n",
       "  </thead>\n",
       "  <tbody>\n",
       "    <tr>\n",
       "      <th>712441</th>\n",
       "      <td>2017-01-01 05:03 (UTC)</td>\n",
       "      <td>2017-01-01 05:08 (UTC)</td>\n",
       "      <td>274</td>\n",
       "      <td>7006.0</td>\n",
       "      <td>Bay St / College St (East Side)</td>\n",
       "      <td>7021.0</td>\n",
       "      <td>Bay St / Albert St</td>\n",
       "      <td>Member</td>\n",
       "    </tr>\n",
       "    <tr>\n",
       "      <th>712442</th>\n",
       "      <td>2017-01-01 05:03 (UTC)</td>\n",
       "      <td>2017-01-01 05:12 (UTC)</td>\n",
       "      <td>538</td>\n",
       "      <td>7046.0</td>\n",
       "      <td>Niagara St / Richmond St W</td>\n",
       "      <td>7147.0</td>\n",
       "      <td>King St W / Fraser Ave</td>\n",
       "      <td>Member</td>\n",
       "    </tr>\n",
       "    <tr>\n",
       "      <th>712443</th>\n",
       "      <td>2017-01-01 05:05 (UTC)</td>\n",
       "      <td>2017-01-01 05:22 (UTC)</td>\n",
       "      <td>992</td>\n",
       "      <td>7048.0</td>\n",
       "      <td>Front St / Yonge St (Hockey Hall of Fame)</td>\n",
       "      <td>7089.0</td>\n",
       "      <td>Church St  / Wood St</td>\n",
       "      <td>Member</td>\n",
       "    </tr>\n",
       "    <tr>\n",
       "      <th>712444</th>\n",
       "      <td>2017-01-01 05:09 (UTC)</td>\n",
       "      <td>2017-01-01 05:26 (UTC)</td>\n",
       "      <td>1005</td>\n",
       "      <td>7177.0</td>\n",
       "      <td>East Liberty St / Pirandello St</td>\n",
       "      <td>7202.0</td>\n",
       "      <td>Queen St W / York St (City Hall)</td>\n",
       "      <td>Member</td>\n",
       "    </tr>\n",
       "    <tr>\n",
       "      <th>712445</th>\n",
       "      <td>2017-01-01 05:14 (UTC)</td>\n",
       "      <td>2017-01-01 05:25 (UTC)</td>\n",
       "      <td>645</td>\n",
       "      <td>7203.0</td>\n",
       "      <td>Bathurst St / Queens Quay W</td>\n",
       "      <td>7010.0</td>\n",
       "      <td>King St W / Spadina Ave</td>\n",
       "      <td>Member</td>\n",
       "    </tr>\n",
       "    <tr>\n",
       "      <th>...</th>\n",
       "      <td>...</td>\n",
       "      <td>...</td>\n",
       "      <td>...</td>\n",
       "      <td>...</td>\n",
       "      <td>...</td>\n",
       "      <td>...</td>\n",
       "      <td>...</td>\n",
       "      <td>...</td>\n",
       "    </tr>\n",
       "    <tr>\n",
       "      <th>18317445</th>\n",
       "      <td>31/08/2022 23:58:00 (EST)</td>\n",
       "      <td>01/09/2022 00:26:00 (EST)</td>\n",
       "      <td>1670</td>\n",
       "      <td>7100.0</td>\n",
       "      <td>Dundas St E / Regent Park Blvd</td>\n",
       "      <td>7322.0</td>\n",
       "      <td>King St W / Brant St</td>\n",
       "      <td>Casual Member</td>\n",
       "    </tr>\n",
       "    <tr>\n",
       "      <th>18317447</th>\n",
       "      <td>31/08/2022 23:58:00 (EST)</td>\n",
       "      <td>01/09/2022 00:08:00 (EST)</td>\n",
       "      <td>574</td>\n",
       "      <td>7245.0</td>\n",
       "      <td>Tecumseth St / Queen St W - SMART</td>\n",
       "      <td>7069.0</td>\n",
       "      <td>Queen St W / Spadina Ave</td>\n",
       "      <td>Annual Member</td>\n",
       "    </tr>\n",
       "    <tr>\n",
       "      <th>18317448</th>\n",
       "      <td>31/08/2022 23:59:00 (EST)</td>\n",
       "      <td>01/09/2022 00:08:00 (EST)</td>\n",
       "      <td>533</td>\n",
       "      <td>7257.0</td>\n",
       "      <td>Dundas St W / St. Patrick St</td>\n",
       "      <td>7037.0</td>\n",
       "      <td>Bathurst St / Dundas St W</td>\n",
       "      <td>Casual Member</td>\n",
       "    </tr>\n",
       "    <tr>\n",
       "      <th>18317449</th>\n",
       "      <td>31/08/2022 23:59:00 (EST)</td>\n",
       "      <td>01/09/2022 00:09:00 (EST)</td>\n",
       "      <td>615</td>\n",
       "      <td>7368.0</td>\n",
       "      <td>Lisgar St / Dundas St SMART</td>\n",
       "      <td>7521.0</td>\n",
       "      <td>Emerson Ave / Bloor St W</td>\n",
       "      <td>Casual Member</td>\n",
       "    </tr>\n",
       "    <tr>\n",
       "      <th>18317450</th>\n",
       "      <td>31/08/2022 23:59:00 (EST)</td>\n",
       "      <td>01/09/2022 00:29:00 (EST)</td>\n",
       "      <td>1820</td>\n",
       "      <td>7536.0</td>\n",
       "      <td>Palmerston Ave / Dundas St W</td>\n",
       "      <td>7216.0</td>\n",
       "      <td>Wellington St W / Stafford St</td>\n",
       "      <td>Casual Member</td>\n",
       "    </tr>\n",
       "  </tbody>\n",
       "</table>\n",
       "<p>15358993 rows × 8 columns</p>\n",
       "</div>"
      ],
      "text/plain": [
       "                         Start Time                   End Time  Trip Duration  \\\n",
       "Trip Id                                                                         \n",
       "712441       2017-01-01 05:03 (UTC)     2017-01-01 05:08 (UTC)            274   \n",
       "712442       2017-01-01 05:03 (UTC)     2017-01-01 05:12 (UTC)            538   \n",
       "712443       2017-01-01 05:05 (UTC)     2017-01-01 05:22 (UTC)            992   \n",
       "712444       2017-01-01 05:09 (UTC)     2017-01-01 05:26 (UTC)           1005   \n",
       "712445       2017-01-01 05:14 (UTC)     2017-01-01 05:25 (UTC)            645   \n",
       "...                             ...                        ...            ...   \n",
       "18317445  31/08/2022 23:58:00 (EST)  01/09/2022 00:26:00 (EST)           1670   \n",
       "18317447  31/08/2022 23:58:00 (EST)  01/09/2022 00:08:00 (EST)            574   \n",
       "18317448  31/08/2022 23:59:00 (EST)  01/09/2022 00:08:00 (EST)            533   \n",
       "18317449  31/08/2022 23:59:00 (EST)  01/09/2022 00:09:00 (EST)            615   \n",
       "18317450  31/08/2022 23:59:00 (EST)  01/09/2022 00:29:00 (EST)           1820   \n",
       "\n",
       "          Start Station Id                         Start Station Name  \\\n",
       "Trip Id                                                                 \n",
       "712441              7006.0            Bay St / College St (East Side)   \n",
       "712442              7046.0                 Niagara St / Richmond St W   \n",
       "712443              7048.0  Front St / Yonge St (Hockey Hall of Fame)   \n",
       "712444              7177.0            East Liberty St / Pirandello St   \n",
       "712445              7203.0                Bathurst St / Queens Quay W   \n",
       "...                    ...                                        ...   \n",
       "18317445            7100.0             Dundas St E / Regent Park Blvd   \n",
       "18317447            7245.0          Tecumseth St / Queen St W - SMART   \n",
       "18317448            7257.0               Dundas St W / St. Patrick St   \n",
       "18317449            7368.0                Lisgar St / Dundas St SMART   \n",
       "18317450            7536.0               Palmerston Ave / Dundas St W   \n",
       "\n",
       "          End Station Id                  End Station Name      User Type  \n",
       "Trip Id                                                                    \n",
       "712441            7021.0                Bay St / Albert St         Member  \n",
       "712442            7147.0            King St W / Fraser Ave         Member  \n",
       "712443            7089.0              Church St  / Wood St         Member  \n",
       "712444            7202.0  Queen St W / York St (City Hall)         Member  \n",
       "712445            7010.0           King St W / Spadina Ave         Member  \n",
       "...                  ...                               ...            ...  \n",
       "18317445          7322.0              King St W / Brant St  Casual Member  \n",
       "18317447          7069.0          Queen St W / Spadina Ave  Annual Member  \n",
       "18317448          7037.0         Bathurst St / Dundas St W  Casual Member  \n",
       "18317449          7521.0          Emerson Ave / Bloor St W  Casual Member  \n",
       "18317450          7216.0     Wellington St W / Stafford St  Casual Member  \n",
       "\n",
       "[15358993 rows x 8 columns]"
      ]
     },
     "execution_count": 53,
     "metadata": {},
     "output_type": "execute_result"
    }
   ],
   "source": [
    "#Set Trip ID to index\n",
    "ridership.set_index('Trip Id')"
   ]
  },
  {
   "cell_type": "code",
   "execution_count": 54,
   "metadata": {
    "ExecuteTime": {
     "end_time": "2022-12-01T08:58:02.038318Z",
     "start_time": "2022-12-01T08:58:00.470848Z"
    },
    "scrolled": true
   },
   "outputs": [
    {
     "data": {
      "text/html": [
       "<div>\n",
       "<style scoped>\n",
       "    .dataframe tbody tr th:only-of-type {\n",
       "        vertical-align: middle;\n",
       "    }\n",
       "\n",
       "    .dataframe tbody tr th {\n",
       "        vertical-align: top;\n",
       "    }\n",
       "\n",
       "    .dataframe thead th {\n",
       "        text-align: right;\n",
       "    }\n",
       "</style>\n",
       "<table border=\"1\" class=\"dataframe\">\n",
       "  <thead>\n",
       "    <tr style=\"text-align: right;\">\n",
       "      <th></th>\n",
       "      <th>Trip Id</th>\n",
       "      <th>Start Time</th>\n",
       "      <th>End Time</th>\n",
       "      <th>Trip Duration</th>\n",
       "      <th>Start Station Id</th>\n",
       "      <th>Start Station Name</th>\n",
       "      <th>End Station Id</th>\n",
       "      <th>End Station Name</th>\n",
       "      <th>User Type</th>\n",
       "    </tr>\n",
       "  </thead>\n",
       "  <tbody>\n",
       "    <tr>\n",
       "      <th>337055</th>\n",
       "      <td>2302635</td>\n",
       "      <td>2017-11-29 10:53 (UTC)</td>\n",
       "      <td>NaN</td>\n",
       "      <td>0</td>\n",
       "      <td>NaN</td>\n",
       "      <td>Seaton St / Dundas St E</td>\n",
       "      <td>NaN</td>\n",
       "      <td>NaN</td>\n",
       "      <td>Casual</td>\n",
       "    </tr>\n",
       "  </tbody>\n",
       "</table>\n",
       "</div>"
      ],
      "text/plain": [
       "        Trip Id              Start Time End Time  Trip Duration  \\\n",
       "337055  2302635  2017-11-29 10:53 (UTC)      NaN              0   \n",
       "\n",
       "        Start Station Id       Start Station Name  End Station Id  \\\n",
       "337055               NaN  Seaton St / Dundas St E             NaN   \n",
       "\n",
       "       End Station Name User Type  \n",
       "337055              NaN    Casual  "
      ]
     },
     "execution_count": 54,
     "metadata": {},
     "output_type": "execute_result"
    }
   ],
   "source": [
    "ridership[ridership['End Time'].isnull()==True]"
   ]
  },
  {
   "cell_type": "code",
   "execution_count": 55,
   "metadata": {
    "ExecuteTime": {
     "end_time": "2022-12-01T08:58:03.292052Z",
     "start_time": "2022-12-01T08:58:02.042321Z"
    }
   },
   "outputs": [],
   "source": [
    "#Drop the row with null End Time\n",
    "ridership = ridership[ridership['End Time'].isnull()==False]"
   ]
  },
  {
   "cell_type": "code",
   "execution_count": 56,
   "metadata": {
    "ExecuteTime": {
     "end_time": "2022-12-01T08:58:04.434408Z",
     "start_time": "2022-12-01T08:58:03.297590Z"
    }
   },
   "outputs": [
    {
     "data": {
      "text/plain": [
       "0.9999991535902877"
      ]
     },
     "execution_count": 56,
     "metadata": {},
     "output_type": "execute_result"
    }
   ],
   "source": [
    "# Check if there are duplicate trips\n",
    "ridership['Trip Id'].nunique() / len(ridership)"
   ]
  },
  {
   "cell_type": "code",
   "execution_count": 57,
   "metadata": {
    "ExecuteTime": {
     "end_time": "2022-12-01T08:58:05.315055Z",
     "start_time": "2022-12-01T08:58:04.436495Z"
    }
   },
   "outputs": [],
   "source": [
    "trip_duplicates = ridership[ridership.duplicated('Trip Id')]"
   ]
  },
  {
   "cell_type": "code",
   "execution_count": 58,
   "metadata": {
    "ExecuteTime": {
     "end_time": "2022-12-01T08:58:05.346644Z",
     "start_time": "2022-12-01T08:58:05.318054Z"
    }
   },
   "outputs": [
    {
     "data": {
      "text/html": [
       "<div>\n",
       "<style scoped>\n",
       "    .dataframe tbody tr th:only-of-type {\n",
       "        vertical-align: middle;\n",
       "    }\n",
       "\n",
       "    .dataframe tbody tr th {\n",
       "        vertical-align: top;\n",
       "    }\n",
       "\n",
       "    .dataframe thead th {\n",
       "        text-align: right;\n",
       "    }\n",
       "</style>\n",
       "<table border=\"1\" class=\"dataframe\">\n",
       "  <thead>\n",
       "    <tr style=\"text-align: right;\">\n",
       "      <th></th>\n",
       "      <th>Trip Id</th>\n",
       "      <th>Start Time</th>\n",
       "      <th>End Time</th>\n",
       "      <th>Trip Duration</th>\n",
       "      <th>Start Station Id</th>\n",
       "      <th>Start Station Name</th>\n",
       "      <th>End Station Id</th>\n",
       "      <th>End Station Name</th>\n",
       "      <th>User Type</th>\n",
       "    </tr>\n",
       "  </thead>\n",
       "  <tbody>\n",
       "    <tr>\n",
       "      <th>9614632</th>\n",
       "      <td>10756846</td>\n",
       "      <td>03/02/2021 17:11:00 (EST)</td>\n",
       "      <td>03/02/2021 17:11:00 (EST)</td>\n",
       "      <td>0</td>\n",
       "      <td>7207.0</td>\n",
       "      <td>Dundas St W / Crawford St</td>\n",
       "      <td>7112.0</td>\n",
       "      <td>Liberty St / Fraser Ave Green P</td>\n",
       "      <td>Annual Member</td>\n",
       "    </tr>\n",
       "    <tr>\n",
       "      <th>9735699</th>\n",
       "      <td>10909571</td>\n",
       "      <td>18/03/2021 17:32:00 (EST)</td>\n",
       "      <td>18/03/2021 17:32:00 (EST)</td>\n",
       "      <td>0</td>\n",
       "      <td>7351.0</td>\n",
       "      <td>Pretoria Av / Broadview Av</td>\n",
       "      <td>7286.0</td>\n",
       "      <td>Gerrard St E / Broadview - SMART</td>\n",
       "      <td>Annual Member</td>\n",
       "    </tr>\n",
       "    <tr>\n",
       "      <th>9768054</th>\n",
       "      <td>10947892</td>\n",
       "      <td>22/03/2021 19:02:00 (EST)</td>\n",
       "      <td>22/03/2021 19:02:00 (EST)</td>\n",
       "      <td>0</td>\n",
       "      <td>7119.0</td>\n",
       "      <td>Sumach St / Carlton St. (Riverdale Farm)</td>\n",
       "      <td>7458.0</td>\n",
       "      <td>Church St / Lombard St</td>\n",
       "      <td>Casual Member</td>\n",
       "    </tr>\n",
       "    <tr>\n",
       "      <th>9773782</th>\n",
       "      <td>10954749</td>\n",
       "      <td>23/03/2021 17:49:00 (EST)</td>\n",
       "      <td>23/03/2021 17:49:00 (EST)</td>\n",
       "      <td>0</td>\n",
       "      <td>7254.0</td>\n",
       "      <td>Borden St / Bloor St W - SMART</td>\n",
       "      <td>7023.0</td>\n",
       "      <td>College St / Borden St</td>\n",
       "      <td>Annual Member</td>\n",
       "    </tr>\n",
       "    <tr>\n",
       "      <th>9804453</th>\n",
       "      <td>10991914</td>\n",
       "      <td>28/03/2021 17:45:00 (EST)</td>\n",
       "      <td>28/03/2021 17:45:00 (EST)</td>\n",
       "      <td>0</td>\n",
       "      <td>7248.0</td>\n",
       "      <td>Baldwin Ave / Spadina Ave - SMART</td>\n",
       "      <td>7020.0</td>\n",
       "      <td>Phoebe St / Spadina Ave</td>\n",
       "      <td>Casual Member</td>\n",
       "    </tr>\n",
       "    <tr>\n",
       "      <th>9805407</th>\n",
       "      <td>10993058</td>\n",
       "      <td>28/03/2021 21:42:00 (EST)</td>\n",
       "      <td>28/03/2021 21:42:00 (EST)</td>\n",
       "      <td>0</td>\n",
       "      <td>7043.0</td>\n",
       "      <td>Queens Quay W / Lower Simcoe St</td>\n",
       "      <td>7020.0</td>\n",
       "      <td>Phoebe St / Spadina Ave</td>\n",
       "      <td>Casual Member</td>\n",
       "    </tr>\n",
       "    <tr>\n",
       "      <th>9814828</th>\n",
       "      <td>11004236</td>\n",
       "      <td>30/03/2021 16:45:00 (EST)</td>\n",
       "      <td>30/03/2021 16:45:00 (EST)</td>\n",
       "      <td>0</td>\n",
       "      <td>7656.0</td>\n",
       "      <td>Bloor St W / Brock Ave</td>\n",
       "      <td>7240.0</td>\n",
       "      <td>Bloor St W / Shaw Ave - SMART</td>\n",
       "      <td>Annual Member</td>\n",
       "    </tr>\n",
       "    <tr>\n",
       "      <th>9965013</th>\n",
       "      <td>11180718</td>\n",
       "      <td>18/04/2021 15:50:00 (EST)</td>\n",
       "      <td>18/04/2021 15:50:00 (EST)</td>\n",
       "      <td>0</td>\n",
       "      <td>7271.0</td>\n",
       "      <td>Yonge St / Alexander St - SMART</td>\n",
       "      <td>7267.0</td>\n",
       "      <td>Dundas St E / Pembroke St - SMART</td>\n",
       "      <td>Annual Member</td>\n",
       "    </tr>\n",
       "    <tr>\n",
       "      <th>10000997</th>\n",
       "      <td>11224466</td>\n",
       "      <td>24/04/2021 14:14:00 (EST)</td>\n",
       "      <td>24/04/2021 14:14:00 (EST)</td>\n",
       "      <td>0</td>\n",
       "      <td>7649.0</td>\n",
       "      <td>Greenwood Subway Station - SMART</td>\n",
       "      <td>7611.0</td>\n",
       "      <td>Victoria Park Ave / Danforth Ave</td>\n",
       "      <td>Annual Member</td>\n",
       "    </tr>\n",
       "    <tr>\n",
       "      <th>10008873</th>\n",
       "      <td>11233036</td>\n",
       "      <td>24/04/2021 18:09:00 (EST)</td>\n",
       "      <td>24/04/2021 18:09:00 (EST)</td>\n",
       "      <td>0</td>\n",
       "      <td>7017.0</td>\n",
       "      <td>Widmer St / Adelaide St W</td>\n",
       "      <td>7634.0</td>\n",
       "      <td>University Ave / Gerrard St W (WEST) - SMART</td>\n",
       "      <td>Casual Member</td>\n",
       "    </tr>\n",
       "    <tr>\n",
       "      <th>10911678</th>\n",
       "      <td>12272296</td>\n",
       "      <td>29/06/2021 23:59:00 (EST)</td>\n",
       "      <td>29/06/2021 23:59:00 (EST)</td>\n",
       "      <td>0</td>\n",
       "      <td>7090.0</td>\n",
       "      <td>Danforth Ave / Lamb Ave</td>\n",
       "      <td>7156.0</td>\n",
       "      <td>Salem Ave / Bloor St W</td>\n",
       "      <td>Annual Member</td>\n",
       "    </tr>\n",
       "    <tr>\n",
       "      <th>10912957</th>\n",
       "      <td>12273983</td>\n",
       "      <td>30/06/2021 08:47:00 (EST)</td>\n",
       "      <td>30/06/2021 08:47:00 (EST)</td>\n",
       "      <td>0</td>\n",
       "      <td>7078.0</td>\n",
       "      <td>College St / Major St</td>\n",
       "      <td>7339.0</td>\n",
       "      <td>Carlaw Ave / Strathcona Ave</td>\n",
       "      <td>Annual Member</td>\n",
       "    </tr>\n",
       "    <tr>\n",
       "      <th>10918916</th>\n",
       "      <td>12281090</td>\n",
       "      <td>30/06/2021 17:24:00 (EST)</td>\n",
       "      <td>30/06/2021 17:24:00 (EST)</td>\n",
       "      <td>0</td>\n",
       "      <td>7101.0</td>\n",
       "      <td>Lower Sherbourne St / The Esplanade</td>\n",
       "      <td>7014.0</td>\n",
       "      <td>Sherbourne St / Carlton St (Allan Gardens)</td>\n",
       "      <td>Casual Member</td>\n",
       "    </tr>\n",
       "  </tbody>\n",
       "</table>\n",
       "</div>"
      ],
      "text/plain": [
       "           Trip Id                 Start Time                   End Time  \\\n",
       "9614632   10756846  03/02/2021 17:11:00 (EST)  03/02/2021 17:11:00 (EST)   \n",
       "9735699   10909571  18/03/2021 17:32:00 (EST)  18/03/2021 17:32:00 (EST)   \n",
       "9768054   10947892  22/03/2021 19:02:00 (EST)  22/03/2021 19:02:00 (EST)   \n",
       "9773782   10954749  23/03/2021 17:49:00 (EST)  23/03/2021 17:49:00 (EST)   \n",
       "9804453   10991914  28/03/2021 17:45:00 (EST)  28/03/2021 17:45:00 (EST)   \n",
       "9805407   10993058  28/03/2021 21:42:00 (EST)  28/03/2021 21:42:00 (EST)   \n",
       "9814828   11004236  30/03/2021 16:45:00 (EST)  30/03/2021 16:45:00 (EST)   \n",
       "9965013   11180718  18/04/2021 15:50:00 (EST)  18/04/2021 15:50:00 (EST)   \n",
       "10000997  11224466  24/04/2021 14:14:00 (EST)  24/04/2021 14:14:00 (EST)   \n",
       "10008873  11233036  24/04/2021 18:09:00 (EST)  24/04/2021 18:09:00 (EST)   \n",
       "10911678  12272296  29/06/2021 23:59:00 (EST)  29/06/2021 23:59:00 (EST)   \n",
       "10912957  12273983  30/06/2021 08:47:00 (EST)  30/06/2021 08:47:00 (EST)   \n",
       "10918916  12281090  30/06/2021 17:24:00 (EST)  30/06/2021 17:24:00 (EST)   \n",
       "\n",
       "          Trip Duration  Start Station Id  \\\n",
       "9614632               0            7207.0   \n",
       "9735699               0            7351.0   \n",
       "9768054               0            7119.0   \n",
       "9773782               0            7254.0   \n",
       "9804453               0            7248.0   \n",
       "9805407               0            7043.0   \n",
       "9814828               0            7656.0   \n",
       "9965013               0            7271.0   \n",
       "10000997              0            7649.0   \n",
       "10008873              0            7017.0   \n",
       "10911678              0            7090.0   \n",
       "10912957              0            7078.0   \n",
       "10918916              0            7101.0   \n",
       "\n",
       "                                Start Station Name  End Station Id  \\\n",
       "9614632                  Dundas St W / Crawford St          7112.0   \n",
       "9735699                 Pretoria Av / Broadview Av          7286.0   \n",
       "9768054   Sumach St / Carlton St. (Riverdale Farm)          7458.0   \n",
       "9773782             Borden St / Bloor St W - SMART          7023.0   \n",
       "9804453          Baldwin Ave / Spadina Ave - SMART          7020.0   \n",
       "9805407            Queens Quay W / Lower Simcoe St          7020.0   \n",
       "9814828                     Bloor St W / Brock Ave          7240.0   \n",
       "9965013            Yonge St / Alexander St - SMART          7267.0   \n",
       "10000997          Greenwood Subway Station - SMART          7611.0   \n",
       "10008873                 Widmer St / Adelaide St W          7634.0   \n",
       "10911678                   Danforth Ave / Lamb Ave          7156.0   \n",
       "10912957                     College St / Major St          7339.0   \n",
       "10918916       Lower Sherbourne St / The Esplanade          7014.0   \n",
       "\n",
       "                                      End Station Name      User Type  \n",
       "9614632                Liberty St / Fraser Ave Green P  Annual Member  \n",
       "9735699               Gerrard St E / Broadview - SMART  Annual Member  \n",
       "9768054                         Church St / Lombard St  Casual Member  \n",
       "9773782                         College St / Borden St  Annual Member  \n",
       "9804453                        Phoebe St / Spadina Ave  Casual Member  \n",
       "9805407                        Phoebe St / Spadina Ave  Casual Member  \n",
       "9814828                  Bloor St W / Shaw Ave - SMART  Annual Member  \n",
       "9965013              Dundas St E / Pembroke St - SMART  Annual Member  \n",
       "10000997              Victoria Park Ave / Danforth Ave  Annual Member  \n",
       "10008873  University Ave / Gerrard St W (WEST) - SMART  Casual Member  \n",
       "10911678                        Salem Ave / Bloor St W  Annual Member  \n",
       "10912957                   Carlaw Ave / Strathcona Ave  Annual Member  \n",
       "10918916    Sherbourne St / Carlton St (Allan Gardens)  Casual Member  "
      ]
     },
     "execution_count": 58,
     "metadata": {},
     "output_type": "execute_result"
    }
   ],
   "source": [
    "trip_duplicates"
   ]
  },
  {
   "cell_type": "markdown",
   "metadata": {},
   "source": [
    "The duplicated trips have zero trip duration, and will removed later when removing trip duration outliers."
   ]
  },
  {
   "cell_type": "markdown",
   "metadata": {},
   "source": [
    "### Split ridership data for different years "
   ]
  },
  {
   "cell_type": "code",
   "execution_count": 59,
   "metadata": {
    "ExecuteTime": {
     "end_time": "2022-12-01T08:58:37.329710Z",
     "start_time": "2022-12-01T08:58:05.348647Z"
    }
   },
   "outputs": [],
   "source": [
    "# Separate ridership data according to year\n",
    "ridership_2017 = ridership.loc[ridership['Start Time'].str.contains('2017')]\n",
    "ridership_2018 = ridership.loc[ridership['Start Time'].str.contains('2018')]\n",
    "ridership_2019 = ridership.loc[ridership['Start Time'].str.contains('2019')]\n",
    "ridership_2020 = ridership.loc[ridership['Start Time'].str.contains('2020')]\n",
    "ridership_2021 = ridership.loc[ridership['Start Time'].str.contains('2021')]\n",
    "ridership_2022 = ridership.loc[ridership['Start Time'].str.contains('2022')]"
   ]
  },
  {
   "cell_type": "markdown",
   "metadata": {},
   "source": [
    "### Datetime data"
   ]
  },
  {
   "cell_type": "code",
   "execution_count": 60,
   "metadata": {
    "ExecuteTime": {
     "end_time": "2022-12-01T08:58:37.345023Z",
     "start_time": "2022-12-01T08:58:37.332226Z"
    }
   },
   "outputs": [],
   "source": [
    "def time_convert(df):\n",
    "    \"\"\"Convert Start Time and End Time into datetime variables\n",
    "    Using to_datetime and a specified format\n",
    "    Solved DST issue. ambiguous=True, nonexistent='shift_backward'\n",
    "    \"\"\"\n",
    "    df_copy = df.copy()\n",
    "    if 'UTC' in df_copy['Start Time'].iloc[0]:\n",
    "        df_copy['Start Time'] = pd.to_datetime(df['Start Time'].str[:16]).dt.tz_localize('UTC', ambiguous=True, nonexistent='shift_backward').dt.tz_convert('US/Eastern')\n",
    "        df_copy['End Time'] = pd.to_datetime(df['End Time'].str[:16]).dt.tz_localize('UTC', ambiguous=True, nonexistent='shift_backward').dt.tz_convert('US/Eastern')\n",
    "    else:\n",
    "        df_copy['Start Time'] = pd.to_datetime(df['Start Time'].str[:16]).dt.tz_localize('US/Eastern', ambiguous=True, nonexistent='shift_backward')\n",
    "        df_copy['End Time'] = pd.to_datetime(df['End Time'].str[:16]).dt.tz_localize('US/Eastern', ambiguous=True, nonexistent='shift_backward')\n",
    "   \n",
    "    return df_copy"
   ]
  },
  {
   "cell_type": "raw",
   "metadata": {
    "ExecuteTime": {
     "end_time": "2022-11-30T19:58:04.794291Z",
     "start_time": "2022-11-30T19:58:04.781191Z"
    }
   },
   "source": [
    "# abandoned function: too slow\n",
    "\n",
    "def time_convert(df):\n",
    "    \"\"\"Convert Start Time and End Time into datetime variables\n",
    "    Using strptime and a specified format. \n",
    "    \"\"\"\n",
    "    df_utc = df.loc[df['Start Time'].str.contains('UTC')]\n",
    "    df_est = df.loc[df['Start Time'].str.contains('EST')]\n",
    "    \n",
    "    df_utc['Start Time'] = df_utc['Start Time'].apply(lambda _: utc.localize(dt.datetime.strptime(_,'%Y-%m-%d %H:%M (%Z)')).astimezone(est))  \n",
    "    df_est['Start Time'] = df_est['Start Time'].apply(lambda _: est.localize(dt.datetime.strptime(_,'%d/%m/%Y %H:%M:%S (EST)')))\n",
    "    df_utc['End Time'] = df_utc['End Time'].apply(lambda _: utc.localize(dt.datetime.strptime(_,'%Y-%m-%d %H:%M (%Z)')).astimezone(est))   \n",
    "    df_est['End Time'] = df_est['End Time'].apply(lambda _: est.localize(dt.datetime.strptime(_,'%d/%m/%Y %H:%M:%S (EST)')))\n",
    "    \n",
    "    df = pd.concat([df_utc, df_est])\n",
    "    \n",
    "    return df"
   ]
  },
  {
   "cell_type": "markdown",
   "metadata": {},
   "source": [
    "### Missing Values"
   ]
  },
  {
   "cell_type": "markdown",
   "metadata": {},
   "source": [
    "ridership_est dataframe is separated into smaller dataframes according to year for better analyzing."
   ]
  },
  {
   "cell_type": "code",
   "execution_count": 61,
   "metadata": {
    "ExecuteTime": {
     "end_time": "2022-12-01T08:58:37.360530Z",
     "start_time": "2022-12-01T08:58:37.347998Z"
    }
   },
   "outputs": [],
   "source": [
    "def remove_outliers(data):\n",
    "    \"\"\"\n",
    "    Create a function to remove the duration outliers in the dataset\n",
    "    \"\"\"\n",
    "    # Narrow down our dataset with 60 seconds duration filter\n",
    "    data_copy = data.copy()\n",
    "    data =data[data['Trip Duration']>=60]\n",
    "    \n",
    "    # Compute quartiles\n",
    "    Q1 =data ['Trip Duration'].quantile(0.25)\n",
    "    Q3 =data ['Trip Duration'].quantile(0.75)\n",
    "    IQR = Q3 - Q1\n",
    "    data  = data[(data['Trip Duration']<=(Q3+1.5*IQR)) & (data['Trip Duration']>=(Q1-1.5*IQR))]\n",
    "    print(\"Percent of outliers removed: {}%\".format((1-len(data) / len(data_copy)) * 100))\n",
    "    return data"
   ]
  },
  {
   "cell_type": "markdown",
   "metadata": {},
   "source": [
    "#### **2017 Data**"
   ]
  },
  {
   "cell_type": "code",
   "execution_count": 62,
   "metadata": {
    "ExecuteTime": {
     "end_time": "2022-12-01T08:58:39.560884Z",
     "start_time": "2022-12-01T08:58:37.363532Z"
    }
   },
   "outputs": [],
   "source": [
    "ridership_est_2017 = time_convert(ridership_2017)"
   ]
  },
  {
   "cell_type": "code",
   "execution_count": 63,
   "metadata": {
    "ExecuteTime": {
     "end_time": "2022-12-01T08:58:39.857607Z",
     "start_time": "2022-12-01T08:58:39.562755Z"
    }
   },
   "outputs": [
    {
     "name": "stdout",
     "output_type": "stream",
     "text": [
      "Percent of outliers removed: 7.65510161413967%\n"
     ]
    }
   ],
   "source": [
    "# Remove trip duration outliers\n",
    "ridership_est_2017 = remove_outliers(ridership_est_2017)"
   ]
  },
  {
   "cell_type": "code",
   "execution_count": 64,
   "metadata": {
    "ExecuteTime": {
     "end_time": "2022-12-01T08:58:40.312730Z",
     "start_time": "2022-12-01T08:58:39.859611Z"
    },
    "scrolled": false
   },
   "outputs": [
    {
     "data": {
      "text/plain": [
       "Trip Id                    0\n",
       "Start Time                 0\n",
       "End Time                   0\n",
       "Trip Duration              0\n",
       "Start Station Id      934205\n",
       "Start Station Name         0\n",
       "End Station Id        934205\n",
       "End Station Name           0\n",
       "User Type                  0\n",
       "dtype: int64"
      ]
     },
     "execution_count": 64,
     "metadata": {},
     "output_type": "execute_result"
    }
   ],
   "source": [
    "ridership_est_2017.isnull().sum()"
   ]
  },
  {
   "cell_type": "markdown",
   "metadata": {},
   "source": [
    "The missing Station Id can be imputed using the Station Data"
   ]
  },
  {
   "cell_type": "code",
   "execution_count": 65,
   "metadata": {
    "ExecuteTime": {
     "end_time": "2022-12-01T08:58:40.421418Z",
     "start_time": "2022-12-01T08:58:40.314725Z"
    },
    "scrolled": false
   },
   "outputs": [
    {
     "data": {
      "text/html": [
       "<div>\n",
       "<style scoped>\n",
       "    .dataframe tbody tr th:only-of-type {\n",
       "        vertical-align: middle;\n",
       "    }\n",
       "\n",
       "    .dataframe tbody tr th {\n",
       "        vertical-align: top;\n",
       "    }\n",
       "\n",
       "    .dataframe thead th {\n",
       "        text-align: right;\n",
       "    }\n",
       "</style>\n",
       "<table border=\"1\" class=\"dataframe\">\n",
       "  <thead>\n",
       "    <tr style=\"text-align: right;\">\n",
       "      <th></th>\n",
       "      <th>Trip Id</th>\n",
       "      <th>Start Time</th>\n",
       "      <th>End Time</th>\n",
       "      <th>Trip Duration</th>\n",
       "      <th>Start Station Id</th>\n",
       "      <th>Start Station Name</th>\n",
       "      <th>End Station Id</th>\n",
       "      <th>End Station Name</th>\n",
       "      <th>User Type</th>\n",
       "    </tr>\n",
       "  </thead>\n",
       "  <tbody>\n",
       "    <tr>\n",
       "      <th>41417</th>\n",
       "      <td>1971685</td>\n",
       "      <td>2017-10-01 01:00:00-04:00</td>\n",
       "      <td>2017-10-01 01:14:00-04:00</td>\n",
       "      <td>849</td>\n",
       "      <td>NaN</td>\n",
       "      <td>Queen St W / James St</td>\n",
       "      <td>NaN</td>\n",
       "      <td>Taddle Creek Park</td>\n",
       "      <td>Member</td>\n",
       "    </tr>\n",
       "    <tr>\n",
       "      <th>41419</th>\n",
       "      <td>1971687</td>\n",
       "      <td>2017-10-01 01:00:00-04:00</td>\n",
       "      <td>2017-10-01 01:22:00-04:00</td>\n",
       "      <td>1310</td>\n",
       "      <td>NaN</td>\n",
       "      <td>Hayter St / Laplante Ave</td>\n",
       "      <td>NaN</td>\n",
       "      <td>Queen St W / Portland St</td>\n",
       "      <td>Member</td>\n",
       "    </tr>\n",
       "    <tr>\n",
       "      <th>41420</th>\n",
       "      <td>1971688</td>\n",
       "      <td>2017-10-01 01:00:00-04:00</td>\n",
       "      <td>2017-10-01 01:11:00-04:00</td>\n",
       "      <td>631</td>\n",
       "      <td>NaN</td>\n",
       "      <td>Beverly St / College St</td>\n",
       "      <td>NaN</td>\n",
       "      <td>Beverly  St / Dundas St W</td>\n",
       "      <td>Member</td>\n",
       "    </tr>\n",
       "    <tr>\n",
       "      <th>41421</th>\n",
       "      <td>1971689</td>\n",
       "      <td>2017-10-01 01:00:00-04:00</td>\n",
       "      <td>2017-10-01 01:20:00-04:00</td>\n",
       "      <td>1198</td>\n",
       "      <td>NaN</td>\n",
       "      <td>Thompson St / Broadview Ave - SMART</td>\n",
       "      <td>NaN</td>\n",
       "      <td>Thompson St / Broadview Ave - SMART</td>\n",
       "      <td>Member</td>\n",
       "    </tr>\n",
       "    <tr>\n",
       "      <th>41422</th>\n",
       "      <td>1971690</td>\n",
       "      <td>2017-10-01 01:01:00-04:00</td>\n",
       "      <td>2017-10-01 01:07:00-04:00</td>\n",
       "      <td>396</td>\n",
       "      <td>NaN</td>\n",
       "      <td>Dundonald St / Church St</td>\n",
       "      <td>NaN</td>\n",
       "      <td>Victoria St / Gould St (Ryerson University)</td>\n",
       "      <td>Member</td>\n",
       "    </tr>\n",
       "  </tbody>\n",
       "</table>\n",
       "</div>"
      ],
      "text/plain": [
       "       Trip Id                Start Time                  End Time  \\\n",
       "41417  1971685 2017-10-01 01:00:00-04:00 2017-10-01 01:14:00-04:00   \n",
       "41419  1971687 2017-10-01 01:00:00-04:00 2017-10-01 01:22:00-04:00   \n",
       "41420  1971688 2017-10-01 01:00:00-04:00 2017-10-01 01:11:00-04:00   \n",
       "41421  1971689 2017-10-01 01:00:00-04:00 2017-10-01 01:20:00-04:00   \n",
       "41422  1971690 2017-10-01 01:01:00-04:00 2017-10-01 01:07:00-04:00   \n",
       "\n",
       "       Trip Duration  Start Station Id                   Start Station Name  \\\n",
       "41417            849               NaN                Queen St W / James St   \n",
       "41419           1310               NaN             Hayter St / Laplante Ave   \n",
       "41420            631               NaN              Beverly St / College St   \n",
       "41421           1198               NaN  Thompson St / Broadview Ave - SMART   \n",
       "41422            396               NaN             Dundonald St / Church St   \n",
       "\n",
       "       End Station Id                             End Station Name User Type  \n",
       "41417             NaN                            Taddle Creek Park    Member  \n",
       "41419             NaN                     Queen St W / Portland St    Member  \n",
       "41420             NaN                    Beverly  St / Dundas St W    Member  \n",
       "41421             NaN          Thompson St / Broadview Ave - SMART    Member  \n",
       "41422             NaN  Victoria St / Gould St (Ryerson University)    Member  "
      ]
     },
     "execution_count": 65,
     "metadata": {},
     "output_type": "execute_result"
    }
   ],
   "source": [
    "#The trips with missing Station Id\n",
    "ridership_est_2017[\n",
    "    (ridership_est_2017['Start Station Id'].isnull()==True) | \n",
    "    (ridership_est_2017['End Station Id'].isnull()==True)].head()"
   ]
  },
  {
   "cell_type": "markdown",
   "metadata": {},
   "source": [
    "We will use station data as a reference to fill missing Start or End Station Id values."
   ]
  },
  {
   "cell_type": "code",
   "execution_count": 66,
   "metadata": {
    "ExecuteTime": {
     "end_time": "2022-12-01T08:58:40.436516Z",
     "start_time": "2022-12-01T08:58:40.423434Z"
    },
    "code_folding": [
     0
    ]
   },
   "outputs": [],
   "source": [
    "# Create a fill_ID function for filling missing station ID according to station name\n",
    "def fill_ID(df):\n",
    "    \"\"\"This function is for filling missing station names according to station ID\n",
    "    Use the bikeshare_stations as reference.\n",
    "    \"\"\"\n",
    "    df['Start Station Id'].fillna(\n",
    "        df['Start Station Name'].map(bikeshare_stations.set_index('Station Name')['Station Id']),\n",
    "        inplace=True)\n",
    "    \n",
    "    df['End Station Id'].fillna(\n",
    "        df['End Station Name'].map(bikeshare_stations.set_index('Station Name')['Station Id']),\n",
    "        inplace=True)\n",
    "    \n",
    "    return df"
   ]
  },
  {
   "cell_type": "code",
   "execution_count": 67,
   "metadata": {
    "ExecuteTime": {
     "end_time": "2022-12-01T08:58:40.452075Z",
     "start_time": "2022-12-01T08:58:40.439536Z"
    },
    "code_folding": [
     0
    ]
   },
   "outputs": [],
   "source": [
    "# Create a fill_name function for filling missing station name according to station ID\n",
    "def fill_name(df):\n",
    "    \"\"\"This function is for filling missing station names according to station ID.\n",
    "    Use the bikeshare_stations as reference.\n",
    "    \"\"\"\n",
    "    df['Start Station Name'].fillna(\n",
    "        df['Start Station Id'].map(bikeshare_stations.set_index('Station Id')['Station Name']),\n",
    "        inplace=True)\n",
    "    \n",
    "    df['End Station Name'].fillna(\n",
    "        df['End Station Id'].map(bikeshare_stations.set_index('Station Id')['Station Name']),\n",
    "        inplace=True)\n",
    "    \n",
    "    return df"
   ]
  },
  {
   "cell_type": "code",
   "execution_count": 68,
   "metadata": {
    "ExecuteTime": {
     "end_time": "2022-12-01T08:58:40.688716Z",
     "start_time": "2022-12-01T08:58:40.455076Z"
    },
    "scrolled": true
   },
   "outputs": [
    {
     "data": {
      "text/html": [
       "<div>\n",
       "<style scoped>\n",
       "    .dataframe tbody tr th:only-of-type {\n",
       "        vertical-align: middle;\n",
       "    }\n",
       "\n",
       "    .dataframe tbody tr th {\n",
       "        vertical-align: top;\n",
       "    }\n",
       "\n",
       "    .dataframe thead th {\n",
       "        text-align: right;\n",
       "    }\n",
       "</style>\n",
       "<table border=\"1\" class=\"dataframe\">\n",
       "  <thead>\n",
       "    <tr style=\"text-align: right;\">\n",
       "      <th></th>\n",
       "      <th>Trip Id</th>\n",
       "      <th>Start Time</th>\n",
       "      <th>End Time</th>\n",
       "      <th>Trip Duration</th>\n",
       "      <th>Start Station Id</th>\n",
       "      <th>Start Station Name</th>\n",
       "      <th>End Station Id</th>\n",
       "      <th>End Station Name</th>\n",
       "      <th>User Type</th>\n",
       "    </tr>\n",
       "  </thead>\n",
       "  <tbody>\n",
       "    <tr>\n",
       "      <th>0</th>\n",
       "      <td>712441</td>\n",
       "      <td>2017-01-01 00:03:00-05:00</td>\n",
       "      <td>2017-01-01 00:08:00-05:00</td>\n",
       "      <td>274</td>\n",
       "      <td>7006.0</td>\n",
       "      <td>Bay St / College St (East Side)</td>\n",
       "      <td>7021.0</td>\n",
       "      <td>Bay St / Albert St</td>\n",
       "      <td>Member</td>\n",
       "    </tr>\n",
       "    <tr>\n",
       "      <th>1</th>\n",
       "      <td>712442</td>\n",
       "      <td>2017-01-01 00:03:00-05:00</td>\n",
       "      <td>2017-01-01 00:12:00-05:00</td>\n",
       "      <td>538</td>\n",
       "      <td>7046.0</td>\n",
       "      <td>Niagara St / Richmond St W</td>\n",
       "      <td>7147.0</td>\n",
       "      <td>King St W / Fraser Ave</td>\n",
       "      <td>Member</td>\n",
       "    </tr>\n",
       "    <tr>\n",
       "      <th>2</th>\n",
       "      <td>712443</td>\n",
       "      <td>2017-01-01 00:05:00-05:00</td>\n",
       "      <td>2017-01-01 00:22:00-05:00</td>\n",
       "      <td>992</td>\n",
       "      <td>7048.0</td>\n",
       "      <td>Front St / Yonge St (Hockey Hall of Fame)</td>\n",
       "      <td>7089.0</td>\n",
       "      <td>Church St  / Wood St</td>\n",
       "      <td>Member</td>\n",
       "    </tr>\n",
       "    <tr>\n",
       "      <th>3</th>\n",
       "      <td>712444</td>\n",
       "      <td>2017-01-01 00:09:00-05:00</td>\n",
       "      <td>2017-01-01 00:26:00-05:00</td>\n",
       "      <td>1005</td>\n",
       "      <td>7177.0</td>\n",
       "      <td>East Liberty St / Pirandello St</td>\n",
       "      <td>7202.0</td>\n",
       "      <td>Queen St W / York St (City Hall)</td>\n",
       "      <td>Member</td>\n",
       "    </tr>\n",
       "    <tr>\n",
       "      <th>4</th>\n",
       "      <td>712445</td>\n",
       "      <td>2017-01-01 00:14:00-05:00</td>\n",
       "      <td>2017-01-01 00:25:00-05:00</td>\n",
       "      <td>645</td>\n",
       "      <td>7203.0</td>\n",
       "      <td>Bathurst St / Queens Quay W</td>\n",
       "      <td>7010.0</td>\n",
       "      <td>King St W / Spadina Ave</td>\n",
       "      <td>Member</td>\n",
       "    </tr>\n",
       "    <tr>\n",
       "      <th>...</th>\n",
       "      <td>...</td>\n",
       "      <td>...</td>\n",
       "      <td>...</td>\n",
       "      <td>...</td>\n",
       "      <td>...</td>\n",
       "      <td>...</td>\n",
       "      <td>...</td>\n",
       "      <td>...</td>\n",
       "      <td>...</td>\n",
       "    </tr>\n",
       "    <tr>\n",
       "      <th>1492364</th>\n",
       "      <td>1971680</td>\n",
       "      <td>2017-10-01 00:59:00-04:00</td>\n",
       "      <td>2017-10-01 01:04:00-04:00</td>\n",
       "      <td>337</td>\n",
       "      <td>7031.0</td>\n",
       "      <td>Jarvis St / Isabella St</td>\n",
       "      <td>7126.0</td>\n",
       "      <td>Yonge St / Yorkville Ave</td>\n",
       "      <td>Member</td>\n",
       "    </tr>\n",
       "    <tr>\n",
       "      <th>1492365</th>\n",
       "      <td>1971681</td>\n",
       "      <td>2017-10-01 00:59:00-04:00</td>\n",
       "      <td>2017-10-01 01:07:00-04:00</td>\n",
       "      <td>494</td>\n",
       "      <td>7024.0</td>\n",
       "      <td>Dundonald St / Church St</td>\n",
       "      <td>NaN</td>\n",
       "      <td>Victoria St / Gould St (Ryerson University)</td>\n",
       "      <td>Member</td>\n",
       "    </tr>\n",
       "    <tr>\n",
       "      <th>1492366</th>\n",
       "      <td>1971682</td>\n",
       "      <td>2017-10-01 00:59:00-04:00</td>\n",
       "      <td>2017-10-01 01:18:00-04:00</td>\n",
       "      <td>1114</td>\n",
       "      <td>7248.0</td>\n",
       "      <td>Baldwin Ave / Spadina Ave - SMART</td>\n",
       "      <td>7135.0</td>\n",
       "      <td>Hanna Ave / Liberty St</td>\n",
       "      <td>Member</td>\n",
       "    </tr>\n",
       "    <tr>\n",
       "      <th>1492367</th>\n",
       "      <td>1971683</td>\n",
       "      <td>2017-10-01 00:59:00-04:00</td>\n",
       "      <td>2017-10-01 01:19:00-04:00</td>\n",
       "      <td>1192</td>\n",
       "      <td>7043.0</td>\n",
       "      <td>Queens Quay W / Lower Simcoe St</td>\n",
       "      <td>7243.0</td>\n",
       "      <td>Exhibition GO Station</td>\n",
       "      <td>Casual</td>\n",
       "    </tr>\n",
       "    <tr>\n",
       "      <th>1492368</th>\n",
       "      <td>1971684</td>\n",
       "      <td>2017-10-01 00:59:00-04:00</td>\n",
       "      <td>2017-10-01 01:19:00-04:00</td>\n",
       "      <td>1190</td>\n",
       "      <td>7043.0</td>\n",
       "      <td>Queens Quay W / Lower Simcoe St</td>\n",
       "      <td>7243.0</td>\n",
       "      <td>Exhibition GO Station</td>\n",
       "      <td>Casual</td>\n",
       "    </tr>\n",
       "  </tbody>\n",
       "</table>\n",
       "<p>1378074 rows × 9 columns</p>\n",
       "</div>"
      ],
      "text/plain": [
       "         Trip Id                Start Time                  End Time  \\\n",
       "0         712441 2017-01-01 00:03:00-05:00 2017-01-01 00:08:00-05:00   \n",
       "1         712442 2017-01-01 00:03:00-05:00 2017-01-01 00:12:00-05:00   \n",
       "2         712443 2017-01-01 00:05:00-05:00 2017-01-01 00:22:00-05:00   \n",
       "3         712444 2017-01-01 00:09:00-05:00 2017-01-01 00:26:00-05:00   \n",
       "4         712445 2017-01-01 00:14:00-05:00 2017-01-01 00:25:00-05:00   \n",
       "...          ...                       ...                       ...   \n",
       "1492364  1971680 2017-10-01 00:59:00-04:00 2017-10-01 01:04:00-04:00   \n",
       "1492365  1971681 2017-10-01 00:59:00-04:00 2017-10-01 01:07:00-04:00   \n",
       "1492366  1971682 2017-10-01 00:59:00-04:00 2017-10-01 01:18:00-04:00   \n",
       "1492367  1971683 2017-10-01 00:59:00-04:00 2017-10-01 01:19:00-04:00   \n",
       "1492368  1971684 2017-10-01 00:59:00-04:00 2017-10-01 01:19:00-04:00   \n",
       "\n",
       "         Trip Duration  Start Station Id  \\\n",
       "0                  274            7006.0   \n",
       "1                  538            7046.0   \n",
       "2                  992            7048.0   \n",
       "3                 1005            7177.0   \n",
       "4                  645            7203.0   \n",
       "...                ...               ...   \n",
       "1492364            337            7031.0   \n",
       "1492365            494            7024.0   \n",
       "1492366           1114            7248.0   \n",
       "1492367           1192            7043.0   \n",
       "1492368           1190            7043.0   \n",
       "\n",
       "                                Start Station Name  End Station Id  \\\n",
       "0                  Bay St / College St (East Side)          7021.0   \n",
       "1                       Niagara St / Richmond St W          7147.0   \n",
       "2        Front St / Yonge St (Hockey Hall of Fame)          7089.0   \n",
       "3                  East Liberty St / Pirandello St          7202.0   \n",
       "4                      Bathurst St / Queens Quay W          7010.0   \n",
       "...                                            ...             ...   \n",
       "1492364                    Jarvis St / Isabella St          7126.0   \n",
       "1492365                   Dundonald St / Church St             NaN   \n",
       "1492366          Baldwin Ave / Spadina Ave - SMART          7135.0   \n",
       "1492367            Queens Quay W / Lower Simcoe St          7243.0   \n",
       "1492368            Queens Quay W / Lower Simcoe St          7243.0   \n",
       "\n",
       "                                    End Station Name User Type  \n",
       "0                                 Bay St / Albert St    Member  \n",
       "1                             King St W / Fraser Ave    Member  \n",
       "2                               Church St  / Wood St    Member  \n",
       "3                   Queen St W / York St (City Hall)    Member  \n",
       "4                            King St W / Spadina Ave    Member  \n",
       "...                                              ...       ...  \n",
       "1492364                     Yonge St / Yorkville Ave    Member  \n",
       "1492365  Victoria St / Gould St (Ryerson University)    Member  \n",
       "1492366                       Hanna Ave / Liberty St    Member  \n",
       "1492367                        Exhibition GO Station    Casual  \n",
       "1492368                        Exhibition GO Station    Casual  \n",
       "\n",
       "[1378074 rows x 9 columns]"
      ]
     },
     "execution_count": 68,
     "metadata": {},
     "output_type": "execute_result"
    }
   ],
   "source": [
    "fill_ID(ridership_est_2017)"
   ]
  },
  {
   "cell_type": "code",
   "execution_count": 69,
   "metadata": {
    "ExecuteTime": {
     "end_time": "2022-12-01T08:58:40.843563Z",
     "start_time": "2022-12-01T08:58:40.691234Z"
    }
   },
   "outputs": [
    {
     "data": {
      "text/html": [
       "<div>\n",
       "<style scoped>\n",
       "    .dataframe tbody tr th:only-of-type {\n",
       "        vertical-align: middle;\n",
       "    }\n",
       "\n",
       "    .dataframe tbody tr th {\n",
       "        vertical-align: top;\n",
       "    }\n",
       "\n",
       "    .dataframe thead th {\n",
       "        text-align: right;\n",
       "    }\n",
       "</style>\n",
       "<table border=\"1\" class=\"dataframe\">\n",
       "  <thead>\n",
       "    <tr style=\"text-align: right;\">\n",
       "      <th></th>\n",
       "      <th>Trip Id</th>\n",
       "      <th>Start Time</th>\n",
       "      <th>End Time</th>\n",
       "      <th>Trip Duration</th>\n",
       "      <th>Start Station Id</th>\n",
       "      <th>Start Station Name</th>\n",
       "      <th>End Station Id</th>\n",
       "      <th>End Station Name</th>\n",
       "      <th>User Type</th>\n",
       "    </tr>\n",
       "  </thead>\n",
       "  <tbody>\n",
       "    <tr>\n",
       "      <th>0</th>\n",
       "      <td>712441</td>\n",
       "      <td>2017-01-01 00:03:00-05:00</td>\n",
       "      <td>2017-01-01 00:08:00-05:00</td>\n",
       "      <td>274</td>\n",
       "      <td>7006.0</td>\n",
       "      <td>Bay St / College St (East Side)</td>\n",
       "      <td>7021.0</td>\n",
       "      <td>Bay St / Albert St</td>\n",
       "      <td>Member</td>\n",
       "    </tr>\n",
       "    <tr>\n",
       "      <th>1</th>\n",
       "      <td>712442</td>\n",
       "      <td>2017-01-01 00:03:00-05:00</td>\n",
       "      <td>2017-01-01 00:12:00-05:00</td>\n",
       "      <td>538</td>\n",
       "      <td>7046.0</td>\n",
       "      <td>Niagara St / Richmond St W</td>\n",
       "      <td>7147.0</td>\n",
       "      <td>King St W / Fraser Ave</td>\n",
       "      <td>Member</td>\n",
       "    </tr>\n",
       "    <tr>\n",
       "      <th>2</th>\n",
       "      <td>712443</td>\n",
       "      <td>2017-01-01 00:05:00-05:00</td>\n",
       "      <td>2017-01-01 00:22:00-05:00</td>\n",
       "      <td>992</td>\n",
       "      <td>7048.0</td>\n",
       "      <td>Front St / Yonge St (Hockey Hall of Fame)</td>\n",
       "      <td>7089.0</td>\n",
       "      <td>Church St  / Wood St</td>\n",
       "      <td>Member</td>\n",
       "    </tr>\n",
       "    <tr>\n",
       "      <th>3</th>\n",
       "      <td>712444</td>\n",
       "      <td>2017-01-01 00:09:00-05:00</td>\n",
       "      <td>2017-01-01 00:26:00-05:00</td>\n",
       "      <td>1005</td>\n",
       "      <td>7177.0</td>\n",
       "      <td>East Liberty St / Pirandello St</td>\n",
       "      <td>7202.0</td>\n",
       "      <td>Queen St W / York St (City Hall)</td>\n",
       "      <td>Member</td>\n",
       "    </tr>\n",
       "    <tr>\n",
       "      <th>4</th>\n",
       "      <td>712445</td>\n",
       "      <td>2017-01-01 00:14:00-05:00</td>\n",
       "      <td>2017-01-01 00:25:00-05:00</td>\n",
       "      <td>645</td>\n",
       "      <td>7203.0</td>\n",
       "      <td>Bathurst St / Queens Quay W</td>\n",
       "      <td>7010.0</td>\n",
       "      <td>King St W / Spadina Ave</td>\n",
       "      <td>Member</td>\n",
       "    </tr>\n",
       "    <tr>\n",
       "      <th>...</th>\n",
       "      <td>...</td>\n",
       "      <td>...</td>\n",
       "      <td>...</td>\n",
       "      <td>...</td>\n",
       "      <td>...</td>\n",
       "      <td>...</td>\n",
       "      <td>...</td>\n",
       "      <td>...</td>\n",
       "      <td>...</td>\n",
       "    </tr>\n",
       "    <tr>\n",
       "      <th>1492364</th>\n",
       "      <td>1971680</td>\n",
       "      <td>2017-10-01 00:59:00-04:00</td>\n",
       "      <td>2017-10-01 01:04:00-04:00</td>\n",
       "      <td>337</td>\n",
       "      <td>7031.0</td>\n",
       "      <td>Jarvis St / Isabella St</td>\n",
       "      <td>7126.0</td>\n",
       "      <td>Yonge St / Yorkville Ave</td>\n",
       "      <td>Member</td>\n",
       "    </tr>\n",
       "    <tr>\n",
       "      <th>1492365</th>\n",
       "      <td>1971681</td>\n",
       "      <td>2017-10-01 00:59:00-04:00</td>\n",
       "      <td>2017-10-01 01:07:00-04:00</td>\n",
       "      <td>494</td>\n",
       "      <td>7024.0</td>\n",
       "      <td>Dundonald St / Church St</td>\n",
       "      <td>NaN</td>\n",
       "      <td>Victoria St / Gould St (Ryerson University)</td>\n",
       "      <td>Member</td>\n",
       "    </tr>\n",
       "    <tr>\n",
       "      <th>1492366</th>\n",
       "      <td>1971682</td>\n",
       "      <td>2017-10-01 00:59:00-04:00</td>\n",
       "      <td>2017-10-01 01:18:00-04:00</td>\n",
       "      <td>1114</td>\n",
       "      <td>7248.0</td>\n",
       "      <td>Baldwin Ave / Spadina Ave - SMART</td>\n",
       "      <td>7135.0</td>\n",
       "      <td>Hanna Ave / Liberty St</td>\n",
       "      <td>Member</td>\n",
       "    </tr>\n",
       "    <tr>\n",
       "      <th>1492367</th>\n",
       "      <td>1971683</td>\n",
       "      <td>2017-10-01 00:59:00-04:00</td>\n",
       "      <td>2017-10-01 01:19:00-04:00</td>\n",
       "      <td>1192</td>\n",
       "      <td>7043.0</td>\n",
       "      <td>Queens Quay W / Lower Simcoe St</td>\n",
       "      <td>7243.0</td>\n",
       "      <td>Exhibition GO Station</td>\n",
       "      <td>Casual</td>\n",
       "    </tr>\n",
       "    <tr>\n",
       "      <th>1492368</th>\n",
       "      <td>1971684</td>\n",
       "      <td>2017-10-01 00:59:00-04:00</td>\n",
       "      <td>2017-10-01 01:19:00-04:00</td>\n",
       "      <td>1190</td>\n",
       "      <td>7043.0</td>\n",
       "      <td>Queens Quay W / Lower Simcoe St</td>\n",
       "      <td>7243.0</td>\n",
       "      <td>Exhibition GO Station</td>\n",
       "      <td>Casual</td>\n",
       "    </tr>\n",
       "  </tbody>\n",
       "</table>\n",
       "<p>1378074 rows × 9 columns</p>\n",
       "</div>"
      ],
      "text/plain": [
       "         Trip Id                Start Time                  End Time  \\\n",
       "0         712441 2017-01-01 00:03:00-05:00 2017-01-01 00:08:00-05:00   \n",
       "1         712442 2017-01-01 00:03:00-05:00 2017-01-01 00:12:00-05:00   \n",
       "2         712443 2017-01-01 00:05:00-05:00 2017-01-01 00:22:00-05:00   \n",
       "3         712444 2017-01-01 00:09:00-05:00 2017-01-01 00:26:00-05:00   \n",
       "4         712445 2017-01-01 00:14:00-05:00 2017-01-01 00:25:00-05:00   \n",
       "...          ...                       ...                       ...   \n",
       "1492364  1971680 2017-10-01 00:59:00-04:00 2017-10-01 01:04:00-04:00   \n",
       "1492365  1971681 2017-10-01 00:59:00-04:00 2017-10-01 01:07:00-04:00   \n",
       "1492366  1971682 2017-10-01 00:59:00-04:00 2017-10-01 01:18:00-04:00   \n",
       "1492367  1971683 2017-10-01 00:59:00-04:00 2017-10-01 01:19:00-04:00   \n",
       "1492368  1971684 2017-10-01 00:59:00-04:00 2017-10-01 01:19:00-04:00   \n",
       "\n",
       "         Trip Duration  Start Station Id  \\\n",
       "0                  274            7006.0   \n",
       "1                  538            7046.0   \n",
       "2                  992            7048.0   \n",
       "3                 1005            7177.0   \n",
       "4                  645            7203.0   \n",
       "...                ...               ...   \n",
       "1492364            337            7031.0   \n",
       "1492365            494            7024.0   \n",
       "1492366           1114            7248.0   \n",
       "1492367           1192            7043.0   \n",
       "1492368           1190            7043.0   \n",
       "\n",
       "                                Start Station Name  End Station Id  \\\n",
       "0                  Bay St / College St (East Side)          7021.0   \n",
       "1                       Niagara St / Richmond St W          7147.0   \n",
       "2        Front St / Yonge St (Hockey Hall of Fame)          7089.0   \n",
       "3                  East Liberty St / Pirandello St          7202.0   \n",
       "4                      Bathurst St / Queens Quay W          7010.0   \n",
       "...                                            ...             ...   \n",
       "1492364                    Jarvis St / Isabella St          7126.0   \n",
       "1492365                   Dundonald St / Church St             NaN   \n",
       "1492366          Baldwin Ave / Spadina Ave - SMART          7135.0   \n",
       "1492367            Queens Quay W / Lower Simcoe St          7243.0   \n",
       "1492368            Queens Quay W / Lower Simcoe St          7243.0   \n",
       "\n",
       "                                    End Station Name User Type  \n",
       "0                                 Bay St / Albert St    Member  \n",
       "1                             King St W / Fraser Ave    Member  \n",
       "2                               Church St  / Wood St    Member  \n",
       "3                   Queen St W / York St (City Hall)    Member  \n",
       "4                            King St W / Spadina Ave    Member  \n",
       "...                                              ...       ...  \n",
       "1492364                     Yonge St / Yorkville Ave    Member  \n",
       "1492365  Victoria St / Gould St (Ryerson University)    Member  \n",
       "1492366                       Hanna Ave / Liberty St    Member  \n",
       "1492367                        Exhibition GO Station    Casual  \n",
       "1492368                        Exhibition GO Station    Casual  \n",
       "\n",
       "[1378074 rows x 9 columns]"
      ]
     },
     "execution_count": 69,
     "metadata": {},
     "output_type": "execute_result"
    }
   ],
   "source": [
    "fill_name(ridership_est_2017)"
   ]
  },
  {
   "cell_type": "code",
   "execution_count": 70,
   "metadata": {
    "ExecuteTime": {
     "end_time": "2022-12-01T08:58:41.310745Z",
     "start_time": "2022-12-01T08:58:40.845567Z"
    },
    "scrolled": true
   },
   "outputs": [
    {
     "data": {
      "text/plain": [
       "Trip Id                    0\n",
       "Start Time                 0\n",
       "End Time                   0\n",
       "Trip Duration              0\n",
       "Start Station Id      236883\n",
       "Start Station Name         0\n",
       "End Station Id        241751\n",
       "End Station Name           0\n",
       "User Type                  0\n",
       "dtype: int64"
      ]
     },
     "execution_count": 70,
     "metadata": {},
     "output_type": "execute_result"
    }
   ],
   "source": [
    "ridership_est_2017.isnull().sum()"
   ]
  },
  {
   "cell_type": "markdown",
   "metadata": {},
   "source": [
    "Missing Station Id can be reduced using fill_ID. But there are still lots of missing values."
   ]
  },
  {
   "cell_type": "code",
   "execution_count": 71,
   "metadata": {
    "ExecuteTime": {
     "end_time": "2022-12-01T08:58:41.356925Z",
     "start_time": "2022-12-01T08:58:41.312771Z"
    },
    "scrolled": false
   },
   "outputs": [
    {
     "data": {
      "text/html": [
       "<div>\n",
       "<style scoped>\n",
       "    .dataframe tbody tr th:only-of-type {\n",
       "        vertical-align: middle;\n",
       "    }\n",
       "\n",
       "    .dataframe tbody tr th {\n",
       "        vertical-align: top;\n",
       "    }\n",
       "\n",
       "    .dataframe thead th {\n",
       "        text-align: right;\n",
       "    }\n",
       "</style>\n",
       "<table border=\"1\" class=\"dataframe\">\n",
       "  <thead>\n",
       "    <tr style=\"text-align: right;\">\n",
       "      <th></th>\n",
       "      <th>Trip Id</th>\n",
       "      <th>Start Time</th>\n",
       "      <th>End Time</th>\n",
       "      <th>Trip Duration</th>\n",
       "      <th>Start Station Id</th>\n",
       "      <th>Start Station Name</th>\n",
       "      <th>End Station Id</th>\n",
       "      <th>End Station Name</th>\n",
       "      <th>User Type</th>\n",
       "    </tr>\n",
       "  </thead>\n",
       "  <tbody>\n",
       "    <tr>\n",
       "      <th>41419</th>\n",
       "      <td>1971687</td>\n",
       "      <td>2017-10-01 01:00:00-04:00</td>\n",
       "      <td>2017-10-01 01:22:00-04:00</td>\n",
       "      <td>1310</td>\n",
       "      <td>7162.0</td>\n",
       "      <td>Hayter St / Laplante Ave</td>\n",
       "      <td>NaN</td>\n",
       "      <td>Queen St W / Portland St</td>\n",
       "      <td>Member</td>\n",
       "    </tr>\n",
       "    <tr>\n",
       "      <th>41420</th>\n",
       "      <td>1971688</td>\n",
       "      <td>2017-10-01 01:00:00-04:00</td>\n",
       "      <td>2017-10-01 01:11:00-04:00</td>\n",
       "      <td>631</td>\n",
       "      <td>NaN</td>\n",
       "      <td>Beverly St / College St</td>\n",
       "      <td>NaN</td>\n",
       "      <td>Beverly  St / Dundas St W</td>\n",
       "      <td>Member</td>\n",
       "    </tr>\n",
       "    <tr>\n",
       "      <th>41422</th>\n",
       "      <td>1971690</td>\n",
       "      <td>2017-10-01 01:01:00-04:00</td>\n",
       "      <td>2017-10-01 01:07:00-04:00</td>\n",
       "      <td>396</td>\n",
       "      <td>7024.0</td>\n",
       "      <td>Dundonald St / Church St</td>\n",
       "      <td>NaN</td>\n",
       "      <td>Victoria St / Gould St (Ryerson University)</td>\n",
       "      <td>Member</td>\n",
       "    </tr>\n",
       "    <tr>\n",
       "      <th>41423</th>\n",
       "      <td>1971691</td>\n",
       "      <td>2017-10-01 01:01:00-04:00</td>\n",
       "      <td>2017-10-01 01:11:00-04:00</td>\n",
       "      <td>592</td>\n",
       "      <td>NaN</td>\n",
       "      <td>Widmer St / Adelaide St W</td>\n",
       "      <td>7033.0</td>\n",
       "      <td>Union Station</td>\n",
       "      <td>Casual</td>\n",
       "    </tr>\n",
       "    <tr>\n",
       "      <th>41424</th>\n",
       "      <td>1971692</td>\n",
       "      <td>2017-10-01 01:01:00-04:00</td>\n",
       "      <td>2017-10-01 01:14:00-04:00</td>\n",
       "      <td>810</td>\n",
       "      <td>NaN</td>\n",
       "      <td>Stewart St / Bathurst St  - SMART</td>\n",
       "      <td>7022.0</td>\n",
       "      <td>Simcoe St / Queen St W</td>\n",
       "      <td>Casual</td>\n",
       "    </tr>\n",
       "  </tbody>\n",
       "</table>\n",
       "</div>"
      ],
      "text/plain": [
       "       Trip Id                Start Time                  End Time  \\\n",
       "41419  1971687 2017-10-01 01:00:00-04:00 2017-10-01 01:22:00-04:00   \n",
       "41420  1971688 2017-10-01 01:00:00-04:00 2017-10-01 01:11:00-04:00   \n",
       "41422  1971690 2017-10-01 01:01:00-04:00 2017-10-01 01:07:00-04:00   \n",
       "41423  1971691 2017-10-01 01:01:00-04:00 2017-10-01 01:11:00-04:00   \n",
       "41424  1971692 2017-10-01 01:01:00-04:00 2017-10-01 01:14:00-04:00   \n",
       "\n",
       "       Trip Duration  Start Station Id                 Start Station Name  \\\n",
       "41419           1310            7162.0           Hayter St / Laplante Ave   \n",
       "41420            631               NaN            Beverly St / College St   \n",
       "41422            396            7024.0           Dundonald St / Church St   \n",
       "41423            592               NaN          Widmer St / Adelaide St W   \n",
       "41424            810               NaN  Stewart St / Bathurst St  - SMART   \n",
       "\n",
       "       End Station Id                             End Station Name User Type  \n",
       "41419             NaN                     Queen St W / Portland St    Member  \n",
       "41420             NaN                    Beverly  St / Dundas St W    Member  \n",
       "41422             NaN  Victoria St / Gould St (Ryerson University)    Member  \n",
       "41423          7033.0                                Union Station    Casual  \n",
       "41424          7022.0                       Simcoe St / Queen St W    Casual  "
      ]
     },
     "execution_count": 71,
     "metadata": {},
     "output_type": "execute_result"
    }
   ],
   "source": [
    "#Check again the trips with missing Station Id\n",
    "ridership_est_2017[\n",
    "    (ridership_est_2017['Start Station Id'].isnull()==True) | \n",
    "    (ridership_est_2017['End Station Id'].isnull()==True)].head()"
   ]
  },
  {
   "cell_type": "markdown",
   "metadata": {},
   "source": [
    "The remaining missing values are because there are inconsistency issues with the station name column. Some of the stations names can't be found in bikeshare_stations data possibly due to station upgrade or typos. So we need to update the Station Names based on bikeshare_stations data."
   ]
  },
  {
   "cell_type": "code",
   "execution_count": 72,
   "metadata": {
    "ExecuteTime": {
     "end_time": "2022-12-01T08:58:41.372485Z",
     "start_time": "2022-12-01T08:58:41.358938Z"
    }
   },
   "outputs": [],
   "source": [
    "# Obtain an updated station name list from station dataset\n",
    "station_names = bikeshare_stations['Station Name'].unique()"
   ]
  },
  {
   "cell_type": "markdown",
   "metadata": {},
   "source": [
    "The stations without Station ID may not have exact matched names in bikeshare_station data, but we can probably find entries with the same names in ridership data that has Station ID. Since one station ID may relate to multiple messy names, but one station can only have one station ID. We can then use this ID to find the updated name for each station."
   ]
  },
  {
   "cell_type": "code",
   "execution_count": 73,
   "metadata": {
    "ExecuteTime": {
     "end_time": "2022-12-01T08:58:41.637558Z",
     "start_time": "2022-12-01T08:58:41.374008Z"
    }
   },
   "outputs": [],
   "source": [
    "# Extract both starting station names and ending station names from the ridership dataframe as old station names\n",
    "stations_start = ridership[['Start Station Id', 'Start Station Name']]\n",
    "stations_end = ridership[['End Station Id', 'End Station Name']]\n",
    "stations_start.columns = stations_end.columns = ['Station Id', 'Station Name']"
   ]
  },
  {
   "cell_type": "code",
   "execution_count": 74,
   "metadata": {
    "ExecuteTime": {
     "end_time": "2022-12-01T08:58:49.936030Z",
     "start_time": "2022-12-01T08:58:41.641095Z"
    }
   },
   "outputs": [],
   "source": [
    "# Combine the stations into a single dataframe stations_old\n",
    "stations_old = pd.concat([stations_start, stations_end]).dropna(how='all').drop_duplicates().reset_index(drop=True)\n",
    "stations_old = stations_old.dropna(subset='Station Name')\n",
    "\n",
    "# Drop rows with duplicate station names, keeping the one with a Station Id\n",
    "stations_old = stations_old.sort_values(['Station Id'], na_position='last').drop_duplicates('Station Name', keep='first')"
   ]
  },
  {
   "cell_type": "code",
   "execution_count": 75,
   "metadata": {
    "ExecuteTime": {
     "end_time": "2022-12-01T08:58:49.951096Z",
     "start_time": "2022-12-01T08:58:49.939603Z"
    },
    "scrolled": true
   },
   "outputs": [
    {
     "name": "stdout",
     "output_type": "stream",
     "text": [
      "<class 'pandas.core.frame.DataFrame'>\n",
      "Int64Index: 817 entries, 477 to 470\n",
      "Data columns (total 2 columns):\n",
      " #   Column        Non-Null Count  Dtype  \n",
      "---  ------        --------------  -----  \n",
      " 0   Station Id    807 non-null    float64\n",
      " 1   Station Name  817 non-null    object \n",
      "dtypes: float64(1), object(1)\n",
      "memory usage: 19.1+ KB\n"
     ]
    }
   ],
   "source": [
    "stations_old.info()"
   ]
  },
  {
   "cell_type": "code",
   "execution_count": 76,
   "metadata": {
    "ExecuteTime": {
     "end_time": "2022-12-01T08:58:49.966217Z",
     "start_time": "2022-12-01T08:58:49.954106Z"
    }
   },
   "outputs": [
    {
     "data": {
      "text/plain": [
       "Station Id      626\n",
       "Station Name    817\n",
       "dtype: int64"
      ]
     },
     "execution_count": 76,
     "metadata": {},
     "output_type": "execute_result"
    }
   ],
   "source": [
    "stations_old.nunique()"
   ]
  },
  {
   "cell_type": "code",
   "execution_count": 77,
   "metadata": {
    "ExecuteTime": {
     "end_time": "2022-12-01T08:58:49.982331Z",
     "start_time": "2022-12-01T08:58:49.968217Z"
    }
   },
   "outputs": [],
   "source": [
    "# try finding the stations with missing ID using bikeshare_stations data\n",
    "stations_old['Station Id'].fillna(\n",
    "    stations_old['Station Name'].map(bikeshare_stations.set_index('Station Name')['Station Id']),\n",
    "    inplace=True)"
   ]
  },
  {
   "cell_type": "code",
   "execution_count": 78,
   "metadata": {
    "ExecuteTime": {
     "end_time": "2022-12-01T08:58:49.997817Z",
     "start_time": "2022-12-01T08:58:49.985278Z"
    },
    "scrolled": false
   },
   "outputs": [
    {
     "data": {
      "text/html": [
       "<div>\n",
       "<style scoped>\n",
       "    .dataframe tbody tr th:only-of-type {\n",
       "        vertical-align: middle;\n",
       "    }\n",
       "\n",
       "    .dataframe tbody tr th {\n",
       "        vertical-align: top;\n",
       "    }\n",
       "\n",
       "    .dataframe thead th {\n",
       "        text-align: right;\n",
       "    }\n",
       "</style>\n",
       "<table border=\"1\" class=\"dataframe\">\n",
       "  <thead>\n",
       "    <tr style=\"text-align: right;\">\n",
       "      <th></th>\n",
       "      <th>Station Id</th>\n",
       "      <th>Station Name</th>\n",
       "    </tr>\n",
       "  </thead>\n",
       "  <tbody>\n",
       "    <tr>\n",
       "      <th>203</th>\n",
       "      <td>NaN</td>\n",
       "      <td>Beverly St / College St</td>\n",
       "    </tr>\n",
       "    <tr>\n",
       "      <th>218</th>\n",
       "      <td>NaN</td>\n",
       "      <td>Dovercourt Rd / Harrison St - SMART</td>\n",
       "    </tr>\n",
       "    <tr>\n",
       "      <th>226</th>\n",
       "      <td>NaN</td>\n",
       "      <td>Roxton Rd / College St</td>\n",
       "    </tr>\n",
       "    <tr>\n",
       "      <th>249</th>\n",
       "      <td>NaN</td>\n",
       "      <td>Michael Sweet Ave / St. Patrick St</td>\n",
       "    </tr>\n",
       "    <tr>\n",
       "      <th>263</th>\n",
       "      <td>NaN</td>\n",
       "      <td>Lansdowne Subway Green P</td>\n",
       "    </tr>\n",
       "    <tr>\n",
       "      <th>303</th>\n",
       "      <td>NaN</td>\n",
       "      <td>Lake Shore Blvd W / Ontario Dr(Ontario Place)</td>\n",
       "    </tr>\n",
       "    <tr>\n",
       "      <th>306</th>\n",
       "      <td>NaN</td>\n",
       "      <td>Fringe Next Stage - 7219</td>\n",
       "    </tr>\n",
       "    <tr>\n",
       "      <th>411</th>\n",
       "      <td>NaN</td>\n",
       "      <td>Margueretta St / College St</td>\n",
       "    </tr>\n",
       "    <tr>\n",
       "      <th>445</th>\n",
       "      <td>NaN</td>\n",
       "      <td>Summerhill Ave / MacLennan Ave - SMART</td>\n",
       "    </tr>\n",
       "    <tr>\n",
       "      <th>470</th>\n",
       "      <td>NaN</td>\n",
       "      <td>Base Station</td>\n",
       "    </tr>\n",
       "  </tbody>\n",
       "</table>\n",
       "</div>"
      ],
      "text/plain": [
       "     Station Id                                   Station Name\n",
       "203         NaN                        Beverly St / College St\n",
       "218         NaN            Dovercourt Rd / Harrison St - SMART\n",
       "226         NaN                         Roxton Rd / College St\n",
       "249         NaN             Michael Sweet Ave / St. Patrick St\n",
       "263         NaN                       Lansdowne Subway Green P\n",
       "303         NaN  Lake Shore Blvd W / Ontario Dr(Ontario Place)\n",
       "306         NaN                       Fringe Next Stage - 7219\n",
       "411         NaN                    Margueretta St / College St\n",
       "445         NaN         Summerhill Ave / MacLennan Ave - SMART\n",
       "470         NaN                                   Base Station"
      ]
     },
     "execution_count": 78,
     "metadata": {},
     "output_type": "execute_result"
    }
   ],
   "source": [
    "# Separate the stations names that has no station ID\n",
    "stations_old_ID = stations_old[stations_old['Station Id'].isnull()==False]\n",
    "stations_old_noID = stations_old[stations_old['Station Id'].isnull()==True]\n",
    "stations_old_noID"
   ]
  },
  {
   "cell_type": "markdown",
   "metadata": {},
   "source": [
    "These stations may have new names in the updated bikeshare_stations data. So we can use fuzz to find their possible new name and then try to fill their missing ID."
   ]
  },
  {
   "cell_type": "code",
   "execution_count": 79,
   "metadata": {
    "ExecuteTime": {
     "end_time": "2022-12-01T08:58:50.014524Z",
     "start_time": "2022-12-01T08:58:50.000833Z"
    },
    "code_folding": [
     0
    ]
   },
   "outputs": [],
   "source": [
    "# Create a find_fuzz function for find the updated station names using fuzz\n",
    "# we use token sort ratio from fuzz to match two similar strings as possible pairs\n",
    "# of old and new station names. If the order in which the words are placed in \n",
    "# a particular sentence doesn’t matter then the best way to match two strings \n",
    "# is by the use of Token Sort Ratio.\n",
    "\n",
    "def find_fuzz(old_name, station_names):\n",
    "    \"\"\"This function creates a dictionary to update an old_name \n",
    "    with a new name (the station names in the bikeshare_station dataset).\n",
    "    \"\"\"\n",
    "    # When the matching score is below threshold, the output is 'No Match Station'\n",
    "    result_dict  = {0: 'No Match Station'}\n",
    "    \n",
    "    if old_name in station_names:\n",
    "        return old_name\n",
    "    else:\n",
    "        for new_name in station_names:\n",
    "            if fuzz.token_sort_ratio(new_name,old_name) >= 80:\n",
    "                result_dict[fuzz.token_sort_ratio(new_name,old_name)] = str(new_name)\n",
    "    \n",
    "    result = result_dict[max(result_dict.keys())]\n",
    "    \n",
    "    return result"
   ]
  },
  {
   "cell_type": "code",
   "execution_count": 80,
   "metadata": {
    "ExecuteTime": {
     "end_time": "2022-12-01T08:58:50.030027Z",
     "start_time": "2022-12-01T08:58:50.016449Z"
    },
    "code_folding": [
     0
    ]
   },
   "outputs": [],
   "source": [
    "# Create a fuzz_replace function for replacing the name found by find_fuzz\n",
    "def fuzz_replace(old_name):\n",
    "    \"\"\"This function is to replace the old station name in a dataframe. \n",
    "    \"\"\"\n",
    "    \n",
    "    if old_name in find_fuzzname['Station Name']:\n",
    "        return find_fuzzname[find_fuzzname['Station Name']==old_name]['possible_new_name'].tolist()[0]\n",
    "    else:\n",
    "        return old_name"
   ]
  },
  {
   "cell_type": "code",
   "execution_count": 81,
   "metadata": {
    "ExecuteTime": {
     "end_time": "2022-12-01T08:58:50.184309Z",
     "start_time": "2022-12-01T08:58:50.033006Z"
    },
    "scrolled": false
   },
   "outputs": [
    {
     "data": {
      "text/html": [
       "<div>\n",
       "<style scoped>\n",
       "    .dataframe tbody tr th:only-of-type {\n",
       "        vertical-align: middle;\n",
       "    }\n",
       "\n",
       "    .dataframe tbody tr th {\n",
       "        vertical-align: top;\n",
       "    }\n",
       "\n",
       "    .dataframe thead th {\n",
       "        text-align: right;\n",
       "    }\n",
       "</style>\n",
       "<table border=\"1\" class=\"dataframe\">\n",
       "  <thead>\n",
       "    <tr style=\"text-align: right;\">\n",
       "      <th></th>\n",
       "      <th>Station Id</th>\n",
       "      <th>Station Name</th>\n",
       "      <th>possible_new_name</th>\n",
       "    </tr>\n",
       "  </thead>\n",
       "  <tbody>\n",
       "    <tr>\n",
       "      <th>203</th>\n",
       "      <td>NaN</td>\n",
       "      <td>Beverly St / College St</td>\n",
       "      <td>Beverley St / College St</td>\n",
       "    </tr>\n",
       "    <tr>\n",
       "      <th>218</th>\n",
       "      <td>NaN</td>\n",
       "      <td>Dovercourt Rd / Harrison St - SMART</td>\n",
       "      <td>Dovercourt Rd / Harrison St (Green P) - SMART</td>\n",
       "    </tr>\n",
       "    <tr>\n",
       "      <th>226</th>\n",
       "      <td>NaN</td>\n",
       "      <td>Roxton Rd / College St</td>\n",
       "      <td>No Match Station</td>\n",
       "    </tr>\n",
       "    <tr>\n",
       "      <th>249</th>\n",
       "      <td>NaN</td>\n",
       "      <td>Michael Sweet Ave / St. Patrick St</td>\n",
       "      <td>No Match Station</td>\n",
       "    </tr>\n",
       "    <tr>\n",
       "      <th>263</th>\n",
       "      <td>NaN</td>\n",
       "      <td>Lansdowne Subway Green P</td>\n",
       "      <td>No Match Station</td>\n",
       "    </tr>\n",
       "    <tr>\n",
       "      <th>303</th>\n",
       "      <td>NaN</td>\n",
       "      <td>Lake Shore Blvd W / Ontario Dr(Ontario Place)</td>\n",
       "      <td>Lake Shore Blvd W / Ontario Dr</td>\n",
       "    </tr>\n",
       "    <tr>\n",
       "      <th>306</th>\n",
       "      <td>NaN</td>\n",
       "      <td>Fringe Next Stage - 7219</td>\n",
       "      <td>No Match Station</td>\n",
       "    </tr>\n",
       "    <tr>\n",
       "      <th>411</th>\n",
       "      <td>NaN</td>\n",
       "      <td>Margueretta St / College St</td>\n",
       "      <td>No Match Station</td>\n",
       "    </tr>\n",
       "    <tr>\n",
       "      <th>445</th>\n",
       "      <td>NaN</td>\n",
       "      <td>Summerhill Ave / MacLennan Ave - SMART</td>\n",
       "      <td>Summerhill Ave / Maclennan Ave</td>\n",
       "    </tr>\n",
       "    <tr>\n",
       "      <th>470</th>\n",
       "      <td>NaN</td>\n",
       "      <td>Base Station</td>\n",
       "      <td>No Match Station</td>\n",
       "    </tr>\n",
       "  </tbody>\n",
       "</table>\n",
       "</div>"
      ],
      "text/plain": [
       "     Station Id                                   Station Name  \\\n",
       "203         NaN                        Beverly St / College St   \n",
       "218         NaN            Dovercourt Rd / Harrison St - SMART   \n",
       "226         NaN                         Roxton Rd / College St   \n",
       "249         NaN             Michael Sweet Ave / St. Patrick St   \n",
       "263         NaN                       Lansdowne Subway Green P   \n",
       "303         NaN  Lake Shore Blvd W / Ontario Dr(Ontario Place)   \n",
       "306         NaN                       Fringe Next Stage - 7219   \n",
       "411         NaN                    Margueretta St / College St   \n",
       "445         NaN         Summerhill Ave / MacLennan Ave - SMART   \n",
       "470         NaN                                   Base Station   \n",
       "\n",
       "                                 possible_new_name  \n",
       "203                       Beverley St / College St  \n",
       "218  Dovercourt Rd / Harrison St (Green P) - SMART  \n",
       "226                               No Match Station  \n",
       "249                               No Match Station  \n",
       "263                               No Match Station  \n",
       "303                 Lake Shore Blvd W / Ontario Dr  \n",
       "306                               No Match Station  \n",
       "411                               No Match Station  \n",
       "445                 Summerhill Ave / Maclennan Ave  \n",
       "470                               No Match Station  "
      ]
     },
     "execution_count": 81,
     "metadata": {},
     "output_type": "execute_result"
    }
   ],
   "source": [
    "# find possible new names for the stations with no ID\n",
    "find_fuzzname = stations_old_noID.copy()\n",
    "find_fuzzname['possible_new_name'] = find_fuzzname['Station Name'].apply(lambda row: find_fuzz(row, station_names))\n",
    "find_fuzzname"
   ]
  },
  {
   "cell_type": "markdown",
   "metadata": {},
   "source": [
    "We can then have a look at it and manually replace some statins with their actual name.\n",
    "\n",
    "The stations with no match name can be drop since they are probably canceled stations with no known station ID and they are a small part of the whole stations."
   ]
  },
  {
   "cell_type": "code",
   "execution_count": 82,
   "metadata": {
    "ExecuteTime": {
     "end_time": "2022-12-01T08:58:50.199794Z",
     "start_time": "2022-12-01T08:58:50.188561Z"
    }
   },
   "outputs": [],
   "source": [
    "# Manually select some stations with their actual name\n",
    "fuzznames = ['Beverly St / College St', \n",
    "             'Dovercourt Rd / Harrison St - SMART',\n",
    "             'Lake Shore Blvd W / Ontario Dr(Ontario Place)',\n",
    "             'Summerhill Ave / MacLennan Ave - SMART']\n",
    "\n",
    "find_fuzzname = find_fuzzname[find_fuzzname['Station Name'].isin(fuzznames)]"
   ]
  },
  {
   "cell_type": "code",
   "execution_count": 83,
   "metadata": {
    "ExecuteTime": {
     "end_time": "2022-12-01T08:58:50.230093Z",
     "start_time": "2022-12-01T08:58:50.201802Z"
    }
   },
   "outputs": [
    {
     "data": {
      "text/html": [
       "<div>\n",
       "<style scoped>\n",
       "    .dataframe tbody tr th:only-of-type {\n",
       "        vertical-align: middle;\n",
       "    }\n",
       "\n",
       "    .dataframe tbody tr th {\n",
       "        vertical-align: top;\n",
       "    }\n",
       "\n",
       "    .dataframe thead th {\n",
       "        text-align: right;\n",
       "    }\n",
       "</style>\n",
       "<table border=\"1\" class=\"dataframe\">\n",
       "  <thead>\n",
       "    <tr style=\"text-align: right;\">\n",
       "      <th></th>\n",
       "      <th>Station Id</th>\n",
       "      <th>Station Name</th>\n",
       "      <th>possible_new_name</th>\n",
       "    </tr>\n",
       "  </thead>\n",
       "  <tbody>\n",
       "    <tr>\n",
       "      <th>203</th>\n",
       "      <td>7161.0</td>\n",
       "      <td>Beverly St / College St</td>\n",
       "      <td>Beverley St / College St</td>\n",
       "    </tr>\n",
       "    <tr>\n",
       "      <th>218</th>\n",
       "      <td>7249.0</td>\n",
       "      <td>Dovercourt Rd / Harrison St - SMART</td>\n",
       "      <td>Dovercourt Rd / Harrison St (Green P) - SMART</td>\n",
       "    </tr>\n",
       "    <tr>\n",
       "      <th>303</th>\n",
       "      <td>7242.0</td>\n",
       "      <td>Lake Shore Blvd W / Ontario Dr(Ontario Place)</td>\n",
       "      <td>Lake Shore Blvd W / Ontario Dr</td>\n",
       "    </tr>\n",
       "    <tr>\n",
       "      <th>445</th>\n",
       "      <td>7488.0</td>\n",
       "      <td>Summerhill Ave / MacLennan Ave - SMART</td>\n",
       "      <td>Summerhill Ave / Maclennan Ave</td>\n",
       "    </tr>\n",
       "  </tbody>\n",
       "</table>\n",
       "</div>"
      ],
      "text/plain": [
       "     Station Id                                   Station Name  \\\n",
       "203      7161.0                        Beverly St / College St   \n",
       "218      7249.0            Dovercourt Rd / Harrison St - SMART   \n",
       "303      7242.0  Lake Shore Blvd W / Ontario Dr(Ontario Place)   \n",
       "445      7488.0         Summerhill Ave / MacLennan Ave - SMART   \n",
       "\n",
       "                                 possible_new_name  \n",
       "203                       Beverley St / College St  \n",
       "218  Dovercourt Rd / Harrison St (Green P) - SMART  \n",
       "303                 Lake Shore Blvd W / Ontario Dr  \n",
       "445                 Summerhill Ave / Maclennan Ave  "
      ]
     },
     "execution_count": 83,
     "metadata": {},
     "output_type": "execute_result"
    }
   ],
   "source": [
    "# fill the missing stations Id with possible new names in find_fuzzname\n",
    "find_fuzzname['Station Id'].fillna(\n",
    "    find_fuzzname['possible_new_name'].map(bikeshare_stations.set_index('Station Name')['Station Id']),\n",
    "    inplace=True)\n",
    "\n",
    "find_fuzzname"
   ]
  },
  {
   "cell_type": "code",
   "execution_count": 84,
   "metadata": {
    "ExecuteTime": {
     "end_time": "2022-12-01T08:58:50.245629Z",
     "start_time": "2022-12-01T08:58:50.232092Z"
    }
   },
   "outputs": [],
   "source": [
    "# Now combine the stations_old\n",
    "stations_old_noID = find_fuzzname.drop(columns='possible_new_name')\n",
    "stations_old = pd.concat([stations_old_ID, stations_old_noID])"
   ]
  },
  {
   "cell_type": "code",
   "execution_count": 85,
   "metadata": {
    "ExecuteTime": {
     "end_time": "2022-12-01T08:58:50.261675Z",
     "start_time": "2022-12-01T08:58:50.247636Z"
    }
   },
   "outputs": [
    {
     "data": {
      "text/plain": [
       "Station Id      626\n",
       "Station Name    811\n",
       "dtype: int64"
      ]
     },
     "execution_count": 85,
     "metadata": {},
     "output_type": "execute_result"
    }
   ],
   "source": [
    "stations_old.nunique()"
   ]
  },
  {
   "cell_type": "code",
   "execution_count": 86,
   "metadata": {
    "ExecuteTime": {
     "end_time": "2022-12-01T08:58:50.277211Z",
     "start_time": "2022-12-01T08:58:50.263675Z"
    },
    "scrolled": true
   },
   "outputs": [
    {
     "name": "stdout",
     "output_type": "stream",
     "text": [
      "<class 'pandas.core.frame.DataFrame'>\n",
      "Int64Index: 811 entries, 477 to 445\n",
      "Data columns (total 2 columns):\n",
      " #   Column        Non-Null Count  Dtype  \n",
      "---  ------        --------------  -----  \n",
      " 0   Station Id    811 non-null    float64\n",
      " 1   Station Name  811 non-null    object \n",
      "dtypes: float64(1), object(1)\n",
      "memory usage: 19.0+ KB\n"
     ]
    }
   ],
   "source": [
    "stations_old.info()"
   ]
  },
  {
   "cell_type": "markdown",
   "metadata": {},
   "source": [
    "The result means that each station name have only one ID, but it's name can be different due to typos or historical reasons. And we are able to find all stations that have station Id here with their messy names."
   ]
  },
  {
   "cell_type": "code",
   "execution_count": 259,
   "metadata": {
    "ExecuteTime": {
     "end_time": "2022-12-01T08:58:50.384247Z",
     "start_time": "2022-12-01T08:58:50.280218Z"
    },
    "scrolled": true
   },
   "outputs": [],
   "source": [
    "# Merge the stations_old with bikeshare_stations so that each messy station name \n",
    "# can relate to a new name and its Id\n",
    "stations_merge = pd.merge(stations_old, \n",
    "                          bikeshare_stations, \n",
    "                          on='Station Id', \n",
    "                          how='left',\n",
    "                          suffixes=('_messy', '_new')\n",
    "                         ).drop_duplicates(subset='Station Name_messy')"
   ]
  },
  {
   "cell_type": "markdown",
   "metadata": {},
   "source": [
    "We already made sure that each messy station name has its only one ID, but it's possible that these stations are removed now, so we may not have a new station name for them. We need to find these canceled stations."
   ]
  },
  {
   "cell_type": "code",
   "execution_count": 260,
   "metadata": {
    "ExecuteTime": {
     "end_time": "2022-12-01T08:58:50.414313Z",
     "start_time": "2022-12-01T08:58:50.386258Z"
    },
    "scrolled": true
   },
   "outputs": [
    {
     "data": {
      "text/html": [
       "<div>\n",
       "<style scoped>\n",
       "    .dataframe tbody tr th:only-of-type {\n",
       "        vertical-align: middle;\n",
       "    }\n",
       "\n",
       "    .dataframe tbody tr th {\n",
       "        vertical-align: top;\n",
       "    }\n",
       "\n",
       "    .dataframe thead th {\n",
       "        text-align: right;\n",
       "    }\n",
       "</style>\n",
       "<table border=\"1\" class=\"dataframe\">\n",
       "  <thead>\n",
       "    <tr style=\"text-align: right;\">\n",
       "      <th></th>\n",
       "      <th>Station Id</th>\n",
       "      <th>Station Name_messy</th>\n",
       "      <th>Station Name_new</th>\n",
       "      <th>lat</th>\n",
       "      <th>lon</th>\n",
       "      <th>capacity</th>\n",
       "    </tr>\n",
       "  </thead>\n",
       "  <tbody>\n",
       "    <tr>\n",
       "      <th>16</th>\n",
       "      <td>7011.0</td>\n",
       "      <td>Wellington St W / Portland St</td>\n",
       "      <td>NaN</td>\n",
       "      <td>NaN</td>\n",
       "      <td>NaN</td>\n",
       "      <td>NaN</td>\n",
       "    </tr>\n",
       "    <tr>\n",
       "      <th>18</th>\n",
       "      <td>7013.0</td>\n",
       "      <td>Scott St / The Esplanade</td>\n",
       "      <td>NaN</td>\n",
       "      <td>NaN</td>\n",
       "      <td>NaN</td>\n",
       "      <td>NaN</td>\n",
       "    </tr>\n",
       "    <tr>\n",
       "      <th>22</th>\n",
       "      <td>7017.0</td>\n",
       "      <td>Widmer St / Adelaide St</td>\n",
       "      <td>NaN</td>\n",
       "      <td>NaN</td>\n",
       "      <td>NaN</td>\n",
       "      <td>NaN</td>\n",
       "    </tr>\n",
       "    <tr>\n",
       "      <th>23</th>\n",
       "      <td>7017.0</td>\n",
       "      <td>Widmer St / Adelaide St W</td>\n",
       "      <td>NaN</td>\n",
       "      <td>NaN</td>\n",
       "      <td>NaN</td>\n",
       "      <td>NaN</td>\n",
       "    </tr>\n",
       "    <tr>\n",
       "      <th>25</th>\n",
       "      <td>7019.0</td>\n",
       "      <td>Temperance St / Yonge St</td>\n",
       "      <td>NaN</td>\n",
       "      <td>NaN</td>\n",
       "      <td>NaN</td>\n",
       "      <td>NaN</td>\n",
       "    </tr>\n",
       "    <tr>\n",
       "      <th>...</th>\n",
       "      <td>...</td>\n",
       "      <td>...</td>\n",
       "      <td>...</td>\n",
       "      <td>...</td>\n",
       "      <td>...</td>\n",
       "      <td>...</td>\n",
       "    </tr>\n",
       "    <tr>\n",
       "      <th>762</th>\n",
       "      <td>7638.0</td>\n",
       "      <td>Warehouse EBS-Station</td>\n",
       "      <td>NaN</td>\n",
       "      <td>NaN</td>\n",
       "      <td>NaN</td>\n",
       "      <td>NaN</td>\n",
       "    </tr>\n",
       "    <tr>\n",
       "      <th>777</th>\n",
       "      <td>7649.0</td>\n",
       "      <td>Greenwood Subway Station</td>\n",
       "      <td>NaN</td>\n",
       "      <td>NaN</td>\n",
       "      <td>NaN</td>\n",
       "      <td>NaN</td>\n",
       "    </tr>\n",
       "    <tr>\n",
       "      <th>778</th>\n",
       "      <td>7649.0</td>\n",
       "      <td>Greenwood Subway Station - SMART</td>\n",
       "      <td>NaN</td>\n",
       "      <td>NaN</td>\n",
       "      <td>NaN</td>\n",
       "      <td>NaN</td>\n",
       "    </tr>\n",
       "    <tr>\n",
       "      <th>780</th>\n",
       "      <td>7651.0</td>\n",
       "      <td>Bloor St W / Gladstone Ave</td>\n",
       "      <td>NaN</td>\n",
       "      <td>NaN</td>\n",
       "      <td>NaN</td>\n",
       "      <td>NaN</td>\n",
       "    </tr>\n",
       "    <tr>\n",
       "      <th>781</th>\n",
       "      <td>7653.0</td>\n",
       "      <td>Bloor St W / Indian Rd</td>\n",
       "      <td>NaN</td>\n",
       "      <td>NaN</td>\n",
       "      <td>NaN</td>\n",
       "      <td>NaN</td>\n",
       "    </tr>\n",
       "  </tbody>\n",
       "</table>\n",
       "<p>64 rows × 6 columns</p>\n",
       "</div>"
      ],
      "text/plain": [
       "     Station Id                Station Name_messy Station Name_new  lat  lon  \\\n",
       "16       7011.0     Wellington St W / Portland St              NaN  NaN  NaN   \n",
       "18       7013.0          Scott St / The Esplanade              NaN  NaN  NaN   \n",
       "22       7017.0          Widmer St / Adelaide St               NaN  NaN  NaN   \n",
       "23       7017.0         Widmer St / Adelaide St W              NaN  NaN  NaN   \n",
       "25       7019.0          Temperance St / Yonge St              NaN  NaN  NaN   \n",
       "..          ...                               ...              ...  ...  ...   \n",
       "762      7638.0             Warehouse EBS-Station              NaN  NaN  NaN   \n",
       "777      7649.0          Greenwood Subway Station              NaN  NaN  NaN   \n",
       "778      7649.0  Greenwood Subway Station - SMART              NaN  NaN  NaN   \n",
       "780      7651.0        Bloor St W / Gladstone Ave              NaN  NaN  NaN   \n",
       "781      7653.0            Bloor St W / Indian Rd              NaN  NaN  NaN   \n",
       "\n",
       "     capacity  \n",
       "16        NaN  \n",
       "18        NaN  \n",
       "22        NaN  \n",
       "23        NaN  \n",
       "25        NaN  \n",
       "..        ...  \n",
       "762       NaN  \n",
       "777       NaN  \n",
       "778       NaN  \n",
       "780       NaN  \n",
       "781       NaN  \n",
       "\n",
       "[64 rows x 6 columns]"
      ]
     },
     "execution_count": 260,
     "metadata": {},
     "output_type": "execute_result"
    }
   ],
   "source": [
    "# find stations that has no station name related according to station ID\n",
    "station_is_canceled = stations_merge['Station Name_new'].isnull()\n",
    "stations_merge[station_is_canceled]"
   ]
  },
  {
   "cell_type": "markdown",
   "metadata": {},
   "source": [
    "**We can't find a new station name for these stations using their ID, meaning that they are canceled now. So we add a suffix \"_canceled\" to its name to be the new station name.**"
   ]
  },
  {
   "cell_type": "code",
   "execution_count": 261,
   "metadata": {
    "ExecuteTime": {
     "end_time": "2022-12-01T08:58:50.430468Z",
     "start_time": "2022-12-01T08:58:50.417323Z"
    }
   },
   "outputs": [],
   "source": [
    "stations_merge['Station Name_new'].fillna(\n",
    "        stations_merge['Station Name_messy']+'_canceled',\n",
    "        inplace=True)"
   ]
  },
  {
   "cell_type": "code",
   "execution_count": 262,
   "metadata": {
    "ExecuteTime": {
     "end_time": "2022-12-01T08:58:50.461491Z",
     "start_time": "2022-12-01T08:58:50.434400Z"
    },
    "scrolled": true
   },
   "outputs": [
    {
     "data": {
      "text/html": [
       "<div>\n",
       "<style scoped>\n",
       "    .dataframe tbody tr th:only-of-type {\n",
       "        vertical-align: middle;\n",
       "    }\n",
       "\n",
       "    .dataframe tbody tr th {\n",
       "        vertical-align: top;\n",
       "    }\n",
       "\n",
       "    .dataframe thead th {\n",
       "        text-align: right;\n",
       "    }\n",
       "</style>\n",
       "<table border=\"1\" class=\"dataframe\">\n",
       "  <thead>\n",
       "    <tr style=\"text-align: right;\">\n",
       "      <th></th>\n",
       "      <th>Station Id</th>\n",
       "      <th>Station Name_messy</th>\n",
       "      <th>Station Name_new</th>\n",
       "      <th>lat</th>\n",
       "      <th>lon</th>\n",
       "      <th>capacity</th>\n",
       "    </tr>\n",
       "  </thead>\n",
       "  <tbody>\n",
       "    <tr>\n",
       "      <th>16</th>\n",
       "      <td>7011.0</td>\n",
       "      <td>Wellington St W / Portland St</td>\n",
       "      <td>Wellington St W / Portland St_canceled</td>\n",
       "      <td>NaN</td>\n",
       "      <td>NaN</td>\n",
       "      <td>NaN</td>\n",
       "    </tr>\n",
       "    <tr>\n",
       "      <th>18</th>\n",
       "      <td>7013.0</td>\n",
       "      <td>Scott St / The Esplanade</td>\n",
       "      <td>Scott St / The Esplanade_canceled</td>\n",
       "      <td>NaN</td>\n",
       "      <td>NaN</td>\n",
       "      <td>NaN</td>\n",
       "    </tr>\n",
       "    <tr>\n",
       "      <th>22</th>\n",
       "      <td>7017.0</td>\n",
       "      <td>Widmer St / Adelaide St</td>\n",
       "      <td>Widmer St / Adelaide St _canceled</td>\n",
       "      <td>NaN</td>\n",
       "      <td>NaN</td>\n",
       "      <td>NaN</td>\n",
       "    </tr>\n",
       "    <tr>\n",
       "      <th>23</th>\n",
       "      <td>7017.0</td>\n",
       "      <td>Widmer St / Adelaide St W</td>\n",
       "      <td>Widmer St / Adelaide St W_canceled</td>\n",
       "      <td>NaN</td>\n",
       "      <td>NaN</td>\n",
       "      <td>NaN</td>\n",
       "    </tr>\n",
       "    <tr>\n",
       "      <th>25</th>\n",
       "      <td>7019.0</td>\n",
       "      <td>Temperance St / Yonge St</td>\n",
       "      <td>Temperance St / Yonge St_canceled</td>\n",
       "      <td>NaN</td>\n",
       "      <td>NaN</td>\n",
       "      <td>NaN</td>\n",
       "    </tr>\n",
       "    <tr>\n",
       "      <th>...</th>\n",
       "      <td>...</td>\n",
       "      <td>...</td>\n",
       "      <td>...</td>\n",
       "      <td>...</td>\n",
       "      <td>...</td>\n",
       "      <td>...</td>\n",
       "    </tr>\n",
       "    <tr>\n",
       "      <th>762</th>\n",
       "      <td>7638.0</td>\n",
       "      <td>Warehouse EBS-Station</td>\n",
       "      <td>Warehouse EBS-Station_canceled</td>\n",
       "      <td>NaN</td>\n",
       "      <td>NaN</td>\n",
       "      <td>NaN</td>\n",
       "    </tr>\n",
       "    <tr>\n",
       "      <th>777</th>\n",
       "      <td>7649.0</td>\n",
       "      <td>Greenwood Subway Station</td>\n",
       "      <td>Greenwood Subway Station_canceled</td>\n",
       "      <td>NaN</td>\n",
       "      <td>NaN</td>\n",
       "      <td>NaN</td>\n",
       "    </tr>\n",
       "    <tr>\n",
       "      <th>778</th>\n",
       "      <td>7649.0</td>\n",
       "      <td>Greenwood Subway Station - SMART</td>\n",
       "      <td>Greenwood Subway Station - SMART_canceled</td>\n",
       "      <td>NaN</td>\n",
       "      <td>NaN</td>\n",
       "      <td>NaN</td>\n",
       "    </tr>\n",
       "    <tr>\n",
       "      <th>780</th>\n",
       "      <td>7651.0</td>\n",
       "      <td>Bloor St W / Gladstone Ave</td>\n",
       "      <td>Bloor St W / Gladstone Ave_canceled</td>\n",
       "      <td>NaN</td>\n",
       "      <td>NaN</td>\n",
       "      <td>NaN</td>\n",
       "    </tr>\n",
       "    <tr>\n",
       "      <th>781</th>\n",
       "      <td>7653.0</td>\n",
       "      <td>Bloor St W / Indian Rd</td>\n",
       "      <td>Bloor St W / Indian Rd_canceled</td>\n",
       "      <td>NaN</td>\n",
       "      <td>NaN</td>\n",
       "      <td>NaN</td>\n",
       "    </tr>\n",
       "  </tbody>\n",
       "</table>\n",
       "<p>64 rows × 6 columns</p>\n",
       "</div>"
      ],
      "text/plain": [
       "     Station Id                Station Name_messy  \\\n",
       "16       7011.0     Wellington St W / Portland St   \n",
       "18       7013.0          Scott St / The Esplanade   \n",
       "22       7017.0          Widmer St / Adelaide St    \n",
       "23       7017.0         Widmer St / Adelaide St W   \n",
       "25       7019.0          Temperance St / Yonge St   \n",
       "..          ...                               ...   \n",
       "762      7638.0             Warehouse EBS-Station   \n",
       "777      7649.0          Greenwood Subway Station   \n",
       "778      7649.0  Greenwood Subway Station - SMART   \n",
       "780      7651.0        Bloor St W / Gladstone Ave   \n",
       "781      7653.0            Bloor St W / Indian Rd   \n",
       "\n",
       "                              Station Name_new  lat  lon  capacity  \n",
       "16      Wellington St W / Portland St_canceled  NaN  NaN       NaN  \n",
       "18           Scott St / The Esplanade_canceled  NaN  NaN       NaN  \n",
       "22           Widmer St / Adelaide St _canceled  NaN  NaN       NaN  \n",
       "23          Widmer St / Adelaide St W_canceled  NaN  NaN       NaN  \n",
       "25           Temperance St / Yonge St_canceled  NaN  NaN       NaN  \n",
       "..                                         ...  ...  ...       ...  \n",
       "762             Warehouse EBS-Station_canceled  NaN  NaN       NaN  \n",
       "777          Greenwood Subway Station_canceled  NaN  NaN       NaN  \n",
       "778  Greenwood Subway Station - SMART_canceled  NaN  NaN       NaN  \n",
       "780        Bloor St W / Gladstone Ave_canceled  NaN  NaN       NaN  \n",
       "781            Bloor St W / Indian Rd_canceled  NaN  NaN       NaN  \n",
       "\n",
       "[64 rows x 6 columns]"
      ]
     },
     "execution_count": 262,
     "metadata": {},
     "output_type": "execute_result"
    }
   ],
   "source": [
    "stations_merge[station_is_canceled]"
   ]
  },
  {
   "cell_type": "markdown",
   "metadata": {},
   "source": [
    "All the canceled station names are renamed! Now let's have a look at the stations_merge dataframe."
   ]
  },
  {
   "cell_type": "code",
   "execution_count": 263,
   "metadata": {
    "ExecuteTime": {
     "end_time": "2022-12-01T08:58:50.491696Z",
     "start_time": "2022-12-01T08:58:50.464631Z"
    }
   },
   "outputs": [
    {
     "data": {
      "text/html": [
       "<div>\n",
       "<style scoped>\n",
       "    .dataframe tbody tr th:only-of-type {\n",
       "        vertical-align: middle;\n",
       "    }\n",
       "\n",
       "    .dataframe tbody tr th {\n",
       "        vertical-align: top;\n",
       "    }\n",
       "\n",
       "    .dataframe thead th {\n",
       "        text-align: right;\n",
       "    }\n",
       "</style>\n",
       "<table border=\"1\" class=\"dataframe\">\n",
       "  <thead>\n",
       "    <tr style=\"text-align: right;\">\n",
       "      <th></th>\n",
       "      <th>Station Id</th>\n",
       "      <th>Station Name_messy</th>\n",
       "      <th>Station Name_new</th>\n",
       "      <th>lat</th>\n",
       "      <th>lon</th>\n",
       "      <th>capacity</th>\n",
       "    </tr>\n",
       "  </thead>\n",
       "  <tbody>\n",
       "    <tr>\n",
       "      <th>0</th>\n",
       "      <td>7000.0</td>\n",
       "      <td>Fort York  Blvd / Capreol Ct</td>\n",
       "      <td>Fort York  Blvd / Capreol Ct</td>\n",
       "      <td>43.639832</td>\n",
       "      <td>-79.395954</td>\n",
       "      <td>35.0</td>\n",
       "    </tr>\n",
       "    <tr>\n",
       "      <th>1</th>\n",
       "      <td>7000.0</td>\n",
       "      <td>Fort York  Blvd / Capreol Crt</td>\n",
       "      <td>Fort York  Blvd / Capreol Ct</td>\n",
       "      <td>43.639832</td>\n",
       "      <td>-79.395954</td>\n",
       "      <td>35.0</td>\n",
       "    </tr>\n",
       "    <tr>\n",
       "      <th>2</th>\n",
       "      <td>7001.0</td>\n",
       "      <td>Lower Jarvis St / The Esplanade</td>\n",
       "      <td>Wellesley Station Green P</td>\n",
       "      <td>43.664964</td>\n",
       "      <td>-79.383550</td>\n",
       "      <td>26.0</td>\n",
       "    </tr>\n",
       "    <tr>\n",
       "      <th>3</th>\n",
       "      <td>7001.0</td>\n",
       "      <td>Wellesley Station Green P</td>\n",
       "      <td>Wellesley Station Green P</td>\n",
       "      <td>43.664964</td>\n",
       "      <td>-79.383550</td>\n",
       "      <td>26.0</td>\n",
       "    </tr>\n",
       "    <tr>\n",
       "      <th>4</th>\n",
       "      <td>7002.0</td>\n",
       "      <td>St. George St / Bloor St W</td>\n",
       "      <td>St. George St / Bloor St W</td>\n",
       "      <td>43.667333</td>\n",
       "      <td>-79.399429</td>\n",
       "      <td>19.0</td>\n",
       "    </tr>\n",
       "  </tbody>\n",
       "</table>\n",
       "</div>"
      ],
      "text/plain": [
       "   Station Id               Station Name_messy              Station Name_new  \\\n",
       "0      7000.0     Fort York  Blvd / Capreol Ct  Fort York  Blvd / Capreol Ct   \n",
       "1      7000.0    Fort York  Blvd / Capreol Crt  Fort York  Blvd / Capreol Ct   \n",
       "2      7001.0  Lower Jarvis St / The Esplanade     Wellesley Station Green P   \n",
       "3      7001.0        Wellesley Station Green P     Wellesley Station Green P   \n",
       "4      7002.0       St. George St / Bloor St W    St. George St / Bloor St W   \n",
       "\n",
       "         lat        lon  capacity  \n",
       "0  43.639832 -79.395954      35.0  \n",
       "1  43.639832 -79.395954      35.0  \n",
       "2  43.664964 -79.383550      26.0  \n",
       "3  43.664964 -79.383550      26.0  \n",
       "4  43.667333 -79.399429      19.0  "
      ]
     },
     "execution_count": 263,
     "metadata": {},
     "output_type": "execute_result"
    }
   ],
   "source": [
    "stations_merge.head()"
   ]
  },
  {
   "cell_type": "code",
   "execution_count": 264,
   "metadata": {
    "ExecuteTime": {
     "end_time": "2022-12-01T08:58:50.507369Z",
     "start_time": "2022-12-01T08:58:50.494211Z"
    },
    "scrolled": true
   },
   "outputs": [
    {
     "name": "stdout",
     "output_type": "stream",
     "text": [
      "<class 'pandas.core.frame.DataFrame'>\n",
      "Int64Index: 811 entries, 0 to 810\n",
      "Data columns (total 6 columns):\n",
      " #   Column              Non-Null Count  Dtype  \n",
      "---  ------              --------------  -----  \n",
      " 0   Station Id          811 non-null    float64\n",
      " 1   Station Name_messy  811 non-null    object \n",
      " 2   Station Name_new    811 non-null    object \n",
      " 3   lat                 747 non-null    float64\n",
      " 4   lon                 747 non-null    float64\n",
      " 5   capacity            747 non-null    float64\n",
      "dtypes: float64(4), object(2)\n",
      "memory usage: 44.4+ KB\n"
     ]
    }
   ],
   "source": [
    "stations_merge.info()"
   ]
  },
  {
   "cell_type": "markdown",
   "metadata": {},
   "source": [
    "Now we can update names in ridership dataframe using stations_merge."
   ]
  },
  {
   "cell_type": "raw",
   "metadata": {
    "ExecuteTime": {
     "end_time": "2022-12-01T03:44:52.635142Z",
     "start_time": "2022-12-01T03:44:52.622631Z"
    }
   },
   "source": [
    "# function abandoned: too slow\n",
    "def update_name(old_name):\n",
    "    \"\"\"This function is to update the Station Name with the most updated name \n",
    "    (the station names in the bikeshare_station dataset) according to their \n",
    "    relating station Id.\n",
    "    \"\"\"\n",
    "    \n",
    "    if old_name in unique_messy:\n",
    "        return stations_merge[stations_merge['Station Name_messy']==old_name]['Station Name_new'].tolist()[0]\n",
    "    else:\n",
    "        return old_name"
   ]
  },
  {
   "cell_type": "raw",
   "metadata": {
    "ExecuteTime": {
     "end_time": "2022-12-01T03:33:22.537883Z",
     "start_time": "2022-12-01T03:33:22.533350Z"
    }
   },
   "source": [
    "# function abandoned: too slow\n",
    "def replace_name(df):\n",
    "    \"\"\"Replaces the Start Station Name and End Station Name using update_name\n",
    "    \"\"\"\n",
    "    \n",
    "    df['Start Station Name'] = df['Start Station Name'].apply(lambda row: update_name(row))\n",
    "    df['End Station Name'] = df['End Station Name'].apply(lambda row: update_name(row))\n",
    "    \n",
    "    return df "
   ]
  },
  {
   "cell_type": "raw",
   "metadata": {
    "ExecuteTime": {
     "end_time": "2022-12-01T04:10:19.847097Z",
     "start_time": "2022-12-01T04:10:19.828442Z"
    }
   },
   "source": [
    "# function abandoned: slow\n",
    "def replace_name(df):\n",
    "    \n",
    "    df_copy = df.copy()\n",
    "    \n",
    "    start_np = np.array(df['Start Station Name'])\n",
    "    end_np = np.array(df['End Station Name'])\n",
    "    \n",
    "    df_copy['Start Station Name'] = np.array([update_name(i) for i in start_np]).tolist() \n",
    "    df_copy['End Station Name'] = np.array([update_name(i) for i in end_np]).tolist()\n",
    "    \n",
    "    return df_copy"
   ]
  },
  {
   "cell_type": "raw",
   "metadata": {
    "ExecuteTime": {
     "end_time": "2022-12-01T05:56:50.738286Z",
     "start_time": "2022-12-01T05:56:50.730233Z"
    },
    "code_folding": []
   },
   "source": [
    "# function abandoned: slow\n",
    "\n",
    "# create a replace_name function to update the stations names using stations_merge as a reference\n",
    "def replace_name(df):\n",
    "    \"\"\"Replaces the Start Station Name and End Station Name in ridership data.\n",
    "    using stations_merge as reference.\n",
    "    \n",
    "    Input should be a dataframe with columns \"Start Station Name\" and \"End Station Name\"\n",
    "    output is a dataframe.\n",
    "    \"\"\"\n",
    "    \n",
    "    df['Start Station Name'].replace(\n",
    "        df['Start Station Name'].map(stations_merge.set_index('Station Name_messy')['Station Name_new']),\n",
    "        inplace=True)\n",
    "\n",
    "    df['End Station Name'].replace(\n",
    "        df['End Station Name'].map(stations_merge.set_index('Station Name_messy')['Station Name_new']),\n",
    "        inplace=True)\n",
    "    \n",
    "    return df"
   ]
  },
  {
   "cell_type": "raw",
   "metadata": {
    "ExecuteTime": {
     "end_time": "2022-12-01T06:22:53.660680Z",
     "start_time": "2022-12-01T06:22:53.649020Z"
    }
   },
   "source": [
    "# function abandoned: slow\n",
    "\n",
    "# create a large_df_replace_name function to update stations names of large ridership dataframes.\n",
    "\n",
    "def large_df_replace_name(df):\n",
    "    \"\"\" This function separates large dataframe by filtering out the row that needed replacing\n",
    "    and apply replace_name, then concat the dataframe.\n",
    "    \"\"\"\n",
    "    \n",
    "    df_copy = df.copy()\n",
    "    df_to_replace = df_copy[\n",
    "        df_copy['Start Station Name'].apply(lambda row: row not in unique_new_name) | \n",
    "        df_copy['End Station Name'].apply(lambda row: row not in unique_new_name)\n",
    "    ]\n",
    "    \n",
    "    df_to_replace = replace_name(df_to_replace)\n",
    "\n",
    "    df_copy = df_copy.update(df_to_replace)\n",
    "    \n",
    "    return df_copy"
   ]
  },
  {
   "cell_type": "code",
   "execution_count": 93,
   "metadata": {
    "ExecuteTime": {
     "end_time": "2022-12-01T08:58:50.522832Z",
     "start_time": "2022-12-01T08:58:50.511301Z"
    }
   },
   "outputs": [],
   "source": [
    "# create a replace_name function to update stations names of ridership dataframes.\n",
    "def replace_name(df):\n",
    "    \"\"\"This function replaces the Start Station Name and End Station Name in ridership data.\n",
    "    using stations_merge as reference.\n",
    "    \n",
    "    Input should be a ridership dataframe with columns \"Start Station Name\" and \"End Station Name\"\n",
    "    output is a dataframe.\n",
    "    \"\"\"\n",
    "    \n",
    "    # List all unique messy names in stations_merge\n",
    "    unique_messy_merge = stations_merge['Station Name_messy'].unique()\n",
    "    \n",
    "    # create a unique_messy_name np array that has all unique names from ridership data.\n",
    "    unique_messy_start = ridership_est_2017['Start Station Name'].unique()\n",
    "    unique_messy_end = ridership_est_2017['End Station Name'].unique()\n",
    "    unique_messy_trip = np.unique(np.concatenate((unique_messy_start, unique_messy_end)))\n",
    "    \n",
    "    df_copy = df.copy()\n",
    "        \n",
    "    for old_name in unique_messy_trip:\n",
    "        if old_name in unique_messy_merge:\n",
    "            new_name = stations_merge[stations_merge['Station Name_messy']==old_name]['Station Name_new'].tolist()[0]\n",
    "            df_copy.replace({'Start Station Name': old_name, 'End Station Name': old_name}, new_name, inplace=True)\n",
    "        \n",
    "    return df_copy"
   ]
  },
  {
   "cell_type": "code",
   "execution_count": 94,
   "metadata": {
    "ExecuteTime": {
     "end_time": "2022-12-01T08:59:08.320186Z",
     "start_time": "2022-12-01T08:58:50.524832Z"
    }
   },
   "outputs": [],
   "source": [
    "# Update the names in ridership data\n",
    "ridership_est_2017 = replace_name(ridership_est_2017)"
   ]
  },
  {
   "cell_type": "markdown",
   "metadata": {},
   "source": [
    "**Name replace check**\n",
    "\n",
    "Check on a existing messy name 'Beverly St / College St' to see if the replace is properly done."
   ]
  },
  {
   "cell_type": "code",
   "execution_count": 95,
   "metadata": {
    "ExecuteTime": {
     "end_time": "2022-12-01T08:59:08.428921Z",
     "start_time": "2022-12-01T08:59:08.322191Z"
    }
   },
   "outputs": [
    {
     "data": {
      "text/html": [
       "<div>\n",
       "<style scoped>\n",
       "    .dataframe tbody tr th:only-of-type {\n",
       "        vertical-align: middle;\n",
       "    }\n",
       "\n",
       "    .dataframe tbody tr th {\n",
       "        vertical-align: top;\n",
       "    }\n",
       "\n",
       "    .dataframe thead th {\n",
       "        text-align: right;\n",
       "    }\n",
       "</style>\n",
       "<table border=\"1\" class=\"dataframe\">\n",
       "  <thead>\n",
       "    <tr style=\"text-align: right;\">\n",
       "      <th></th>\n",
       "      <th>Trip Id</th>\n",
       "      <th>Start Time</th>\n",
       "      <th>End Time</th>\n",
       "      <th>Trip Duration</th>\n",
       "      <th>Start Station Id</th>\n",
       "      <th>Start Station Name</th>\n",
       "      <th>End Station Id</th>\n",
       "      <th>End Station Name</th>\n",
       "      <th>User Type</th>\n",
       "    </tr>\n",
       "  </thead>\n",
       "  <tbody>\n",
       "  </tbody>\n",
       "</table>\n",
       "</div>"
      ],
      "text/plain": [
       "Empty DataFrame\n",
       "Columns: [Trip Id, Start Time, End Time, Trip Duration, Start Station Id, Start Station Name, End Station Id, End Station Name, User Type]\n",
       "Index: []"
      ]
     },
     "execution_count": 95,
     "metadata": {},
     "output_type": "execute_result"
    }
   ],
   "source": [
    "ridership_est_2017[ridership_est_2017['Start Station Name']=='Beverly St / College St']"
   ]
  },
  {
   "cell_type": "markdown",
   "metadata": {},
   "source": [
    "**The replacement was successful!**\n",
    "\n",
    "Then we can continue to fill missing station ID and clean the data."
   ]
  },
  {
   "cell_type": "code",
   "execution_count": 96,
   "metadata": {
    "ExecuteTime": {
     "end_time": "2022-12-01T08:59:08.956098Z",
     "start_time": "2022-12-01T08:59:08.431924Z"
    }
   },
   "outputs": [
    {
     "data": {
      "text/plain": [
       "Trip Id                    0\n",
       "Start Time                 0\n",
       "End Time                   0\n",
       "Trip Duration              0\n",
       "Start Station Id      236883\n",
       "Start Station Name         0\n",
       "End Station Id        241751\n",
       "End Station Name           0\n",
       "User Type                  0\n",
       "dtype: int64"
      ]
     },
     "execution_count": 96,
     "metadata": {},
     "output_type": "execute_result"
    }
   ],
   "source": [
    "ridership_est_2017.isnull().sum()"
   ]
  },
  {
   "cell_type": "code",
   "execution_count": 97,
   "metadata": {
    "ExecuteTime": {
     "end_time": "2022-12-01T08:59:08.972161Z",
     "start_time": "2022-12-01T08:59:08.958113Z"
    }
   },
   "outputs": [],
   "source": [
    "# create a series newname_to_ID to relate all new names to ID (including canceled stations)\n",
    "stations_newname_to_ID = stations_merge.drop_duplicates(subset=['Station Name_new'])\n",
    "newname_to_ID = stations_newname_to_ID.set_index('Station Name_new')['Station Id']"
   ]
  },
  {
   "cell_type": "code",
   "execution_count": 98,
   "metadata": {
    "ExecuteTime": {
     "end_time": "2022-12-01T08:59:09.003770Z",
     "start_time": "2022-12-01T08:59:08.984738Z"
    },
    "code_folding": [
     0
    ]
   },
   "outputs": [],
   "source": [
    "# Create a fill_ID_merge function for filling missing station ID according to station name\n",
    "def fill_ID_merge(df):\n",
    "    \"\"\"This function is for filling missing station names according to station ID\n",
    "    Use the stations_merge as reference.\n",
    "    \"\"\"\n",
    "    \n",
    "    df['Start Station Id'].fillna(\n",
    "        df['Start Station Name'].map(newname_to_ID),\n",
    "        inplace=True)\n",
    "    \n",
    "    df['End Station Id'].fillna(\n",
    "        df['End Station Name'].map(newname_to_ID),\n",
    "        inplace=True)\n",
    "    \n",
    "    return df"
   ]
  },
  {
   "cell_type": "code",
   "execution_count": 99,
   "metadata": {
    "ExecuteTime": {
     "end_time": "2022-12-01T08:59:09.129719Z",
     "start_time": "2022-12-01T08:59:09.006772Z"
    },
    "code_folding": [],
    "scrolled": true
   },
   "outputs": [
    {
     "data": {
      "text/html": [
       "<div>\n",
       "<style scoped>\n",
       "    .dataframe tbody tr th:only-of-type {\n",
       "        vertical-align: middle;\n",
       "    }\n",
       "\n",
       "    .dataframe tbody tr th {\n",
       "        vertical-align: top;\n",
       "    }\n",
       "\n",
       "    .dataframe thead th {\n",
       "        text-align: right;\n",
       "    }\n",
       "</style>\n",
       "<table border=\"1\" class=\"dataframe\">\n",
       "  <thead>\n",
       "    <tr style=\"text-align: right;\">\n",
       "      <th></th>\n",
       "      <th>Trip Id</th>\n",
       "      <th>Start Time</th>\n",
       "      <th>End Time</th>\n",
       "      <th>Trip Duration</th>\n",
       "      <th>Start Station Id</th>\n",
       "      <th>Start Station Name</th>\n",
       "      <th>End Station Id</th>\n",
       "      <th>End Station Name</th>\n",
       "      <th>User Type</th>\n",
       "    </tr>\n",
       "  </thead>\n",
       "  <tbody>\n",
       "    <tr>\n",
       "      <th>0</th>\n",
       "      <td>712441</td>\n",
       "      <td>2017-01-01 00:03:00-05:00</td>\n",
       "      <td>2017-01-01 00:08:00-05:00</td>\n",
       "      <td>274</td>\n",
       "      <td>7006.0</td>\n",
       "      <td>Bay St / College St (East Side)</td>\n",
       "      <td>7021.0</td>\n",
       "      <td>Bay St / Albert St</td>\n",
       "      <td>Member</td>\n",
       "    </tr>\n",
       "    <tr>\n",
       "      <th>1</th>\n",
       "      <td>712442</td>\n",
       "      <td>2017-01-01 00:03:00-05:00</td>\n",
       "      <td>2017-01-01 00:12:00-05:00</td>\n",
       "      <td>538</td>\n",
       "      <td>7046.0</td>\n",
       "      <td>Niagara St / Richmond St W</td>\n",
       "      <td>7147.0</td>\n",
       "      <td>King St W / Fraser Ave</td>\n",
       "      <td>Member</td>\n",
       "    </tr>\n",
       "    <tr>\n",
       "      <th>2</th>\n",
       "      <td>712443</td>\n",
       "      <td>2017-01-01 00:05:00-05:00</td>\n",
       "      <td>2017-01-01 00:22:00-05:00</td>\n",
       "      <td>992</td>\n",
       "      <td>7048.0</td>\n",
       "      <td>Front St W / Yonge St (Hockey Hall of Fame)</td>\n",
       "      <td>7089.0</td>\n",
       "      <td>Church St  / Wood St</td>\n",
       "      <td>Member</td>\n",
       "    </tr>\n",
       "    <tr>\n",
       "      <th>3</th>\n",
       "      <td>712444</td>\n",
       "      <td>2017-01-01 00:09:00-05:00</td>\n",
       "      <td>2017-01-01 00:26:00-05:00</td>\n",
       "      <td>1005</td>\n",
       "      <td>7177.0</td>\n",
       "      <td>East Liberty St / Pirandello St_canceled</td>\n",
       "      <td>7202.0</td>\n",
       "      <td>Queen St W / Bay St (City Hall)</td>\n",
       "      <td>Member</td>\n",
       "    </tr>\n",
       "    <tr>\n",
       "      <th>4</th>\n",
       "      <td>712445</td>\n",
       "      <td>2017-01-01 00:14:00-05:00</td>\n",
       "      <td>2017-01-01 00:25:00-05:00</td>\n",
       "      <td>645</td>\n",
       "      <td>7203.0</td>\n",
       "      <td>Bathurst St/Queens Quay(Billy Bishop Airport)</td>\n",
       "      <td>7010.0</td>\n",
       "      <td>King St W / Spadina Ave</td>\n",
       "      <td>Member</td>\n",
       "    </tr>\n",
       "    <tr>\n",
       "      <th>...</th>\n",
       "      <td>...</td>\n",
       "      <td>...</td>\n",
       "      <td>...</td>\n",
       "      <td>...</td>\n",
       "      <td>...</td>\n",
       "      <td>...</td>\n",
       "      <td>...</td>\n",
       "      <td>...</td>\n",
       "      <td>...</td>\n",
       "    </tr>\n",
       "    <tr>\n",
       "      <th>1492364</th>\n",
       "      <td>1971680</td>\n",
       "      <td>2017-10-01 00:59:00-04:00</td>\n",
       "      <td>2017-10-01 01:04:00-04:00</td>\n",
       "      <td>337</td>\n",
       "      <td>7031.0</td>\n",
       "      <td>Jarvis St / Isabella St</td>\n",
       "      <td>7126.0</td>\n",
       "      <td>Yonge St / Yorkville Ave</td>\n",
       "      <td>Member</td>\n",
       "    </tr>\n",
       "    <tr>\n",
       "      <th>1492365</th>\n",
       "      <td>1971681</td>\n",
       "      <td>2017-10-01 00:59:00-04:00</td>\n",
       "      <td>2017-10-01 01:07:00-04:00</td>\n",
       "      <td>494</td>\n",
       "      <td>7024.0</td>\n",
       "      <td>Dundonald St / Church St</td>\n",
       "      <td>7164.0</td>\n",
       "      <td>Gould St / Yonge St (Ryerson University)</td>\n",
       "      <td>Member</td>\n",
       "    </tr>\n",
       "    <tr>\n",
       "      <th>1492366</th>\n",
       "      <td>1971682</td>\n",
       "      <td>2017-10-01 00:59:00-04:00</td>\n",
       "      <td>2017-10-01 01:18:00-04:00</td>\n",
       "      <td>1114</td>\n",
       "      <td>7248.0</td>\n",
       "      <td>Baldwin Ave / Spadina Ave - SMART</td>\n",
       "      <td>7135.0</td>\n",
       "      <td>Hanna Ave / Liberty St</td>\n",
       "      <td>Member</td>\n",
       "    </tr>\n",
       "    <tr>\n",
       "      <th>1492367</th>\n",
       "      <td>1971683</td>\n",
       "      <td>2017-10-01 00:59:00-04:00</td>\n",
       "      <td>2017-10-01 01:19:00-04:00</td>\n",
       "      <td>1192</td>\n",
       "      <td>7043.0</td>\n",
       "      <td>Queens Quay W / Lower Simcoe St</td>\n",
       "      <td>7243.0</td>\n",
       "      <td>Exhibition GO Station</td>\n",
       "      <td>Casual</td>\n",
       "    </tr>\n",
       "    <tr>\n",
       "      <th>1492368</th>\n",
       "      <td>1971684</td>\n",
       "      <td>2017-10-01 00:59:00-04:00</td>\n",
       "      <td>2017-10-01 01:19:00-04:00</td>\n",
       "      <td>1190</td>\n",
       "      <td>7043.0</td>\n",
       "      <td>Queens Quay W / Lower Simcoe St</td>\n",
       "      <td>7243.0</td>\n",
       "      <td>Exhibition GO Station</td>\n",
       "      <td>Casual</td>\n",
       "    </tr>\n",
       "  </tbody>\n",
       "</table>\n",
       "<p>1378074 rows × 9 columns</p>\n",
       "</div>"
      ],
      "text/plain": [
       "         Trip Id                Start Time                  End Time  \\\n",
       "0         712441 2017-01-01 00:03:00-05:00 2017-01-01 00:08:00-05:00   \n",
       "1         712442 2017-01-01 00:03:00-05:00 2017-01-01 00:12:00-05:00   \n",
       "2         712443 2017-01-01 00:05:00-05:00 2017-01-01 00:22:00-05:00   \n",
       "3         712444 2017-01-01 00:09:00-05:00 2017-01-01 00:26:00-05:00   \n",
       "4         712445 2017-01-01 00:14:00-05:00 2017-01-01 00:25:00-05:00   \n",
       "...          ...                       ...                       ...   \n",
       "1492364  1971680 2017-10-01 00:59:00-04:00 2017-10-01 01:04:00-04:00   \n",
       "1492365  1971681 2017-10-01 00:59:00-04:00 2017-10-01 01:07:00-04:00   \n",
       "1492366  1971682 2017-10-01 00:59:00-04:00 2017-10-01 01:18:00-04:00   \n",
       "1492367  1971683 2017-10-01 00:59:00-04:00 2017-10-01 01:19:00-04:00   \n",
       "1492368  1971684 2017-10-01 00:59:00-04:00 2017-10-01 01:19:00-04:00   \n",
       "\n",
       "         Trip Duration  Start Station Id  \\\n",
       "0                  274            7006.0   \n",
       "1                  538            7046.0   \n",
       "2                  992            7048.0   \n",
       "3                 1005            7177.0   \n",
       "4                  645            7203.0   \n",
       "...                ...               ...   \n",
       "1492364            337            7031.0   \n",
       "1492365            494            7024.0   \n",
       "1492366           1114            7248.0   \n",
       "1492367           1192            7043.0   \n",
       "1492368           1190            7043.0   \n",
       "\n",
       "                                    Start Station Name  End Station Id  \\\n",
       "0                      Bay St / College St (East Side)          7021.0   \n",
       "1                           Niagara St / Richmond St W          7147.0   \n",
       "2          Front St W / Yonge St (Hockey Hall of Fame)          7089.0   \n",
       "3             East Liberty St / Pirandello St_canceled          7202.0   \n",
       "4        Bathurst St/Queens Quay(Billy Bishop Airport)          7010.0   \n",
       "...                                                ...             ...   \n",
       "1492364                        Jarvis St / Isabella St          7126.0   \n",
       "1492365                       Dundonald St / Church St          7164.0   \n",
       "1492366              Baldwin Ave / Spadina Ave - SMART          7135.0   \n",
       "1492367                Queens Quay W / Lower Simcoe St          7243.0   \n",
       "1492368                Queens Quay W / Lower Simcoe St          7243.0   \n",
       "\n",
       "                                 End Station Name User Type  \n",
       "0                              Bay St / Albert St    Member  \n",
       "1                          King St W / Fraser Ave    Member  \n",
       "2                            Church St  / Wood St    Member  \n",
       "3                 Queen St W / Bay St (City Hall)    Member  \n",
       "4                         King St W / Spadina Ave    Member  \n",
       "...                                           ...       ...  \n",
       "1492364                  Yonge St / Yorkville Ave    Member  \n",
       "1492365  Gould St / Yonge St (Ryerson University)    Member  \n",
       "1492366                    Hanna Ave / Liberty St    Member  \n",
       "1492367                     Exhibition GO Station    Casual  \n",
       "1492368                     Exhibition GO Station    Casual  \n",
       "\n",
       "[1378074 rows x 9 columns]"
      ]
     },
     "execution_count": 99,
     "metadata": {},
     "output_type": "execute_result"
    }
   ],
   "source": [
    "# fill missing ID with new station names\n",
    "fill_ID_merge(ridership_est_2017)"
   ]
  },
  {
   "cell_type": "code",
   "execution_count": 100,
   "metadata": {
    "ExecuteTime": {
     "end_time": "2022-12-01T08:59:09.627439Z",
     "start_time": "2022-12-01T08:59:09.133622Z"
    }
   },
   "outputs": [
    {
     "data": {
      "text/plain": [
       "Trip Id                   0\n",
       "Start Time                0\n",
       "End Time                  0\n",
       "Trip Duration             0\n",
       "Start Station Id      15279\n",
       "Start Station Name        0\n",
       "End Station Id        17685\n",
       "End Station Name          0\n",
       "User Type                 0\n",
       "dtype: int64"
      ]
     },
     "execution_count": 100,
     "metadata": {},
     "output_type": "execute_result"
    }
   ],
   "source": [
    "ridership_est_2017.isnull().sum()"
   ]
  },
  {
   "cell_type": "code",
   "execution_count": 101,
   "metadata": {
    "ExecuteTime": {
     "end_time": "2022-12-01T08:59:09.673784Z",
     "start_time": "2022-12-01T08:59:09.629480Z"
    }
   },
   "outputs": [
    {
     "data": {
      "text/html": [
       "<div>\n",
       "<style scoped>\n",
       "    .dataframe tbody tr th:only-of-type {\n",
       "        vertical-align: middle;\n",
       "    }\n",
       "\n",
       "    .dataframe tbody tr th {\n",
       "        vertical-align: top;\n",
       "    }\n",
       "\n",
       "    .dataframe thead th {\n",
       "        text-align: right;\n",
       "    }\n",
       "</style>\n",
       "<table border=\"1\" class=\"dataframe\">\n",
       "  <thead>\n",
       "    <tr style=\"text-align: right;\">\n",
       "      <th></th>\n",
       "      <th>Trip Id</th>\n",
       "      <th>Start Time</th>\n",
       "      <th>End Time</th>\n",
       "      <th>Trip Duration</th>\n",
       "      <th>Start Station Id</th>\n",
       "      <th>Start Station Name</th>\n",
       "      <th>End Station Id</th>\n",
       "      <th>End Station Name</th>\n",
       "      <th>User Type</th>\n",
       "    </tr>\n",
       "  </thead>\n",
       "  <tbody>\n",
       "    <tr>\n",
       "      <th>41457</th>\n",
       "      <td>1971725</td>\n",
       "      <td>2017-10-01 01:12:00-04:00</td>\n",
       "      <td>2017-10-01 01:23:00-04:00</td>\n",
       "      <td>649</td>\n",
       "      <td>NaN</td>\n",
       "      <td>Roxton Rd / College St</td>\n",
       "      <td>7260.0</td>\n",
       "      <td>Spadina Ave / Adelaide St W</td>\n",
       "      <td>Casual</td>\n",
       "    </tr>\n",
       "    <tr>\n",
       "      <th>41475</th>\n",
       "      <td>1971743</td>\n",
       "      <td>2017-10-01 01:16:00-04:00</td>\n",
       "      <td>2017-10-01 01:35:00-04:00</td>\n",
       "      <td>1197</td>\n",
       "      <td>7068.0</td>\n",
       "      <td>Blantyre Park</td>\n",
       "      <td>NaN</td>\n",
       "      <td>Fringe Next Stage - 7219</td>\n",
       "      <td>Member</td>\n",
       "    </tr>\n",
       "    <tr>\n",
       "      <th>41476</th>\n",
       "      <td>1971744</td>\n",
       "      <td>2017-10-01 01:16:00-04:00</td>\n",
       "      <td>2017-10-01 01:36:00-04:00</td>\n",
       "      <td>1200</td>\n",
       "      <td>7068.0</td>\n",
       "      <td>Blantyre Park</td>\n",
       "      <td>NaN</td>\n",
       "      <td>Fringe Next Stage - 7219</td>\n",
       "      <td>Member</td>\n",
       "    </tr>\n",
       "    <tr>\n",
       "      <th>41490</th>\n",
       "      <td>1971758</td>\n",
       "      <td>2017-10-01 01:18:00-04:00</td>\n",
       "      <td>2017-10-01 01:31:00-04:00</td>\n",
       "      <td>786</td>\n",
       "      <td>7018.0</td>\n",
       "      <td>Bremner Blvd / Rees St</td>\n",
       "      <td>NaN</td>\n",
       "      <td>Roxton Rd / College St</td>\n",
       "      <td>Casual</td>\n",
       "    </tr>\n",
       "    <tr>\n",
       "      <th>41499</th>\n",
       "      <td>1971767</td>\n",
       "      <td>2017-10-01 01:20:00-04:00</td>\n",
       "      <td>2017-10-01 01:24:00-04:00</td>\n",
       "      <td>278</td>\n",
       "      <td>NaN</td>\n",
       "      <td>Michael Sweet Ave / St. Patrick St</td>\n",
       "      <td>7102.0</td>\n",
       "      <td>Nelson St / Duncan St</td>\n",
       "      <td>Member</td>\n",
       "    </tr>\n",
       "    <tr>\n",
       "      <th>...</th>\n",
       "      <td>...</td>\n",
       "      <td>...</td>\n",
       "      <td>...</td>\n",
       "      <td>...</td>\n",
       "      <td>...</td>\n",
       "      <td>...</td>\n",
       "      <td>...</td>\n",
       "      <td>...</td>\n",
       "      <td>...</td>\n",
       "    </tr>\n",
       "    <tr>\n",
       "      <th>1492145</th>\n",
       "      <td>1971461</td>\n",
       "      <td>2017-10-01 00:12:00-04:00</td>\n",
       "      <td>2017-10-01 00:28:00-04:00</td>\n",
       "      <td>950</td>\n",
       "      <td>7282.0</td>\n",
       "      <td>Adelaide St W / Bay St - SMART_canceled</td>\n",
       "      <td>NaN</td>\n",
       "      <td>Roxton Rd / College St</td>\n",
       "      <td>Member</td>\n",
       "    </tr>\n",
       "    <tr>\n",
       "      <th>1492219</th>\n",
       "      <td>1971535</td>\n",
       "      <td>2017-10-01 00:29:00-04:00</td>\n",
       "      <td>2017-10-01 00:37:00-04:00</td>\n",
       "      <td>500</td>\n",
       "      <td>NaN</td>\n",
       "      <td>Roxton Rd / College St</td>\n",
       "      <td>7193.0</td>\n",
       "      <td>Queen St W / Gladstone Ave</td>\n",
       "      <td>Member</td>\n",
       "    </tr>\n",
       "    <tr>\n",
       "      <th>1492266</th>\n",
       "      <td>1971582</td>\n",
       "      <td>2017-10-01 00:40:00-04:00</td>\n",
       "      <td>2017-10-01 00:57:00-04:00</td>\n",
       "      <td>1027</td>\n",
       "      <td>NaN</td>\n",
       "      <td>Michael Sweet Ave / St. Patrick St</td>\n",
       "      <td>7148.0</td>\n",
       "      <td>King St W / Joe Shuster Way</td>\n",
       "      <td>Member</td>\n",
       "    </tr>\n",
       "    <tr>\n",
       "      <th>1492352</th>\n",
       "      <td>1971668</td>\n",
       "      <td>2017-10-01 00:56:00-04:00</td>\n",
       "      <td>2017-10-01 01:11:00-04:00</td>\n",
       "      <td>926</td>\n",
       "      <td>NaN</td>\n",
       "      <td>Michael Sweet Ave / St. Patrick St</td>\n",
       "      <td>7076.0</td>\n",
       "      <td>York St / Queens Quay W</td>\n",
       "      <td>Member</td>\n",
       "    </tr>\n",
       "    <tr>\n",
       "      <th>1492359</th>\n",
       "      <td>1971675</td>\n",
       "      <td>2017-10-01 00:57:00-04:00</td>\n",
       "      <td>2017-10-01 01:12:00-04:00</td>\n",
       "      <td>852</td>\n",
       "      <td>NaN</td>\n",
       "      <td>Michael Sweet Ave / St. Patrick St</td>\n",
       "      <td>7076.0</td>\n",
       "      <td>York St / Queens Quay W</td>\n",
       "      <td>Member</td>\n",
       "    </tr>\n",
       "  </tbody>\n",
       "</table>\n",
       "<p>32635 rows × 9 columns</p>\n",
       "</div>"
      ],
      "text/plain": [
       "         Trip Id                Start Time                  End Time  \\\n",
       "41457    1971725 2017-10-01 01:12:00-04:00 2017-10-01 01:23:00-04:00   \n",
       "41475    1971743 2017-10-01 01:16:00-04:00 2017-10-01 01:35:00-04:00   \n",
       "41476    1971744 2017-10-01 01:16:00-04:00 2017-10-01 01:36:00-04:00   \n",
       "41490    1971758 2017-10-01 01:18:00-04:00 2017-10-01 01:31:00-04:00   \n",
       "41499    1971767 2017-10-01 01:20:00-04:00 2017-10-01 01:24:00-04:00   \n",
       "...          ...                       ...                       ...   \n",
       "1492145  1971461 2017-10-01 00:12:00-04:00 2017-10-01 00:28:00-04:00   \n",
       "1492219  1971535 2017-10-01 00:29:00-04:00 2017-10-01 00:37:00-04:00   \n",
       "1492266  1971582 2017-10-01 00:40:00-04:00 2017-10-01 00:57:00-04:00   \n",
       "1492352  1971668 2017-10-01 00:56:00-04:00 2017-10-01 01:11:00-04:00   \n",
       "1492359  1971675 2017-10-01 00:57:00-04:00 2017-10-01 01:12:00-04:00   \n",
       "\n",
       "         Trip Duration  Start Station Id  \\\n",
       "41457              649               NaN   \n",
       "41475             1197            7068.0   \n",
       "41476             1200            7068.0   \n",
       "41490              786            7018.0   \n",
       "41499              278               NaN   \n",
       "...                ...               ...   \n",
       "1492145            950            7282.0   \n",
       "1492219            500               NaN   \n",
       "1492266           1027               NaN   \n",
       "1492352            926               NaN   \n",
       "1492359            852               NaN   \n",
       "\n",
       "                              Start Station Name  End Station Id  \\\n",
       "41457                     Roxton Rd / College St          7260.0   \n",
       "41475                              Blantyre Park             NaN   \n",
       "41476                              Blantyre Park             NaN   \n",
       "41490                     Bremner Blvd / Rees St             NaN   \n",
       "41499         Michael Sweet Ave / St. Patrick St          7102.0   \n",
       "...                                          ...             ...   \n",
       "1492145  Adelaide St W / Bay St - SMART_canceled             NaN   \n",
       "1492219                   Roxton Rd / College St          7193.0   \n",
       "1492266       Michael Sweet Ave / St. Patrick St          7148.0   \n",
       "1492352       Michael Sweet Ave / St. Patrick St          7076.0   \n",
       "1492359       Michael Sweet Ave / St. Patrick St          7076.0   \n",
       "\n",
       "                    End Station Name User Type  \n",
       "41457    Spadina Ave / Adelaide St W    Casual  \n",
       "41475       Fringe Next Stage - 7219    Member  \n",
       "41476       Fringe Next Stage - 7219    Member  \n",
       "41490         Roxton Rd / College St    Casual  \n",
       "41499          Nelson St / Duncan St    Member  \n",
       "...                              ...       ...  \n",
       "1492145       Roxton Rd / College St    Member  \n",
       "1492219   Queen St W / Gladstone Ave    Member  \n",
       "1492266  King St W / Joe Shuster Way    Member  \n",
       "1492352      York St / Queens Quay W    Member  \n",
       "1492359      York St / Queens Quay W    Member  \n",
       "\n",
       "[32635 rows x 9 columns]"
      ]
     },
     "execution_count": 101,
     "metadata": {},
     "output_type": "execute_result"
    }
   ],
   "source": [
    "#Check again the trips with missing Station Id\n",
    "ridership_est_2017[\n",
    "    (ridership_est_2017['Start Station Id'].isnull()==True) | \n",
    "    (ridership_est_2017['End Station Id'].isnull()==True)]"
   ]
  },
  {
   "cell_type": "markdown",
   "metadata": {},
   "source": [
    "**These are the stations that's identified before that are not related to any station ID and they are probably early canceled stations. Removing these rows only causes 2.37% loss of information. So we simply drop them.**"
   ]
  },
  {
   "cell_type": "code",
   "execution_count": 102,
   "metadata": {
    "ExecuteTime": {
     "end_time": "2022-12-01T08:59:10.186685Z",
     "start_time": "2022-12-01T08:59:09.677329Z"
    }
   },
   "outputs": [],
   "source": [
    "ridership_2017_clean = ridership_est_2017.dropna()"
   ]
  },
  {
   "cell_type": "code",
   "execution_count": 103,
   "metadata": {
    "ExecuteTime": {
     "end_time": "2022-12-01T08:59:10.640017Z",
     "start_time": "2022-12-01T08:59:10.188674Z"
    },
    "scrolled": true
   },
   "outputs": [
    {
     "name": "stdout",
     "output_type": "stream",
     "text": [
      "<class 'pandas.core.frame.DataFrame'>\n",
      "Int64Index: 1345439 entries, 0 to 1492368\n",
      "Data columns (total 9 columns):\n",
      " #   Column              Non-Null Count    Dtype                     \n",
      "---  ------              --------------    -----                     \n",
      " 0   Trip Id             1345439 non-null  int64                     \n",
      " 1   Start Time          1345439 non-null  datetime64[ns, US/Eastern]\n",
      " 2   End Time            1345439 non-null  datetime64[ns, US/Eastern]\n",
      " 3   Trip Duration       1345439 non-null  int64                     \n",
      " 4   Start Station Id    1345439 non-null  float64                   \n",
      " 5   Start Station Name  1345439 non-null  object                    \n",
      " 6   End Station Id      1345439 non-null  float64                   \n",
      " 7   End Station Name    1345439 non-null  object                    \n",
      " 8   User Type           1345439 non-null  object                    \n",
      "dtypes: datetime64[ns, US/Eastern](2), float64(2), int64(2), object(3)\n",
      "memory usage: 102.6+ MB\n"
     ]
    }
   ],
   "source": [
    "ridership_2017_clean.info()"
   ]
  },
  {
   "cell_type": "markdown",
   "metadata": {},
   "source": [
    "#### **2018 Data**"
   ]
  },
  {
   "cell_type": "code",
   "execution_count": 104,
   "metadata": {
    "ExecuteTime": {
     "end_time": "2022-12-01T08:59:13.358442Z",
     "start_time": "2022-12-01T08:59:10.642015Z"
    }
   },
   "outputs": [],
   "source": [
    "ridership_est_2018 = time_convert(ridership_2018)"
   ]
  },
  {
   "cell_type": "code",
   "execution_count": 105,
   "metadata": {
    "ExecuteTime": {
     "end_time": "2022-12-01T08:59:13.667648Z",
     "start_time": "2022-12-01T08:59:13.360437Z"
    }
   },
   "outputs": [
    {
     "name": "stdout",
     "output_type": "stream",
     "text": [
      "Percent of outliers removed: 5.0232325937559335%\n"
     ]
    }
   ],
   "source": [
    "ridership_est_2018 = remove_outliers(ridership_est_2018)"
   ]
  },
  {
   "cell_type": "code",
   "execution_count": 106,
   "metadata": {
    "ExecuteTime": {
     "end_time": "2022-12-01T08:59:14.273836Z",
     "start_time": "2022-12-01T08:59:13.670642Z"
    }
   },
   "outputs": [
    {
     "data": {
      "text/plain": [
       "Trip Id                0\n",
       "Start Time             0\n",
       "End Time               0\n",
       "Trip Duration          0\n",
       "Start Station Id      54\n",
       "Start Station Name     0\n",
       "End Station Id        54\n",
       "End Station Name       0\n",
       "User Type              0\n",
       "dtype: int64"
      ]
     },
     "execution_count": 106,
     "metadata": {},
     "output_type": "execute_result"
    }
   ],
   "source": [
    "ridership_est_2018.isnull().sum()"
   ]
  },
  {
   "cell_type": "markdown",
   "metadata": {},
   "source": [
    "The station names may need cleaning"
   ]
  },
  {
   "cell_type": "code",
   "execution_count": 107,
   "metadata": {
    "ExecuteTime": {
     "end_time": "2022-12-01T08:59:34.762948Z",
     "start_time": "2022-12-01T08:59:14.275836Z"
    },
    "scrolled": true
   },
   "outputs": [],
   "source": [
    "ridership_est_2018 = replace_name(ridership_est_2018)"
   ]
  },
  {
   "cell_type": "code",
   "execution_count": 108,
   "metadata": {
    "ExecuteTime": {
     "end_time": "2022-12-01T08:59:34.936385Z",
     "start_time": "2022-12-01T08:59:34.765973Z"
    }
   },
   "outputs": [
    {
     "data": {
      "text/html": [
       "<div>\n",
       "<style scoped>\n",
       "    .dataframe tbody tr th:only-of-type {\n",
       "        vertical-align: middle;\n",
       "    }\n",
       "\n",
       "    .dataframe tbody tr th {\n",
       "        vertical-align: top;\n",
       "    }\n",
       "\n",
       "    .dataframe thead th {\n",
       "        text-align: right;\n",
       "    }\n",
       "</style>\n",
       "<table border=\"1\" class=\"dataframe\">\n",
       "  <thead>\n",
       "    <tr style=\"text-align: right;\">\n",
       "      <th></th>\n",
       "      <th>Trip Id</th>\n",
       "      <th>Start Time</th>\n",
       "      <th>End Time</th>\n",
       "      <th>Trip Duration</th>\n",
       "      <th>Start Station Id</th>\n",
       "      <th>Start Station Name</th>\n",
       "      <th>End Station Id</th>\n",
       "      <th>End Station Name</th>\n",
       "      <th>User Type</th>\n",
       "    </tr>\n",
       "  </thead>\n",
       "  <tbody>\n",
       "    <tr>\n",
       "      <th>404824</th>\n",
       "      <td>2383591</td>\n",
       "      <td>2017-12-31 19:00:00-05:00</td>\n",
       "      <td>2017-12-31 19:05:00-05:00</td>\n",
       "      <td>320</td>\n",
       "      <td>7280.0</td>\n",
       "      <td>Charles St E / Jarvis St - SMART</td>\n",
       "      <td>7026.0</td>\n",
       "      <td>Bay St / St. Joseph St</td>\n",
       "      <td>Member</td>\n",
       "    </tr>\n",
       "    <tr>\n",
       "      <th>404825</th>\n",
       "      <td>2383592</td>\n",
       "      <td>2017-12-31 19:04:00-05:00</td>\n",
       "      <td>2017-12-31 19:09:00-05:00</td>\n",
       "      <td>294</td>\n",
       "      <td>7079.0</td>\n",
       "      <td>McGill St / Church St</td>\n",
       "      <td>NaN</td>\n",
       "      <td>University Ave / Gerrard St W</td>\n",
       "      <td>Member</td>\n",
       "    </tr>\n",
       "    <tr>\n",
       "      <th>404826</th>\n",
       "      <td>2383593</td>\n",
       "      <td>2017-12-31 19:07:00-05:00</td>\n",
       "      <td>2017-12-31 19:12:00-05:00</td>\n",
       "      <td>338</td>\n",
       "      <td>7089.0</td>\n",
       "      <td>Church St  / Wood St</td>\n",
       "      <td>7042.0</td>\n",
       "      <td>Sherbourne St / Wellesley St E</td>\n",
       "      <td>Member</td>\n",
       "    </tr>\n",
       "    <tr>\n",
       "      <th>404827</th>\n",
       "      <td>2383594</td>\n",
       "      <td>2017-12-31 19:11:00-05:00</td>\n",
       "      <td>2017-12-31 19:17:00-05:00</td>\n",
       "      <td>337</td>\n",
       "      <td>7250.0</td>\n",
       "      <td>St. George St / Russell St - SMART</td>\n",
       "      <td>7162.0</td>\n",
       "      <td>Hayter St / Laplante Ave</td>\n",
       "      <td>Member</td>\n",
       "    </tr>\n",
       "    <tr>\n",
       "      <th>404828</th>\n",
       "      <td>2383595</td>\n",
       "      <td>2017-12-31 19:16:00-05:00</td>\n",
       "      <td>2017-12-31 19:23:00-05:00</td>\n",
       "      <td>406</td>\n",
       "      <td>NaN</td>\n",
       "      <td>Bathurst St / Queens Quay W</td>\n",
       "      <td>NaN</td>\n",
       "      <td>Bremner Blvd / Spadina Ave</td>\n",
       "      <td>Member</td>\n",
       "    </tr>\n",
       "    <tr>\n",
       "      <th>...</th>\n",
       "      <td>...</td>\n",
       "      <td>...</td>\n",
       "      <td>...</td>\n",
       "      <td>...</td>\n",
       "      <td>...</td>\n",
       "      <td>...</td>\n",
       "      <td>...</td>\n",
       "      <td>...</td>\n",
       "      <td>...</td>\n",
       "    </tr>\n",
       "    <tr>\n",
       "      <th>3415319</th>\n",
       "      <td>4158587</td>\n",
       "      <td>2018-10-01 00:47:00-04:00</td>\n",
       "      <td>2018-10-01 01:16:00-04:00</td>\n",
       "      <td>1724</td>\n",
       "      <td>7195.0</td>\n",
       "      <td>Ulster St / Bathurst St</td>\n",
       "      <td>7195.0</td>\n",
       "      <td>Ulster St / Bathurst St</td>\n",
       "      <td>Annual Member</td>\n",
       "    </tr>\n",
       "    <tr>\n",
       "      <th>3415320</th>\n",
       "      <td>4158588</td>\n",
       "      <td>2018-10-01 00:49:00-04:00</td>\n",
       "      <td>2018-10-01 01:16:00-04:00</td>\n",
       "      <td>1632</td>\n",
       "      <td>7195.0</td>\n",
       "      <td>Ulster St / Bathurst St</td>\n",
       "      <td>7195.0</td>\n",
       "      <td>Ulster St / Bathurst St</td>\n",
       "      <td>Annual Member</td>\n",
       "    </tr>\n",
       "    <tr>\n",
       "      <th>3415321</th>\n",
       "      <td>4158589</td>\n",
       "      <td>2018-10-01 00:53:00-04:00</td>\n",
       "      <td>2018-10-01 00:55:00-04:00</td>\n",
       "      <td>162</td>\n",
       "      <td>7121.0</td>\n",
       "      <td>Jarvis St / Dundas St E</td>\n",
       "      <td>7038.0</td>\n",
       "      <td>Dundas St W / Yonge St</td>\n",
       "      <td>Annual Member</td>\n",
       "    </tr>\n",
       "    <tr>\n",
       "      <th>3415322</th>\n",
       "      <td>4158590</td>\n",
       "      <td>2018-10-01 00:53:00-04:00</td>\n",
       "      <td>2018-10-01 01:01:00-04:00</td>\n",
       "      <td>474</td>\n",
       "      <td>7140.0</td>\n",
       "      <td>Macpherson Ave / Spadina Rd</td>\n",
       "      <td>7281.0</td>\n",
       "      <td>Charles St W / Balmuto St - SMART</td>\n",
       "      <td>Annual Member</td>\n",
       "    </tr>\n",
       "    <tr>\n",
       "      <th>3415323</th>\n",
       "      <td>4158591</td>\n",
       "      <td>2018-10-01 00:54:00-04:00</td>\n",
       "      <td>2018-10-01 01:02:00-04:00</td>\n",
       "      <td>500</td>\n",
       "      <td>7037.0</td>\n",
       "      <td>Bathurst St / Dundas St W</td>\n",
       "      <td>7239.0</td>\n",
       "      <td>Bloor St W / Manning Ave - SMART</td>\n",
       "      <td>Annual Member</td>\n",
       "    </tr>\n",
       "  </tbody>\n",
       "</table>\n",
       "<p>1826351 rows × 9 columns</p>\n",
       "</div>"
      ],
      "text/plain": [
       "         Trip Id                Start Time                  End Time  \\\n",
       "404824   2383591 2017-12-31 19:00:00-05:00 2017-12-31 19:05:00-05:00   \n",
       "404825   2383592 2017-12-31 19:04:00-05:00 2017-12-31 19:09:00-05:00   \n",
       "404826   2383593 2017-12-31 19:07:00-05:00 2017-12-31 19:12:00-05:00   \n",
       "404827   2383594 2017-12-31 19:11:00-05:00 2017-12-31 19:17:00-05:00   \n",
       "404828   2383595 2017-12-31 19:16:00-05:00 2017-12-31 19:23:00-05:00   \n",
       "...          ...                       ...                       ...   \n",
       "3415319  4158587 2018-10-01 00:47:00-04:00 2018-10-01 01:16:00-04:00   \n",
       "3415320  4158588 2018-10-01 00:49:00-04:00 2018-10-01 01:16:00-04:00   \n",
       "3415321  4158589 2018-10-01 00:53:00-04:00 2018-10-01 00:55:00-04:00   \n",
       "3415322  4158590 2018-10-01 00:53:00-04:00 2018-10-01 01:01:00-04:00   \n",
       "3415323  4158591 2018-10-01 00:54:00-04:00 2018-10-01 01:02:00-04:00   \n",
       "\n",
       "         Trip Duration  Start Station Id                  Start Station Name  \\\n",
       "404824             320            7280.0    Charles St E / Jarvis St - SMART   \n",
       "404825             294            7079.0               McGill St / Church St   \n",
       "404826             338            7089.0                Church St  / Wood St   \n",
       "404827             337            7250.0  St. George St / Russell St - SMART   \n",
       "404828             406               NaN         Bathurst St / Queens Quay W   \n",
       "...                ...               ...                                 ...   \n",
       "3415319           1724            7195.0             Ulster St / Bathurst St   \n",
       "3415320           1632            7195.0             Ulster St / Bathurst St   \n",
       "3415321            162            7121.0             Jarvis St / Dundas St E   \n",
       "3415322            474            7140.0         Macpherson Ave / Spadina Rd   \n",
       "3415323            500            7037.0           Bathurst St / Dundas St W   \n",
       "\n",
       "         End Station Id                   End Station Name      User Type  \n",
       "404824           7026.0             Bay St / St. Joseph St         Member  \n",
       "404825              NaN      University Ave / Gerrard St W         Member  \n",
       "404826           7042.0     Sherbourne St / Wellesley St E         Member  \n",
       "404827           7162.0           Hayter St / Laplante Ave         Member  \n",
       "404828              NaN         Bremner Blvd / Spadina Ave         Member  \n",
       "...                 ...                                ...            ...  \n",
       "3415319          7195.0            Ulster St / Bathurst St  Annual Member  \n",
       "3415320          7195.0            Ulster St / Bathurst St  Annual Member  \n",
       "3415321          7038.0             Dundas St W / Yonge St  Annual Member  \n",
       "3415322          7281.0  Charles St W / Balmuto St - SMART  Annual Member  \n",
       "3415323          7239.0   Bloor St W / Manning Ave - SMART  Annual Member  \n",
       "\n",
       "[1826351 rows x 9 columns]"
      ]
     },
     "execution_count": 108,
     "metadata": {},
     "output_type": "execute_result"
    }
   ],
   "source": [
    "# fill missing ID with new station names\n",
    "fill_ID_merge(ridership_est_2018)"
   ]
  },
  {
   "cell_type": "code",
   "execution_count": 109,
   "metadata": {
    "ExecuteTime": {
     "end_time": "2022-12-01T08:59:35.546309Z",
     "start_time": "2022-12-01T08:59:34.939385Z"
    }
   },
   "outputs": [
    {
     "data": {
      "text/plain": [
       "Trip Id                0\n",
       "Start Time             0\n",
       "End Time               0\n",
       "Trip Duration          0\n",
       "Start Station Id      17\n",
       "Start Station Name     0\n",
       "End Station Id        12\n",
       "End Station Name       0\n",
       "User Type              0\n",
       "dtype: int64"
      ]
     },
     "execution_count": 109,
     "metadata": {},
     "output_type": "execute_result"
    }
   ],
   "source": [
    "ridership_est_2018.isnull().sum()"
   ]
  },
  {
   "cell_type": "code",
   "execution_count": 110,
   "metadata": {
    "ExecuteTime": {
     "end_time": "2022-12-01T08:59:35.561846Z",
     "start_time": "2022-12-01T08:59:35.548297Z"
    }
   },
   "outputs": [
    {
     "name": "stdout",
     "output_type": "stream",
     "text": [
      "Percent of information loss for drop missing values is about: 0.000930817789132538\n"
     ]
    }
   ],
   "source": [
    "print(\"Percent of information loss for drop missing values is about: {}\".format(17 / len(ridership_est_2018) * 100))"
   ]
  },
  {
   "cell_type": "code",
   "execution_count": 111,
   "metadata": {
    "ExecuteTime": {
     "end_time": "2022-12-01T08:59:36.277521Z",
     "start_time": "2022-12-01T08:59:35.564386Z"
    }
   },
   "outputs": [],
   "source": [
    "ridership_2018_clean = ridership_est_2018.dropna()"
   ]
  },
  {
   "cell_type": "code",
   "execution_count": 112,
   "metadata": {
    "ExecuteTime": {
     "end_time": "2022-12-01T08:59:36.885433Z",
     "start_time": "2022-12-01T08:59:36.279454Z"
    }
   },
   "outputs": [
    {
     "name": "stdout",
     "output_type": "stream",
     "text": [
      "<class 'pandas.core.frame.DataFrame'>\n",
      "Int64Index: 1826328 entries, 404824 to 3415323\n",
      "Data columns (total 9 columns):\n",
      " #   Column              Non-Null Count    Dtype                     \n",
      "---  ------              --------------    -----                     \n",
      " 0   Trip Id             1826328 non-null  int64                     \n",
      " 1   Start Time          1826328 non-null  datetime64[ns, US/Eastern]\n",
      " 2   End Time            1826328 non-null  datetime64[ns, US/Eastern]\n",
      " 3   Trip Duration       1826328 non-null  int64                     \n",
      " 4   Start Station Id    1826328 non-null  float64                   \n",
      " 5   Start Station Name  1826328 non-null  object                    \n",
      " 6   End Station Id      1826328 non-null  float64                   \n",
      " 7   End Station Name    1826328 non-null  object                    \n",
      " 8   User Type           1826328 non-null  object                    \n",
      "dtypes: datetime64[ns, US/Eastern](2), float64(2), int64(2), object(3)\n",
      "memory usage: 139.3+ MB\n"
     ]
    }
   ],
   "source": [
    "ridership_2018_clean.info(show_counts=True)"
   ]
  },
  {
   "cell_type": "markdown",
   "metadata": {},
   "source": [
    "#### **2019 Data**"
   ]
  },
  {
   "cell_type": "code",
   "execution_count": 113,
   "metadata": {
    "ExecuteTime": {
     "end_time": "2022-12-01T09:00:42.319462Z",
     "start_time": "2022-12-01T08:59:36.887994Z"
    }
   },
   "outputs": [],
   "source": [
    "ridership_est_2019 = time_convert(ridership_2019)"
   ]
  },
  {
   "cell_type": "code",
   "execution_count": 114,
   "metadata": {
    "ExecuteTime": {
     "end_time": "2022-12-01T09:00:42.849070Z",
     "start_time": "2022-12-01T09:00:42.322472Z"
    }
   },
   "outputs": [
    {
     "name": "stdout",
     "output_type": "stream",
     "text": [
      "Percent of outliers removed: 4.5134762785279285%\n"
     ]
    }
   ],
   "source": [
    "ridership_est_2019 = remove_outliers(ridership_est_2019)"
   ]
  },
  {
   "cell_type": "code",
   "execution_count": 115,
   "metadata": {
    "ExecuteTime": {
     "end_time": "2022-12-01T09:00:43.629181Z",
     "start_time": "2022-12-01T09:00:42.851641Z"
    },
    "scrolled": false
   },
   "outputs": [
    {
     "data": {
      "text/plain": [
       "Trip Id                 0\n",
       "Start Time              0\n",
       "End Time                0\n",
       "Trip Duration           0\n",
       "Start Station Id        0\n",
       "Start Station Name      0\n",
       "End Station Id        392\n",
       "End Station Name      392\n",
       "User Type               0\n",
       "dtype: int64"
      ]
     },
     "execution_count": 115,
     "metadata": {},
     "output_type": "execute_result"
    }
   ],
   "source": [
    "ridership_est_2019.isnull().sum()"
   ]
  },
  {
   "cell_type": "code",
   "execution_count": 116,
   "metadata": {
    "ExecuteTime": {
     "end_time": "2022-12-01T09:00:43.644676Z",
     "start_time": "2022-12-01T09:00:43.631106Z"
    }
   },
   "outputs": [
    {
     "name": "stdout",
     "output_type": "stream",
     "text": [
      "Percent of information loss for drop missing values: 0.016827840460052552\n"
     ]
    }
   ],
   "source": [
    "print(\"Percent of information loss for drop missing values: {}\".format(392 /len(ridership_est_2019) * 100))"
   ]
  },
  {
   "cell_type": "code",
   "execution_count": 117,
   "metadata": {
    "ExecuteTime": {
     "end_time": "2022-12-01T09:00:43.738684Z",
     "start_time": "2022-12-01T09:00:43.646671Z"
    },
    "scrolled": true
   },
   "outputs": [
    {
     "data": {
      "text/html": [
       "<div>\n",
       "<style scoped>\n",
       "    .dataframe tbody tr th:only-of-type {\n",
       "        vertical-align: middle;\n",
       "    }\n",
       "\n",
       "    .dataframe tbody tr th {\n",
       "        vertical-align: top;\n",
       "    }\n",
       "\n",
       "    .dataframe thead th {\n",
       "        text-align: right;\n",
       "    }\n",
       "</style>\n",
       "<table border=\"1\" class=\"dataframe\">\n",
       "  <thead>\n",
       "    <tr style=\"text-align: right;\">\n",
       "      <th></th>\n",
       "      <th>Trip Id</th>\n",
       "      <th>Start Time</th>\n",
       "      <th>End Time</th>\n",
       "      <th>Trip Duration</th>\n",
       "      <th>Start Station Id</th>\n",
       "      <th>Start Station Name</th>\n",
       "      <th>End Station Id</th>\n",
       "      <th>End Station Name</th>\n",
       "      <th>User Type</th>\n",
       "    </tr>\n",
       "  </thead>\n",
       "  <tbody>\n",
       "    <tr>\n",
       "      <th>3476980</th>\n",
       "      <td>6795174</td>\n",
       "      <td>2019-01-10 01:07:00-05:00</td>\n",
       "      <td>2019-01-10 01:35:00-05:00</td>\n",
       "      <td>1676</td>\n",
       "      <td>7425.0</td>\n",
       "      <td>The Queensway at South Kingsway - SMART</td>\n",
       "      <td>NaN</td>\n",
       "      <td>NaN</td>\n",
       "      <td>Annual Member</td>\n",
       "    </tr>\n",
       "    <tr>\n",
       "      <th>3478120</th>\n",
       "      <td>6796528</td>\n",
       "      <td>2019-01-10 03:20:00-05:00</td>\n",
       "      <td>2019-01-10 03:31:00-05:00</td>\n",
       "      <td>674</td>\n",
       "      <td>7070.0</td>\n",
       "      <td>25 York St – Union Station South</td>\n",
       "      <td>NaN</td>\n",
       "      <td>NaN</td>\n",
       "      <td>Annual Member</td>\n",
       "    </tr>\n",
       "    <tr>\n",
       "      <th>3478429</th>\n",
       "      <td>6796906</td>\n",
       "      <td>2019-01-10 03:34:00-05:00</td>\n",
       "      <td>2019-01-10 03:48:00-05:00</td>\n",
       "      <td>840</td>\n",
       "      <td>7347.0</td>\n",
       "      <td>Regal Rd / Dufferin St</td>\n",
       "      <td>NaN</td>\n",
       "      <td>NaN</td>\n",
       "      <td>Annual Member</td>\n",
       "    </tr>\n",
       "    <tr>\n",
       "      <th>3480163</th>\n",
       "      <td>6799037</td>\n",
       "      <td>2019-01-10 05:07:00-05:00</td>\n",
       "      <td>2019-01-10 05:19:00-05:00</td>\n",
       "      <td>713</td>\n",
       "      <td>7317.0</td>\n",
       "      <td>Hubbard Blvd / Balsam Av</td>\n",
       "      <td>NaN</td>\n",
       "      <td>NaN</td>\n",
       "      <td>Annual Member</td>\n",
       "    </tr>\n",
       "    <tr>\n",
       "      <th>3482184</th>\n",
       "      <td>6801398</td>\n",
       "      <td>2019-01-10 09:33:00-05:00</td>\n",
       "      <td>2019-01-10 10:00:00-05:00</td>\n",
       "      <td>1627</td>\n",
       "      <td>7299.0</td>\n",
       "      <td>Mill St / Parliament St</td>\n",
       "      <td>NaN</td>\n",
       "      <td>NaN</td>\n",
       "      <td>Annual Member</td>\n",
       "    </tr>\n",
       "    <tr>\n",
       "      <th>...</th>\n",
       "      <td>...</td>\n",
       "      <td>...</td>\n",
       "      <td>...</td>\n",
       "      <td>...</td>\n",
       "      <td>...</td>\n",
       "      <td>...</td>\n",
       "      <td>...</td>\n",
       "      <td>...</td>\n",
       "      <td>...</td>\n",
       "    </tr>\n",
       "    <tr>\n",
       "      <th>5834744</th>\n",
       "      <td>6772378</td>\n",
       "      <td>2019-09-28 14:24:00-04:00</td>\n",
       "      <td>2019-09-28 14:50:00-04:00</td>\n",
       "      <td>1554</td>\n",
       "      <td>7038.0</td>\n",
       "      <td>Dundas St W / Yonge St</td>\n",
       "      <td>NaN</td>\n",
       "      <td>NaN</td>\n",
       "      <td>Annual Member</td>\n",
       "    </tr>\n",
       "    <tr>\n",
       "      <th>5845945</th>\n",
       "      <td>6785059</td>\n",
       "      <td>2019-09-30 04:41:00-04:00</td>\n",
       "      <td>2019-09-30 04:59:00-04:00</td>\n",
       "      <td>1100</td>\n",
       "      <td>7438.0</td>\n",
       "      <td>High Park Subway - SMART</td>\n",
       "      <td>NaN</td>\n",
       "      <td>NaN</td>\n",
       "      <td>Annual Member</td>\n",
       "    </tr>\n",
       "    <tr>\n",
       "      <th>5850402</th>\n",
       "      <td>6790168</td>\n",
       "      <td>2019-09-30 12:53:00-04:00</td>\n",
       "      <td>2019-09-30 13:06:00-04:00</td>\n",
       "      <td>807</td>\n",
       "      <td>7011.0</td>\n",
       "      <td>Wellington St W / Portland St</td>\n",
       "      <td>NaN</td>\n",
       "      <td>NaN</td>\n",
       "      <td>Annual Member</td>\n",
       "    </tr>\n",
       "    <tr>\n",
       "      <th>5851848</th>\n",
       "      <td>6791678</td>\n",
       "      <td>2019-09-30 13:50:00-04:00</td>\n",
       "      <td>2019-09-30 14:20:00-04:00</td>\n",
       "      <td>1808</td>\n",
       "      <td>7016.0</td>\n",
       "      <td>Bay St / Queens Quay W (Ferry Terminal)</td>\n",
       "      <td>NaN</td>\n",
       "      <td>NaN</td>\n",
       "      <td>Annual Member</td>\n",
       "    </tr>\n",
       "    <tr>\n",
       "      <th>5853254</th>\n",
       "      <td>6793119</td>\n",
       "      <td>2019-09-30 15:08:00-04:00</td>\n",
       "      <td>2019-09-30 15:27:00-04:00</td>\n",
       "      <td>1146</td>\n",
       "      <td>7160.0</td>\n",
       "      <td>King St W / Tecumseth St</td>\n",
       "      <td>NaN</td>\n",
       "      <td>NaN</td>\n",
       "      <td>Annual Member</td>\n",
       "    </tr>\n",
       "  </tbody>\n",
       "</table>\n",
       "<p>392 rows × 9 columns</p>\n",
       "</div>"
      ],
      "text/plain": [
       "         Trip Id                Start Time                  End Time  \\\n",
       "3476980  6795174 2019-01-10 01:07:00-05:00 2019-01-10 01:35:00-05:00   \n",
       "3478120  6796528 2019-01-10 03:20:00-05:00 2019-01-10 03:31:00-05:00   \n",
       "3478429  6796906 2019-01-10 03:34:00-05:00 2019-01-10 03:48:00-05:00   \n",
       "3480163  6799037 2019-01-10 05:07:00-05:00 2019-01-10 05:19:00-05:00   \n",
       "3482184  6801398 2019-01-10 09:33:00-05:00 2019-01-10 10:00:00-05:00   \n",
       "...          ...                       ...                       ...   \n",
       "5834744  6772378 2019-09-28 14:24:00-04:00 2019-09-28 14:50:00-04:00   \n",
       "5845945  6785059 2019-09-30 04:41:00-04:00 2019-09-30 04:59:00-04:00   \n",
       "5850402  6790168 2019-09-30 12:53:00-04:00 2019-09-30 13:06:00-04:00   \n",
       "5851848  6791678 2019-09-30 13:50:00-04:00 2019-09-30 14:20:00-04:00   \n",
       "5853254  6793119 2019-09-30 15:08:00-04:00 2019-09-30 15:27:00-04:00   \n",
       "\n",
       "         Trip Duration  Start Station Id  \\\n",
       "3476980           1676            7425.0   \n",
       "3478120            674            7070.0   \n",
       "3478429            840            7347.0   \n",
       "3480163            713            7317.0   \n",
       "3482184           1627            7299.0   \n",
       "...                ...               ...   \n",
       "5834744           1554            7038.0   \n",
       "5845945           1100            7438.0   \n",
       "5850402            807            7011.0   \n",
       "5851848           1808            7016.0   \n",
       "5853254           1146            7160.0   \n",
       "\n",
       "                              Start Station Name  End Station Id  \\\n",
       "3476980  The Queensway at South Kingsway - SMART             NaN   \n",
       "3478120         25 York St – Union Station South             NaN   \n",
       "3478429                   Regal Rd / Dufferin St             NaN   \n",
       "3480163                 Hubbard Blvd / Balsam Av             NaN   \n",
       "3482184                  Mill St / Parliament St             NaN   \n",
       "...                                          ...             ...   \n",
       "5834744                   Dundas St W / Yonge St             NaN   \n",
       "5845945                 High Park Subway - SMART             NaN   \n",
       "5850402            Wellington St W / Portland St             NaN   \n",
       "5851848  Bay St / Queens Quay W (Ferry Terminal)             NaN   \n",
       "5853254                 King St W / Tecumseth St             NaN   \n",
       "\n",
       "        End Station Name      User Type  \n",
       "3476980              NaN  Annual Member  \n",
       "3478120              NaN  Annual Member  \n",
       "3478429              NaN  Annual Member  \n",
       "3480163              NaN  Annual Member  \n",
       "3482184              NaN  Annual Member  \n",
       "...                  ...            ...  \n",
       "5834744              NaN  Annual Member  \n",
       "5845945              NaN  Annual Member  \n",
       "5850402              NaN  Annual Member  \n",
       "5851848              NaN  Annual Member  \n",
       "5853254              NaN  Annual Member  \n",
       "\n",
       "[392 rows x 9 columns]"
      ]
     },
     "execution_count": 117,
     "metadata": {},
     "output_type": "execute_result"
    }
   ],
   "source": [
    "# Examine the rows with missing station Id and station name\n",
    "ridership_est_2019[\n",
    "    (ridership_est_2019['End Station Name'].isnull()==True) | \n",
    "    (ridership_est_2019['End Station Id'].isnull()==True)]"
   ]
  },
  {
   "cell_type": "markdown",
   "metadata": {},
   "source": [
    "It's clear that these rows should be dropped, and they only cause around 0.017% of information loss."
   ]
  },
  {
   "cell_type": "code",
   "execution_count": 118,
   "metadata": {
    "ExecuteTime": {
     "end_time": "2022-12-01T09:00:44.631704Z",
     "start_time": "2022-12-01T09:00:43.741690Z"
    }
   },
   "outputs": [],
   "source": [
    "ridership_est_2019 = ridership_est_2019.dropna()"
   ]
  },
  {
   "cell_type": "code",
   "execution_count": 119,
   "metadata": {
    "ExecuteTime": {
     "end_time": "2022-12-01T09:01:11.258945Z",
     "start_time": "2022-12-01T09:00:44.633611Z"
    },
    "scrolled": true
   },
   "outputs": [],
   "source": [
    "ridership_2019_clean = replace_name(ridership_est_2019)"
   ]
  },
  {
   "cell_type": "code",
   "execution_count": 120,
   "metadata": {
    "ExecuteTime": {
     "end_time": "2022-12-01T09:01:12.026824Z",
     "start_time": "2022-12-01T09:01:11.260948Z"
    },
    "scrolled": false
   },
   "outputs": [
    {
     "name": "stdout",
     "output_type": "stream",
     "text": [
      "<class 'pandas.core.frame.DataFrame'>\n",
      "Int64Index: 2329081 entries, 1899652 to 5854840\n",
      "Data columns (total 9 columns):\n",
      " #   Column              Non-Null Count    Dtype                     \n",
      "---  ------              --------------    -----                     \n",
      " 0   Trip Id             2329081 non-null  int64                     \n",
      " 1   Start Time          2329081 non-null  datetime64[ns, US/Eastern]\n",
      " 2   End Time            2329081 non-null  datetime64[ns, US/Eastern]\n",
      " 3   Trip Duration       2329081 non-null  int64                     \n",
      " 4   Start Station Id    2329081 non-null  float64                   \n",
      " 5   Start Station Name  2329081 non-null  object                    \n",
      " 6   End Station Id      2329081 non-null  float64                   \n",
      " 7   End Station Name    2329081 non-null  object                    \n",
      " 8   User Type           2329081 non-null  object                    \n",
      "dtypes: datetime64[ns, US/Eastern](2), float64(2), int64(2), object(3)\n",
      "memory usage: 177.7+ MB\n"
     ]
    }
   ],
   "source": [
    "ridership_2019_clean.info(show_counts=True)"
   ]
  },
  {
   "cell_type": "markdown",
   "metadata": {},
   "source": [
    "#### **2020 Data**"
   ]
  },
  {
   "cell_type": "code",
   "execution_count": 121,
   "metadata": {
    "ExecuteTime": {
     "end_time": "2022-12-01T09:02:22.000559Z",
     "start_time": "2022-12-01T09:01:12.028807Z"
    }
   },
   "outputs": [],
   "source": [
    "ridership_est_2020 = time_convert(ridership_2020)"
   ]
  },
  {
   "cell_type": "code",
   "execution_count": 122,
   "metadata": {
    "ExecuteTime": {
     "end_time": "2022-12-01T09:02:22.485115Z",
     "start_time": "2022-12-01T09:02:22.003509Z"
    }
   },
   "outputs": [
    {
     "name": "stdout",
     "output_type": "stream",
     "text": [
      "Percent of outliers removed: 4.311910660088181%\n"
     ]
    }
   ],
   "source": [
    "ridership_est_2020 = remove_outliers(ridership_est_2020)"
   ]
  },
  {
   "cell_type": "code",
   "execution_count": 123,
   "metadata": {
    "ExecuteTime": {
     "end_time": "2022-12-01T09:02:23.390282Z",
     "start_time": "2022-12-01T09:02:22.488115Z"
    },
    "scrolled": false
   },
   "outputs": [
    {
     "data": {
      "text/plain": [
       "Trip Id                  0\n",
       "Start Time               0\n",
       "End Time                 0\n",
       "Trip Duration            0\n",
       "Start Station Id         0\n",
       "Start Station Name     772\n",
       "End Station Id         396\n",
       "End Station Name      1119\n",
       "User Type                0\n",
       "dtype: int64"
      ]
     },
     "execution_count": 123,
     "metadata": {},
     "output_type": "execute_result"
    }
   ],
   "source": [
    "ridership_est_2020.isnull().sum()"
   ]
  },
  {
   "cell_type": "code",
   "execution_count": 124,
   "metadata": {
    "ExecuteTime": {
     "end_time": "2022-12-01T09:02:53.139352Z",
     "start_time": "2022-12-01T09:02:23.392270Z"
    }
   },
   "outputs": [],
   "source": [
    "ridership_est_2020 = replace_name(ridership_est_2020)"
   ]
  },
  {
   "cell_type": "code",
   "execution_count": 125,
   "metadata": {
    "ExecuteTime": {
     "end_time": "2022-12-01T09:02:53.719440Z",
     "start_time": "2022-12-01T09:02:53.150399Z"
    }
   },
   "outputs": [
    {
     "data": {
      "text/html": [
       "<div>\n",
       "<style scoped>\n",
       "    .dataframe tbody tr th:only-of-type {\n",
       "        vertical-align: middle;\n",
       "    }\n",
       "\n",
       "    .dataframe tbody tr th {\n",
       "        vertical-align: top;\n",
       "    }\n",
       "\n",
       "    .dataframe thead th {\n",
       "        text-align: right;\n",
       "    }\n",
       "</style>\n",
       "<table border=\"1\" class=\"dataframe\">\n",
       "  <thead>\n",
       "    <tr style=\"text-align: right;\">\n",
       "      <th></th>\n",
       "      <th>Trip Id</th>\n",
       "      <th>Start Time</th>\n",
       "      <th>End Time</th>\n",
       "      <th>Trip Duration</th>\n",
       "      <th>Start Station Id</th>\n",
       "      <th>Start Station Name</th>\n",
       "      <th>End Station Id</th>\n",
       "      <th>End Station Name</th>\n",
       "      <th>User Type</th>\n",
       "    </tr>\n",
       "  </thead>\n",
       "  <tbody>\n",
       "    <tr>\n",
       "      <th>5854841</th>\n",
       "      <td>7334128</td>\n",
       "      <td>2020-01-01 00:08:00-05:00</td>\n",
       "      <td>2020-01-01 00:19:00-05:00</td>\n",
       "      <td>648</td>\n",
       "      <td>7003.0</td>\n",
       "      <td>Madison Ave / Bloor St W</td>\n",
       "      <td>7271.0</td>\n",
       "      <td>Yonge St / Alexander St - SMART</td>\n",
       "      <td>Annual Member</td>\n",
       "    </tr>\n",
       "    <tr>\n",
       "      <th>5854842</th>\n",
       "      <td>7334129</td>\n",
       "      <td>2020-01-01 00:10:00-05:00</td>\n",
       "      <td>2020-01-01 00:17:00-05:00</td>\n",
       "      <td>419</td>\n",
       "      <td>7007.0</td>\n",
       "      <td>College St / Huron St</td>\n",
       "      <td>7163.0</td>\n",
       "      <td>Yonge St / Wood St</td>\n",
       "      <td>Annual Member</td>\n",
       "    </tr>\n",
       "    <tr>\n",
       "      <th>5854843</th>\n",
       "      <td>7334130</td>\n",
       "      <td>2020-01-01 00:13:00-05:00</td>\n",
       "      <td>2020-01-01 00:22:00-05:00</td>\n",
       "      <td>566</td>\n",
       "      <td>7113.0</td>\n",
       "      <td>Parliament St / Aberdeen Ave</td>\n",
       "      <td>7108.0</td>\n",
       "      <td>Front St E / Cherry St</td>\n",
       "      <td>Annual Member</td>\n",
       "    </tr>\n",
       "    <tr>\n",
       "      <th>5854844</th>\n",
       "      <td>7334131</td>\n",
       "      <td>2020-01-01 00:17:00-05:00</td>\n",
       "      <td>2020-01-01 00:38:00-05:00</td>\n",
       "      <td>1274</td>\n",
       "      <td>7333.0</td>\n",
       "      <td>King St E / Victoria St</td>\n",
       "      <td>7311.0</td>\n",
       "      <td>Sherbourne St / Isabella St</td>\n",
       "      <td>Annual Member</td>\n",
       "    </tr>\n",
       "    <tr>\n",
       "      <th>5854845</th>\n",
       "      <td>7334132</td>\n",
       "      <td>2020-01-01 00:19:00-05:00</td>\n",
       "      <td>2020-01-01 00:34:00-05:00</td>\n",
       "      <td>906</td>\n",
       "      <td>7009.0</td>\n",
       "      <td>King St E / Jarvis St</td>\n",
       "      <td>7004.0</td>\n",
       "      <td>University Ave / Elm St</td>\n",
       "      <td>Casual Member</td>\n",
       "    </tr>\n",
       "    <tr>\n",
       "      <th>...</th>\n",
       "      <td>...</td>\n",
       "      <td>...</td>\n",
       "      <td>...</td>\n",
       "      <td>...</td>\n",
       "      <td>...</td>\n",
       "      <td>...</td>\n",
       "      <td>...</td>\n",
       "      <td>...</td>\n",
       "      <td>...</td>\n",
       "    </tr>\n",
       "    <tr>\n",
       "      <th>8766144</th>\n",
       "      <td>9970490</td>\n",
       "      <td>2020-09-30 23:59:00-04:00</td>\n",
       "      <td>2020-01-10 00:03:00-05:00</td>\n",
       "      <td>260</td>\n",
       "      <td>7121.0</td>\n",
       "      <td>Jarvis St / Dundas St E</td>\n",
       "      <td>7389.0</td>\n",
       "      <td>College Park- Gerrard Entrance</td>\n",
       "      <td>Annual Member</td>\n",
       "    </tr>\n",
       "    <tr>\n",
       "      <th>8766145</th>\n",
       "      <td>9970491</td>\n",
       "      <td>2020-09-30 23:59:00-04:00</td>\n",
       "      <td>2020-01-10 00:06:00-05:00</td>\n",
       "      <td>430</td>\n",
       "      <td>7111.0</td>\n",
       "      <td>King St W / Douro St</td>\n",
       "      <td>7533.0</td>\n",
       "      <td>Housey St / Dan Leckie Way - SMART</td>\n",
       "      <td>Casual Member</td>\n",
       "    </tr>\n",
       "    <tr>\n",
       "      <th>8766146</th>\n",
       "      <td>9970492</td>\n",
       "      <td>2020-09-30 23:59:00-04:00</td>\n",
       "      <td>2020-01-10 00:09:00-05:00</td>\n",
       "      <td>600</td>\n",
       "      <td>7056.0</td>\n",
       "      <td>Parliament St / Gerrard St</td>\n",
       "      <td>7577.0</td>\n",
       "      <td>Oak St / Sumach St</td>\n",
       "      <td>Casual Member</td>\n",
       "    </tr>\n",
       "    <tr>\n",
       "      <th>8766147</th>\n",
       "      <td>9970493</td>\n",
       "      <td>2020-09-30 23:59:00-04:00</td>\n",
       "      <td>2020-01-10 00:05:00-05:00</td>\n",
       "      <td>316</td>\n",
       "      <td>7468.0</td>\n",
       "      <td>Front St / Simcoe St</td>\n",
       "      <td>7076.0</td>\n",
       "      <td>York St / Queens Quay W</td>\n",
       "      <td>Casual Member</td>\n",
       "    </tr>\n",
       "    <tr>\n",
       "      <th>8766148</th>\n",
       "      <td>9970494</td>\n",
       "      <td>2020-09-30 23:59:00-04:00</td>\n",
       "      <td>2020-01-10 00:04:00-05:00</td>\n",
       "      <td>306</td>\n",
       "      <td>7468.0</td>\n",
       "      <td>Front St / Simcoe St</td>\n",
       "      <td>7076.0</td>\n",
       "      <td>York St / Queens Quay W</td>\n",
       "      <td>Casual Member</td>\n",
       "    </tr>\n",
       "  </tbody>\n",
       "</table>\n",
       "<p>2785775 rows × 9 columns</p>\n",
       "</div>"
      ],
      "text/plain": [
       "         Trip Id                Start Time                  End Time  \\\n",
       "5854841  7334128 2020-01-01 00:08:00-05:00 2020-01-01 00:19:00-05:00   \n",
       "5854842  7334129 2020-01-01 00:10:00-05:00 2020-01-01 00:17:00-05:00   \n",
       "5854843  7334130 2020-01-01 00:13:00-05:00 2020-01-01 00:22:00-05:00   \n",
       "5854844  7334131 2020-01-01 00:17:00-05:00 2020-01-01 00:38:00-05:00   \n",
       "5854845  7334132 2020-01-01 00:19:00-05:00 2020-01-01 00:34:00-05:00   \n",
       "...          ...                       ...                       ...   \n",
       "8766144  9970490 2020-09-30 23:59:00-04:00 2020-01-10 00:03:00-05:00   \n",
       "8766145  9970491 2020-09-30 23:59:00-04:00 2020-01-10 00:06:00-05:00   \n",
       "8766146  9970492 2020-09-30 23:59:00-04:00 2020-01-10 00:09:00-05:00   \n",
       "8766147  9970493 2020-09-30 23:59:00-04:00 2020-01-10 00:05:00-05:00   \n",
       "8766148  9970494 2020-09-30 23:59:00-04:00 2020-01-10 00:04:00-05:00   \n",
       "\n",
       "         Trip Duration  Start Station Id            Start Station Name  \\\n",
       "5854841            648            7003.0      Madison Ave / Bloor St W   \n",
       "5854842            419            7007.0         College St / Huron St   \n",
       "5854843            566            7113.0  Parliament St / Aberdeen Ave   \n",
       "5854844           1274            7333.0       King St E / Victoria St   \n",
       "5854845            906            7009.0         King St E / Jarvis St   \n",
       "...                ...               ...                           ...   \n",
       "8766144            260            7121.0       Jarvis St / Dundas St E   \n",
       "8766145            430            7111.0          King St W / Douro St   \n",
       "8766146            600            7056.0    Parliament St / Gerrard St   \n",
       "8766147            316            7468.0          Front St / Simcoe St   \n",
       "8766148            306            7468.0          Front St / Simcoe St   \n",
       "\n",
       "         End Station Id                    End Station Name      User Type  \n",
       "5854841          7271.0     Yonge St / Alexander St - SMART  Annual Member  \n",
       "5854842          7163.0                  Yonge St / Wood St  Annual Member  \n",
       "5854843          7108.0              Front St E / Cherry St  Annual Member  \n",
       "5854844          7311.0         Sherbourne St / Isabella St  Annual Member  \n",
       "5854845          7004.0             University Ave / Elm St  Casual Member  \n",
       "...                 ...                                 ...            ...  \n",
       "8766144          7389.0      College Park- Gerrard Entrance  Annual Member  \n",
       "8766145          7533.0  Housey St / Dan Leckie Way - SMART  Casual Member  \n",
       "8766146          7577.0                  Oak St / Sumach St  Casual Member  \n",
       "8766147          7076.0             York St / Queens Quay W  Casual Member  \n",
       "8766148          7076.0             York St / Queens Quay W  Casual Member  \n",
       "\n",
       "[2785775 rows x 9 columns]"
      ]
     },
     "execution_count": 125,
     "metadata": {},
     "output_type": "execute_result"
    }
   ],
   "source": [
    "fill_ID_merge(ridership_est_2020)\n",
    "fill_name(ridership_est_2020)"
   ]
  },
  {
   "cell_type": "code",
   "execution_count": 126,
   "metadata": {
    "ExecuteTime": {
     "end_time": "2022-12-01T09:02:54.630969Z",
     "start_time": "2022-12-01T09:02:53.721438Z"
    },
    "scrolled": false
   },
   "outputs": [
    {
     "data": {
      "text/plain": [
       "Trip Id                 0\n",
       "Start Time              0\n",
       "End Time                0\n",
       "Trip Duration           0\n",
       "Start Station Id        0\n",
       "Start Station Name      0\n",
       "End Station Id        396\n",
       "End Station Name      396\n",
       "User Type               0\n",
       "dtype: int64"
      ]
     },
     "execution_count": 126,
     "metadata": {},
     "output_type": "execute_result"
    }
   ],
   "source": [
    "ridership_est_2020.isnull().sum()"
   ]
  },
  {
   "cell_type": "code",
   "execution_count": 127,
   "metadata": {
    "ExecuteTime": {
     "end_time": "2022-12-01T09:02:54.723764Z",
     "start_time": "2022-12-01T09:02:54.633855Z"
    }
   },
   "outputs": [
    {
     "data": {
      "text/html": [
       "<div>\n",
       "<style scoped>\n",
       "    .dataframe tbody tr th:only-of-type {\n",
       "        vertical-align: middle;\n",
       "    }\n",
       "\n",
       "    .dataframe tbody tr th {\n",
       "        vertical-align: top;\n",
       "    }\n",
       "\n",
       "    .dataframe thead th {\n",
       "        text-align: right;\n",
       "    }\n",
       "</style>\n",
       "<table border=\"1\" class=\"dataframe\">\n",
       "  <thead>\n",
       "    <tr style=\"text-align: right;\">\n",
       "      <th></th>\n",
       "      <th>Trip Id</th>\n",
       "      <th>Start Time</th>\n",
       "      <th>End Time</th>\n",
       "      <th>Trip Duration</th>\n",
       "      <th>Start Station Id</th>\n",
       "      <th>Start Station Name</th>\n",
       "      <th>End Station Id</th>\n",
       "      <th>End Station Name</th>\n",
       "      <th>User Type</th>\n",
       "    </tr>\n",
       "  </thead>\n",
       "  <tbody>\n",
       "    <tr>\n",
       "      <th>5864559</th>\n",
       "      <td>7345835</td>\n",
       "      <td>2020-04-01 08:50:00-04:00</td>\n",
       "      <td>2020-04-01 09:02:00-04:00</td>\n",
       "      <td>741</td>\n",
       "      <td>7204.0</td>\n",
       "      <td>College St / Crawford St</td>\n",
       "      <td>NaN</td>\n",
       "      <td>NaN</td>\n",
       "      <td>Annual Member</td>\n",
       "    </tr>\n",
       "    <tr>\n",
       "      <th>5864601</th>\n",
       "      <td>7345883</td>\n",
       "      <td>2020-04-01 09:24:00-04:00</td>\n",
       "      <td>2020-04-01 09:42:00-04:00</td>\n",
       "      <td>1071</td>\n",
       "      <td>7109.0</td>\n",
       "      <td>Seaton St / Dundas St E - SMART</td>\n",
       "      <td>NaN</td>\n",
       "      <td>NaN</td>\n",
       "      <td>Annual Member</td>\n",
       "    </tr>\n",
       "    <tr>\n",
       "      <th>5864725</th>\n",
       "      <td>7346023</td>\n",
       "      <td>2020-04-01 10:25:00-04:00</td>\n",
       "      <td>2020-04-01 10:46:00-04:00</td>\n",
       "      <td>1261</td>\n",
       "      <td>7199.0</td>\n",
       "      <td>College St / Markham St</td>\n",
       "      <td>NaN</td>\n",
       "      <td>NaN</td>\n",
       "      <td>Annual Member</td>\n",
       "    </tr>\n",
       "    <tr>\n",
       "      <th>5866563</th>\n",
       "      <td>7348080</td>\n",
       "      <td>2020-04-01 20:54:00-04:00</td>\n",
       "      <td>2020-04-01 21:08:00-04:00</td>\n",
       "      <td>840</td>\n",
       "      <td>7069.0</td>\n",
       "      <td>Queen St W / Spadina Ave</td>\n",
       "      <td>NaN</td>\n",
       "      <td>NaN</td>\n",
       "      <td>Annual Member</td>\n",
       "    </tr>\n",
       "    <tr>\n",
       "      <th>5866564</th>\n",
       "      <td>7348081</td>\n",
       "      <td>2020-04-01 20:55:00-04:00</td>\n",
       "      <td>2020-04-01 21:11:00-04:00</td>\n",
       "      <td>960</td>\n",
       "      <td>7069.0</td>\n",
       "      <td>Queen St W / Spadina Ave</td>\n",
       "      <td>NaN</td>\n",
       "      <td>NaN</td>\n",
       "      <td>Annual Member</td>\n",
       "    </tr>\n",
       "    <tr>\n",
       "      <th>...</th>\n",
       "      <td>...</td>\n",
       "      <td>...</td>\n",
       "      <td>...</td>\n",
       "      <td>...</td>\n",
       "      <td>...</td>\n",
       "      <td>...</td>\n",
       "      <td>...</td>\n",
       "      <td>...</td>\n",
       "      <td>...</td>\n",
       "    </tr>\n",
       "    <tr>\n",
       "      <th>7708265</th>\n",
       "      <td>8783902</td>\n",
       "      <td>2020-07-24 12:48:00-04:00</td>\n",
       "      <td>2020-07-24 13:13:00-04:00</td>\n",
       "      <td>1498</td>\n",
       "      <td>7462.0</td>\n",
       "      <td>Richmond St E / Yonge St</td>\n",
       "      <td>NaN</td>\n",
       "      <td>NaN</td>\n",
       "      <td>Annual Member</td>\n",
       "    </tr>\n",
       "    <tr>\n",
       "      <th>7746397</th>\n",
       "      <td>8825801</td>\n",
       "      <td>2020-07-26 10:28:00-04:00</td>\n",
       "      <td>2020-07-26 10:38:00-04:00</td>\n",
       "      <td>559</td>\n",
       "      <td>7228.0</td>\n",
       "      <td>Queen St W / Roncesvalles Ave</td>\n",
       "      <td>NaN</td>\n",
       "      <td>NaN</td>\n",
       "      <td>Annual Member</td>\n",
       "    </tr>\n",
       "    <tr>\n",
       "      <th>7954448</th>\n",
       "      <td>9058742</td>\n",
       "      <td>2020-09-08 11:28:00-04:00</td>\n",
       "      <td>2020-09-08 11:59:00-04:00</td>\n",
       "      <td>1895</td>\n",
       "      <td>7076.0</td>\n",
       "      <td>York St / Queens Quay W</td>\n",
       "      <td>NaN</td>\n",
       "      <td>NaN</td>\n",
       "      <td>Casual Member</td>\n",
       "    </tr>\n",
       "    <tr>\n",
       "      <th>7967157</th>\n",
       "      <td>9073044</td>\n",
       "      <td>2020-09-08 19:48:00-04:00</td>\n",
       "      <td>2020-09-08 20:18:00-04:00</td>\n",
       "      <td>1833</td>\n",
       "      <td>7451.0</td>\n",
       "      <td>Western Battery Rd / Pirandello St - SMART</td>\n",
       "      <td>NaN</td>\n",
       "      <td>NaN</td>\n",
       "      <td>Annual Member</td>\n",
       "    </tr>\n",
       "    <tr>\n",
       "      <th>8636540</th>\n",
       "      <td>9827090</td>\n",
       "      <td>2020-09-21 20:52:00-04:00</td>\n",
       "      <td>2020-09-21 21:11:00-04:00</td>\n",
       "      <td>1152</td>\n",
       "      <td>7398.0</td>\n",
       "      <td>York St / Harbour St</td>\n",
       "      <td>NaN</td>\n",
       "      <td>NaN</td>\n",
       "      <td>Annual Member</td>\n",
       "    </tr>\n",
       "  </tbody>\n",
       "</table>\n",
       "<p>396 rows × 9 columns</p>\n",
       "</div>"
      ],
      "text/plain": [
       "         Trip Id                Start Time                  End Time  \\\n",
       "5864559  7345835 2020-04-01 08:50:00-04:00 2020-04-01 09:02:00-04:00   \n",
       "5864601  7345883 2020-04-01 09:24:00-04:00 2020-04-01 09:42:00-04:00   \n",
       "5864725  7346023 2020-04-01 10:25:00-04:00 2020-04-01 10:46:00-04:00   \n",
       "5866563  7348080 2020-04-01 20:54:00-04:00 2020-04-01 21:08:00-04:00   \n",
       "5866564  7348081 2020-04-01 20:55:00-04:00 2020-04-01 21:11:00-04:00   \n",
       "...          ...                       ...                       ...   \n",
       "7708265  8783902 2020-07-24 12:48:00-04:00 2020-07-24 13:13:00-04:00   \n",
       "7746397  8825801 2020-07-26 10:28:00-04:00 2020-07-26 10:38:00-04:00   \n",
       "7954448  9058742 2020-09-08 11:28:00-04:00 2020-09-08 11:59:00-04:00   \n",
       "7967157  9073044 2020-09-08 19:48:00-04:00 2020-09-08 20:18:00-04:00   \n",
       "8636540  9827090 2020-09-21 20:52:00-04:00 2020-09-21 21:11:00-04:00   \n",
       "\n",
       "         Trip Duration  Start Station Id  \\\n",
       "5864559            741            7204.0   \n",
       "5864601           1071            7109.0   \n",
       "5864725           1261            7199.0   \n",
       "5866563            840            7069.0   \n",
       "5866564            960            7069.0   \n",
       "...                ...               ...   \n",
       "7708265           1498            7462.0   \n",
       "7746397            559            7228.0   \n",
       "7954448           1895            7076.0   \n",
       "7967157           1833            7451.0   \n",
       "8636540           1152            7398.0   \n",
       "\n",
       "                                 Start Station Name  End Station Id  \\\n",
       "5864559                    College St / Crawford St             NaN   \n",
       "5864601             Seaton St / Dundas St E - SMART             NaN   \n",
       "5864725                     College St / Markham St             NaN   \n",
       "5866563                    Queen St W / Spadina Ave             NaN   \n",
       "5866564                    Queen St W / Spadina Ave             NaN   \n",
       "...                                             ...             ...   \n",
       "7708265                    Richmond St E / Yonge St             NaN   \n",
       "7746397               Queen St W / Roncesvalles Ave             NaN   \n",
       "7954448                     York St / Queens Quay W             NaN   \n",
       "7967157  Western Battery Rd / Pirandello St - SMART             NaN   \n",
       "8636540                        York St / Harbour St             NaN   \n",
       "\n",
       "        End Station Name      User Type  \n",
       "5864559              NaN  Annual Member  \n",
       "5864601              NaN  Annual Member  \n",
       "5864725              NaN  Annual Member  \n",
       "5866563              NaN  Annual Member  \n",
       "5866564              NaN  Annual Member  \n",
       "...                  ...            ...  \n",
       "7708265              NaN  Annual Member  \n",
       "7746397              NaN  Annual Member  \n",
       "7954448              NaN  Casual Member  \n",
       "7967157              NaN  Annual Member  \n",
       "8636540              NaN  Annual Member  \n",
       "\n",
       "[396 rows x 9 columns]"
      ]
     },
     "execution_count": 127,
     "metadata": {},
     "output_type": "execute_result"
    }
   ],
   "source": [
    "# Examine the rows with missing station Id and station name\n",
    "ridership_est_2020[\n",
    "    (ridership_est_2020['End Station Name'].isnull()==True) | \n",
    "    (ridership_est_2020['End Station Id'].isnull()==True)]"
   ]
  },
  {
   "cell_type": "code",
   "execution_count": 128,
   "metadata": {
    "ExecuteTime": {
     "end_time": "2022-12-01T09:02:54.739660Z",
     "start_time": "2022-12-01T09:02:54.725786Z"
    }
   },
   "outputs": [
    {
     "name": "stdout",
     "output_type": "stream",
     "text": [
      "Percent of information loss for drop missing values: 0.014215074799651804\n"
     ]
    }
   ],
   "source": [
    "print(\"Percent of information loss for drop missing values: {}\".format(396 /len(ridership_est_2020) * 100))"
   ]
  },
  {
   "cell_type": "markdown",
   "metadata": {},
   "source": [
    "It's clear that these rows with neither End Station Id or End Station Name should be dropped, and they only cause around 0.014% of information loss."
   ]
  },
  {
   "cell_type": "code",
   "execution_count": 129,
   "metadata": {
    "ExecuteTime": {
     "end_time": "2022-12-01T09:02:55.758862Z",
     "start_time": "2022-12-01T09:02:54.741658Z"
    }
   },
   "outputs": [],
   "source": [
    "ridership_2020_clean = ridership_est_2020.dropna()"
   ]
  },
  {
   "cell_type": "code",
   "execution_count": 130,
   "metadata": {
    "ExecuteTime": {
     "end_time": "2022-12-01T09:02:56.699251Z",
     "start_time": "2022-12-01T09:02:55.761378Z"
    }
   },
   "outputs": [
    {
     "name": "stdout",
     "output_type": "stream",
     "text": [
      "<class 'pandas.core.frame.DataFrame'>\n",
      "Int64Index: 2785379 entries, 5854841 to 8766148\n",
      "Data columns (total 9 columns):\n",
      " #   Column              Non-Null Count    Dtype                     \n",
      "---  ------              --------------    -----                     \n",
      " 0   Trip Id             2785379 non-null  int64                     \n",
      " 1   Start Time          2785379 non-null  datetime64[ns, US/Eastern]\n",
      " 2   End Time            2785379 non-null  datetime64[ns, US/Eastern]\n",
      " 3   Trip Duration       2785379 non-null  int64                     \n",
      " 4   Start Station Id    2785379 non-null  float64                   \n",
      " 5   Start Station Name  2785379 non-null  object                    \n",
      " 6   End Station Id      2785379 non-null  float64                   \n",
      " 7   End Station Name    2785379 non-null  object                    \n",
      " 8   User Type           2785379 non-null  object                    \n",
      "dtypes: datetime64[ns, US/Eastern](2), float64(2), int64(2), object(3)\n",
      "memory usage: 212.5+ MB\n"
     ]
    }
   ],
   "source": [
    "ridership_2020_clean.info(show_counts=True)"
   ]
  },
  {
   "cell_type": "markdown",
   "metadata": {},
   "source": [
    "#### **2021 Data**"
   ]
  },
  {
   "cell_type": "code",
   "execution_count": 131,
   "metadata": {
    "ExecuteTime": {
     "end_time": "2022-12-01T09:04:11.924510Z",
     "start_time": "2022-12-01T09:02:56.701536Z"
    }
   },
   "outputs": [],
   "source": [
    "ridership_est_2021 = time_convert(ridership_2021)"
   ]
  },
  {
   "cell_type": "code",
   "execution_count": 132,
   "metadata": {
    "ExecuteTime": {
     "end_time": "2022-12-01T09:04:12.569057Z",
     "start_time": "2022-12-01T09:04:11.926414Z"
    }
   },
   "outputs": [
    {
     "name": "stdout",
     "output_type": "stream",
     "text": [
      "Percent of outliers removed: 3.845202845617368%\n"
     ]
    }
   ],
   "source": [
    "ridership_est_2021 = remove_outliers(ridership_est_2021)"
   ]
  },
  {
   "cell_type": "code",
   "execution_count": 133,
   "metadata": {
    "ExecuteTime": {
     "end_time": "2022-12-01T09:04:13.686128Z",
     "start_time": "2022-12-01T09:04:12.571566Z"
    }
   },
   "outputs": [
    {
     "data": {
      "text/plain": [
       "Trip Id                  0\n",
       "Start Time               0\n",
       "End Time                 0\n",
       "Trip Duration            0\n",
       "Start Station Id         0\n",
       "Start Station Name    3596\n",
       "End Station Id          47\n",
       "End Station Name      3886\n",
       "User Type                0\n",
       "dtype: int64"
      ]
     },
     "execution_count": 133,
     "metadata": {},
     "output_type": "execute_result"
    }
   ],
   "source": [
    "ridership_est_2021.isnull().sum()"
   ]
  },
  {
   "cell_type": "code",
   "execution_count": 134,
   "metadata": {
    "ExecuteTime": {
     "end_time": "2022-12-01T09:04:49.600400Z",
     "start_time": "2022-12-01T09:04:13.689138Z"
    },
    "scrolled": true
   },
   "outputs": [],
   "source": [
    "ridership_est_2021 = replace_name(ridership_est_2021)"
   ]
  },
  {
   "cell_type": "code",
   "execution_count": 135,
   "metadata": {
    "ExecuteTime": {
     "end_time": "2022-12-01T09:04:50.305808Z",
     "start_time": "2022-12-01T09:04:49.602412Z"
    }
   },
   "outputs": [
    {
     "data": {
      "text/html": [
       "<div>\n",
       "<style scoped>\n",
       "    .dataframe tbody tr th:only-of-type {\n",
       "        vertical-align: middle;\n",
       "    }\n",
       "\n",
       "    .dataframe tbody tr th {\n",
       "        vertical-align: top;\n",
       "    }\n",
       "\n",
       "    .dataframe thead th {\n",
       "        text-align: right;\n",
       "    }\n",
       "</style>\n",
       "<table border=\"1\" class=\"dataframe\">\n",
       "  <thead>\n",
       "    <tr style=\"text-align: right;\">\n",
       "      <th></th>\n",
       "      <th>Trip Id</th>\n",
       "      <th>Start Time</th>\n",
       "      <th>End Time</th>\n",
       "      <th>Trip Duration</th>\n",
       "      <th>Start Station Id</th>\n",
       "      <th>Start Station Name</th>\n",
       "      <th>End Station Id</th>\n",
       "      <th>End Station Name</th>\n",
       "      <th>User Type</th>\n",
       "    </tr>\n",
       "  </thead>\n",
       "  <tbody>\n",
       "    <tr>\n",
       "      <th>8766149</th>\n",
       "      <td>10644218</td>\n",
       "      <td>2021-01-01 00:04:00-05:00</td>\n",
       "      <td>2021-01-01 00:26:00-05:00</td>\n",
       "      <td>1315</td>\n",
       "      <td>7021.0</td>\n",
       "      <td>Bay St / Albert St</td>\n",
       "      <td>7164.0</td>\n",
       "      <td>Gould St / Yonge St (Ryerson University)</td>\n",
       "      <td>Annual Member</td>\n",
       "    </tr>\n",
       "    <tr>\n",
       "      <th>8766150</th>\n",
       "      <td>10644220</td>\n",
       "      <td>2021-01-01 00:07:00-05:00</td>\n",
       "      <td>2021-01-01 00:13:00-05:00</td>\n",
       "      <td>396</td>\n",
       "      <td>7534.0</td>\n",
       "      <td>Walnut Ave / Queen St W</td>\n",
       "      <td>7524.0</td>\n",
       "      <td>Lisgar Park</td>\n",
       "      <td>Casual Member</td>\n",
       "    </tr>\n",
       "    <tr>\n",
       "      <th>8766151</th>\n",
       "      <td>10644221</td>\n",
       "      <td>2021-01-01 00:10:00-05:00</td>\n",
       "      <td>2021-01-01 00:11:00-05:00</td>\n",
       "      <td>86</td>\n",
       "      <td>7162.0</td>\n",
       "      <td>Hayter St / Laplante Ave</td>\n",
       "      <td>7006.0</td>\n",
       "      <td>Bay St / College St (East Side)</td>\n",
       "      <td>Annual Member</td>\n",
       "    </tr>\n",
       "    <tr>\n",
       "      <th>8766152</th>\n",
       "      <td>10644222</td>\n",
       "      <td>2021-01-01 00:10:00-05:00</td>\n",
       "      <td>2021-01-01 00:22:00-05:00</td>\n",
       "      <td>741</td>\n",
       "      <td>7003.0</td>\n",
       "      <td>Madison Ave / Bloor St W</td>\n",
       "      <td>7272.0</td>\n",
       "      <td>Yonge St / Dundonald St - SMART</td>\n",
       "      <td>Casual Member</td>\n",
       "    </tr>\n",
       "    <tr>\n",
       "      <th>8766153</th>\n",
       "      <td>10644223</td>\n",
       "      <td>2021-01-01 00:11:00-05:00</td>\n",
       "      <td>2021-01-01 00:45:00-05:00</td>\n",
       "      <td>2073</td>\n",
       "      <td>7562.0</td>\n",
       "      <td>Priscilla  Ave / Dundas St W - SMART</td>\n",
       "      <td>7562.0</td>\n",
       "      <td>Priscilla  Ave / Dundas St W - SMART</td>\n",
       "      <td>Casual Member</td>\n",
       "    </tr>\n",
       "    <tr>\n",
       "      <th>...</th>\n",
       "      <td>...</td>\n",
       "      <td>...</td>\n",
       "      <td>...</td>\n",
       "      <td>...</td>\n",
       "      <td>...</td>\n",
       "      <td>...</td>\n",
       "      <td>...</td>\n",
       "      <td>...</td>\n",
       "      <td>...</td>\n",
       "    </tr>\n",
       "    <tr>\n",
       "      <th>12341326</th>\n",
       "      <td>13916477</td>\n",
       "      <td>2021-09-30 23:59:00-04:00</td>\n",
       "      <td>2021-01-10 00:08:00-05:00</td>\n",
       "      <td>553</td>\n",
       "      <td>7274.0</td>\n",
       "      <td>Queen's Park Cres E / Grosvenor St - SMART</td>\n",
       "      <td>7382.0</td>\n",
       "      <td>Simcoe St / Adelaide St W</td>\n",
       "      <td>Annual Member</td>\n",
       "    </tr>\n",
       "    <tr>\n",
       "      <th>12341327</th>\n",
       "      <td>13916478</td>\n",
       "      <td>2021-09-30 23:59:00-04:00</td>\n",
       "      <td>2021-01-10 00:11:00-05:00</td>\n",
       "      <td>707</td>\n",
       "      <td>7204.0</td>\n",
       "      <td>College St / Crawford St</td>\n",
       "      <td>7020.0</td>\n",
       "      <td>Phoebe St / Spadina Ave</td>\n",
       "      <td>Annual Member</td>\n",
       "    </tr>\n",
       "    <tr>\n",
       "      <th>12341328</th>\n",
       "      <td>13916479</td>\n",
       "      <td>2021-09-30 23:59:00-04:00</td>\n",
       "      <td>2021-01-10 00:22:00-05:00</td>\n",
       "      <td>1347</td>\n",
       "      <td>7372.0</td>\n",
       "      <td>King St W / Portland St</td>\n",
       "      <td>7273.0</td>\n",
       "      <td>Bay St / Charles St - SMART</td>\n",
       "      <td>Casual Member</td>\n",
       "    </tr>\n",
       "    <tr>\n",
       "      <th>12341329</th>\n",
       "      <td>13916480</td>\n",
       "      <td>2021-09-30 23:59:00-04:00</td>\n",
       "      <td>2021-01-10 00:14:00-05:00</td>\n",
       "      <td>899</td>\n",
       "      <td>7002.0</td>\n",
       "      <td>St. George St / Bloor St W</td>\n",
       "      <td>7463.0</td>\n",
       "      <td>Adelaide St W / Brant St</td>\n",
       "      <td>Annual Member</td>\n",
       "    </tr>\n",
       "    <tr>\n",
       "      <th>12341330</th>\n",
       "      <td>13916481</td>\n",
       "      <td>2021-09-30 23:59:00-04:00</td>\n",
       "      <td>2021-01-10 00:03:00-05:00</td>\n",
       "      <td>203</td>\n",
       "      <td>7026.0</td>\n",
       "      <td>Bay St / St. Joseph St</td>\n",
       "      <td>7044.0</td>\n",
       "      <td>Church St / Alexander St</td>\n",
       "      <td>Annual Member</td>\n",
       "    </tr>\n",
       "  </tbody>\n",
       "</table>\n",
       "<p>3437709 rows × 9 columns</p>\n",
       "</div>"
      ],
      "text/plain": [
       "           Trip Id                Start Time                  End Time  \\\n",
       "8766149   10644218 2021-01-01 00:04:00-05:00 2021-01-01 00:26:00-05:00   \n",
       "8766150   10644220 2021-01-01 00:07:00-05:00 2021-01-01 00:13:00-05:00   \n",
       "8766151   10644221 2021-01-01 00:10:00-05:00 2021-01-01 00:11:00-05:00   \n",
       "8766152   10644222 2021-01-01 00:10:00-05:00 2021-01-01 00:22:00-05:00   \n",
       "8766153   10644223 2021-01-01 00:11:00-05:00 2021-01-01 00:45:00-05:00   \n",
       "...            ...                       ...                       ...   \n",
       "12341326  13916477 2021-09-30 23:59:00-04:00 2021-01-10 00:08:00-05:00   \n",
       "12341327  13916478 2021-09-30 23:59:00-04:00 2021-01-10 00:11:00-05:00   \n",
       "12341328  13916479 2021-09-30 23:59:00-04:00 2021-01-10 00:22:00-05:00   \n",
       "12341329  13916480 2021-09-30 23:59:00-04:00 2021-01-10 00:14:00-05:00   \n",
       "12341330  13916481 2021-09-30 23:59:00-04:00 2021-01-10 00:03:00-05:00   \n",
       "\n",
       "          Trip Duration  Start Station Id  \\\n",
       "8766149            1315            7021.0   \n",
       "8766150             396            7534.0   \n",
       "8766151              86            7162.0   \n",
       "8766152             741            7003.0   \n",
       "8766153            2073            7562.0   \n",
       "...                 ...               ...   \n",
       "12341326            553            7274.0   \n",
       "12341327            707            7204.0   \n",
       "12341328           1347            7372.0   \n",
       "12341329            899            7002.0   \n",
       "12341330            203            7026.0   \n",
       "\n",
       "                                  Start Station Name  End Station Id  \\\n",
       "8766149                           Bay St / Albert St          7164.0   \n",
       "8766150                      Walnut Ave / Queen St W          7524.0   \n",
       "8766151                     Hayter St / Laplante Ave          7006.0   \n",
       "8766152                     Madison Ave / Bloor St W          7272.0   \n",
       "8766153         Priscilla  Ave / Dundas St W - SMART          7562.0   \n",
       "...                                              ...             ...   \n",
       "12341326  Queen's Park Cres E / Grosvenor St - SMART          7382.0   \n",
       "12341327                    College St / Crawford St          7020.0   \n",
       "12341328                     King St W / Portland St          7273.0   \n",
       "12341329                  St. George St / Bloor St W          7463.0   \n",
       "12341330                      Bay St / St. Joseph St          7044.0   \n",
       "\n",
       "                                  End Station Name      User Type  \n",
       "8766149   Gould St / Yonge St (Ryerson University)  Annual Member  \n",
       "8766150                                Lisgar Park  Casual Member  \n",
       "8766151            Bay St / College St (East Side)  Annual Member  \n",
       "8766152            Yonge St / Dundonald St - SMART  Casual Member  \n",
       "8766153       Priscilla  Ave / Dundas St W - SMART  Casual Member  \n",
       "...                                            ...            ...  \n",
       "12341326                 Simcoe St / Adelaide St W  Annual Member  \n",
       "12341327                   Phoebe St / Spadina Ave  Annual Member  \n",
       "12341328               Bay St / Charles St - SMART  Casual Member  \n",
       "12341329                  Adelaide St W / Brant St  Annual Member  \n",
       "12341330                  Church St / Alexander St  Annual Member  \n",
       "\n",
       "[3437709 rows x 9 columns]"
      ]
     },
     "execution_count": 135,
     "metadata": {},
     "output_type": "execute_result"
    }
   ],
   "source": [
    "fill_ID_merge(ridership_est_2021)\n",
    "fill_name(ridership_est_2021)"
   ]
  },
  {
   "cell_type": "code",
   "execution_count": 136,
   "metadata": {
    "ExecuteTime": {
     "end_time": "2022-12-01T09:04:51.411509Z",
     "start_time": "2022-12-01T09:04:50.306806Z"
    }
   },
   "outputs": [
    {
     "data": {
      "text/plain": [
       "Trip Id                0\n",
       "Start Time             0\n",
       "End Time               0\n",
       "Trip Duration          0\n",
       "Start Station Id       0\n",
       "Start Station Name     0\n",
       "End Station Id        47\n",
       "End Station Name      47\n",
       "User Type              0\n",
       "dtype: int64"
      ]
     },
     "execution_count": 136,
     "metadata": {},
     "output_type": "execute_result"
    }
   ],
   "source": [
    "ridership_est_2021.isnull().sum()"
   ]
  },
  {
   "cell_type": "code",
   "execution_count": 137,
   "metadata": {
    "ExecuteTime": {
     "end_time": "2022-12-01T09:04:51.427129Z",
     "start_time": "2022-12-01T09:04:51.414045Z"
    }
   },
   "outputs": [],
   "source": [
    "ridership_2021_clean = ridership_est_2021"
   ]
  },
  {
   "cell_type": "code",
   "execution_count": 138,
   "metadata": {
    "ExecuteTime": {
     "end_time": "2022-12-01T09:04:52.618528Z",
     "start_time": "2022-12-01T09:04:51.429123Z"
    }
   },
   "outputs": [
    {
     "name": "stdout",
     "output_type": "stream",
     "text": [
      "<class 'pandas.core.frame.DataFrame'>\n",
      "Int64Index: 3437709 entries, 8766149 to 12341330\n",
      "Data columns (total 9 columns):\n",
      " #   Column              Non-Null Count    Dtype                     \n",
      "---  ------              --------------    -----                     \n",
      " 0   Trip Id             3437709 non-null  int64                     \n",
      " 1   Start Time          3437709 non-null  datetime64[ns, US/Eastern]\n",
      " 2   End Time            3437709 non-null  datetime64[ns, US/Eastern]\n",
      " 3   Trip Duration       3437709 non-null  int64                     \n",
      " 4   Start Station Id    3437709 non-null  float64                   \n",
      " 5   Start Station Name  3437709 non-null  object                    \n",
      " 6   End Station Id      3437662 non-null  float64                   \n",
      " 7   End Station Name    3437662 non-null  object                    \n",
      " 8   User Type           3437709 non-null  object                    \n",
      "dtypes: datetime64[ns, US/Eastern](2), float64(2), int64(2), object(3)\n",
      "memory usage: 262.3+ MB\n"
     ]
    }
   ],
   "source": [
    "ridership_2021_clean.info(show_counts=True)"
   ]
  },
  {
   "cell_type": "markdown",
   "metadata": {},
   "source": [
    "#### **2022 Data**"
   ]
  },
  {
   "cell_type": "code",
   "execution_count": 139,
   "metadata": {
    "ExecuteTime": {
     "end_time": "2022-12-01T09:05:43.880189Z",
     "start_time": "2022-12-01T09:04:52.620477Z"
    }
   },
   "outputs": [],
   "source": [
    "ridership_est_2022 = time_convert(ridership_2022)"
   ]
  },
  {
   "cell_type": "code",
   "execution_count": 140,
   "metadata": {
    "ExecuteTime": {
     "end_time": "2022-12-01T09:05:44.384830Z",
     "start_time": "2022-12-01T09:05:43.891877Z"
    }
   },
   "outputs": [
    {
     "name": "stdout",
     "output_type": "stream",
     "text": [
      "Percent of outliers removed: 3.619192606726662%\n"
     ]
    }
   ],
   "source": [
    "ridership_est_2022 = remove_outliers(ridership_est_2022)"
   ]
  },
  {
   "cell_type": "code",
   "execution_count": 141,
   "metadata": {
    "ExecuteTime": {
     "end_time": "2022-12-01T09:05:45.321427Z",
     "start_time": "2022-12-01T09:05:44.387354Z"
    },
    "scrolled": false
   },
   "outputs": [
    {
     "data": {
      "text/plain": [
       "Trip Id                   0\n",
       "Start Time                0\n",
       "End Time                  0\n",
       "Trip Duration             0\n",
       "Start Station Id          0\n",
       "Start Station Name    88783\n",
       "End Station Id           14\n",
       "End Station Name      89757\n",
       "User Type                 0\n",
       "dtype: int64"
      ]
     },
     "execution_count": 141,
     "metadata": {},
     "output_type": "execute_result"
    }
   ],
   "source": [
    "ridership_est_2022.isnull().sum()"
   ]
  },
  {
   "cell_type": "code",
   "execution_count": 142,
   "metadata": {
    "ExecuteTime": {
     "end_time": "2022-12-01T09:06:16.408752Z",
     "start_time": "2022-12-01T09:05:45.324403Z"
    },
    "scrolled": true
   },
   "outputs": [],
   "source": [
    "ridership_est_2022 = replace_name(ridership_est_2022)"
   ]
  },
  {
   "cell_type": "code",
   "execution_count": 143,
   "metadata": {
    "ExecuteTime": {
     "end_time": "2022-12-01T09:06:16.722082Z",
     "start_time": "2022-12-01T09:06:16.410773Z"
    },
    "scrolled": true
   },
   "outputs": [
    {
     "data": {
      "text/html": [
       "<div>\n",
       "<style scoped>\n",
       "    .dataframe tbody tr th:only-of-type {\n",
       "        vertical-align: middle;\n",
       "    }\n",
       "\n",
       "    .dataframe tbody tr th {\n",
       "        vertical-align: top;\n",
       "    }\n",
       "\n",
       "    .dataframe thead th {\n",
       "        text-align: right;\n",
       "    }\n",
       "</style>\n",
       "<table border=\"1\" class=\"dataframe\">\n",
       "  <thead>\n",
       "    <tr style=\"text-align: right;\">\n",
       "      <th></th>\n",
       "      <th>Trip Id</th>\n",
       "      <th>Start Time</th>\n",
       "      <th>End Time</th>\n",
       "      <th>Trip Duration</th>\n",
       "      <th>Start Station Id</th>\n",
       "      <th>Start Station Name</th>\n",
       "      <th>End Station Id</th>\n",
       "      <th>End Station Name</th>\n",
       "      <th>User Type</th>\n",
       "    </tr>\n",
       "  </thead>\n",
       "  <tbody>\n",
       "    <tr>\n",
       "      <th>12341332</th>\n",
       "      <td>14805110</td>\n",
       "      <td>2022-01-01 00:02:00-05:00</td>\n",
       "      <td>2022-01-01 00:05:00-05:00</td>\n",
       "      <td>126</td>\n",
       "      <td>7443.0</td>\n",
       "      <td>Dundas St E / George St</td>\n",
       "      <td>7270.0</td>\n",
       "      <td>Church St / Dundas St E - SMART</td>\n",
       "      <td>Annual Member</td>\n",
       "    </tr>\n",
       "    <tr>\n",
       "      <th>12341333</th>\n",
       "      <td>14805112</td>\n",
       "      <td>2022-01-01 00:04:00-05:00</td>\n",
       "      <td>2022-01-01 00:19:00-05:00</td>\n",
       "      <td>942</td>\n",
       "      <td>7399.0</td>\n",
       "      <td>Lower Jarvis / Queens Quay E</td>\n",
       "      <td>7686.0</td>\n",
       "      <td>Lower Jarvis / The Esplanade</td>\n",
       "      <td>Annual Member</td>\n",
       "    </tr>\n",
       "    <tr>\n",
       "      <th>12341336</th>\n",
       "      <td>14805115</td>\n",
       "      <td>2022-01-01 00:05:00-05:00</td>\n",
       "      <td>2022-01-01 00:11:00-05:00</td>\n",
       "      <td>328</td>\n",
       "      <td>7524.0</td>\n",
       "      <td>Lisgar Park</td>\n",
       "      <td>7136.0</td>\n",
       "      <td>Queen St W / Close Ave</td>\n",
       "      <td>Casual Member</td>\n",
       "    </tr>\n",
       "    <tr>\n",
       "      <th>12341337</th>\n",
       "      <td>14805116</td>\n",
       "      <td>2022-01-01 00:06:00-05:00</td>\n",
       "      <td>2022-01-01 00:18:00-05:00</td>\n",
       "      <td>753</td>\n",
       "      <td>7365.0</td>\n",
       "      <td>Kew Beach Ave / Kenilworth Ave</td>\n",
       "      <td>7287.0</td>\n",
       "      <td>Queen St E / Pape Ave - SMART</td>\n",
       "      <td>Casual Member</td>\n",
       "    </tr>\n",
       "    <tr>\n",
       "      <th>12341338</th>\n",
       "      <td>14805117</td>\n",
       "      <td>2022-01-01 00:07:00-05:00</td>\n",
       "      <td>2022-01-01 00:08:00-05:00</td>\n",
       "      <td>74</td>\n",
       "      <td>7569.0</td>\n",
       "      <td>Toronto Inukshuk Park</td>\n",
       "      <td>7569.0</td>\n",
       "      <td>Toronto Inukshuk Park</td>\n",
       "      <td>Annual Member</td>\n",
       "    </tr>\n",
       "    <tr>\n",
       "      <th>...</th>\n",
       "      <td>...</td>\n",
       "      <td>...</td>\n",
       "      <td>...</td>\n",
       "      <td>...</td>\n",
       "      <td>...</td>\n",
       "      <td>...</td>\n",
       "      <td>...</td>\n",
       "      <td>...</td>\n",
       "      <td>...</td>\n",
       "    </tr>\n",
       "    <tr>\n",
       "      <th>15358988</th>\n",
       "      <td>18317445</td>\n",
       "      <td>2022-08-31 23:58:00-04:00</td>\n",
       "      <td>2022-01-09 00:26:00-05:00</td>\n",
       "      <td>1670</td>\n",
       "      <td>7100.0</td>\n",
       "      <td>Dundas St E / Regent Park Blvd</td>\n",
       "      <td>7322.0</td>\n",
       "      <td>King St W / Brant St</td>\n",
       "      <td>Casual Member</td>\n",
       "    </tr>\n",
       "    <tr>\n",
       "      <th>15358989</th>\n",
       "      <td>18317447</td>\n",
       "      <td>2022-08-31 23:58:00-04:00</td>\n",
       "      <td>2022-01-09 00:08:00-05:00</td>\n",
       "      <td>574</td>\n",
       "      <td>7245.0</td>\n",
       "      <td>Tecumseth St / Queen St W - SMART</td>\n",
       "      <td>7069.0</td>\n",
       "      <td>Queen St W / Spadina Ave</td>\n",
       "      <td>Annual Member</td>\n",
       "    </tr>\n",
       "    <tr>\n",
       "      <th>15358990</th>\n",
       "      <td>18317448</td>\n",
       "      <td>2022-08-31 23:59:00-04:00</td>\n",
       "      <td>2022-01-09 00:08:00-05:00</td>\n",
       "      <td>533</td>\n",
       "      <td>7257.0</td>\n",
       "      <td>Dundas St W / St. Patrick St</td>\n",
       "      <td>7037.0</td>\n",
       "      <td>Bathurst St / Dundas St W</td>\n",
       "      <td>Casual Member</td>\n",
       "    </tr>\n",
       "    <tr>\n",
       "      <th>15358991</th>\n",
       "      <td>18317449</td>\n",
       "      <td>2022-08-31 23:59:00-04:00</td>\n",
       "      <td>2022-01-09 00:09:00-05:00</td>\n",
       "      <td>615</td>\n",
       "      <td>7368.0</td>\n",
       "      <td>Lisgar St / Dundas St SMART</td>\n",
       "      <td>7521.0</td>\n",
       "      <td>Emerson Ave / Bloor St W</td>\n",
       "      <td>Casual Member</td>\n",
       "    </tr>\n",
       "    <tr>\n",
       "      <th>15358992</th>\n",
       "      <td>18317450</td>\n",
       "      <td>2022-08-31 23:59:00-04:00</td>\n",
       "      <td>2022-01-09 00:29:00-05:00</td>\n",
       "      <td>1820</td>\n",
       "      <td>7536.0</td>\n",
       "      <td>Palmerston Ave / Dundas St W</td>\n",
       "      <td>7216.0</td>\n",
       "      <td>Wellington St W / Stafford St</td>\n",
       "      <td>Casual Member</td>\n",
       "    </tr>\n",
       "  </tbody>\n",
       "</table>\n",
       "<p>2908447 rows × 9 columns</p>\n",
       "</div>"
      ],
      "text/plain": [
       "           Trip Id                Start Time                  End Time  \\\n",
       "12341332  14805110 2022-01-01 00:02:00-05:00 2022-01-01 00:05:00-05:00   \n",
       "12341333  14805112 2022-01-01 00:04:00-05:00 2022-01-01 00:19:00-05:00   \n",
       "12341336  14805115 2022-01-01 00:05:00-05:00 2022-01-01 00:11:00-05:00   \n",
       "12341337  14805116 2022-01-01 00:06:00-05:00 2022-01-01 00:18:00-05:00   \n",
       "12341338  14805117 2022-01-01 00:07:00-05:00 2022-01-01 00:08:00-05:00   \n",
       "...            ...                       ...                       ...   \n",
       "15358988  18317445 2022-08-31 23:58:00-04:00 2022-01-09 00:26:00-05:00   \n",
       "15358989  18317447 2022-08-31 23:58:00-04:00 2022-01-09 00:08:00-05:00   \n",
       "15358990  18317448 2022-08-31 23:59:00-04:00 2022-01-09 00:08:00-05:00   \n",
       "15358991  18317449 2022-08-31 23:59:00-04:00 2022-01-09 00:09:00-05:00   \n",
       "15358992  18317450 2022-08-31 23:59:00-04:00 2022-01-09 00:29:00-05:00   \n",
       "\n",
       "          Trip Duration  Start Station Id                 Start Station Name  \\\n",
       "12341332            126            7443.0            Dundas St E / George St   \n",
       "12341333            942            7399.0       Lower Jarvis / Queens Quay E   \n",
       "12341336            328            7524.0                        Lisgar Park   \n",
       "12341337            753            7365.0     Kew Beach Ave / Kenilworth Ave   \n",
       "12341338             74            7569.0              Toronto Inukshuk Park   \n",
       "...                 ...               ...                                ...   \n",
       "15358988           1670            7100.0     Dundas St E / Regent Park Blvd   \n",
       "15358989            574            7245.0  Tecumseth St / Queen St W - SMART   \n",
       "15358990            533            7257.0       Dundas St W / St. Patrick St   \n",
       "15358991            615            7368.0        Lisgar St / Dundas St SMART   \n",
       "15358992           1820            7536.0       Palmerston Ave / Dundas St W   \n",
       "\n",
       "          End Station Id                 End Station Name      User Type  \n",
       "12341332          7270.0  Church St / Dundas St E - SMART  Annual Member  \n",
       "12341333          7686.0     Lower Jarvis / The Esplanade  Annual Member  \n",
       "12341336          7136.0           Queen St W / Close Ave  Casual Member  \n",
       "12341337          7287.0    Queen St E / Pape Ave - SMART  Casual Member  \n",
       "12341338          7569.0            Toronto Inukshuk Park  Annual Member  \n",
       "...                  ...                              ...            ...  \n",
       "15358988          7322.0             King St W / Brant St  Casual Member  \n",
       "15358989          7069.0         Queen St W / Spadina Ave  Annual Member  \n",
       "15358990          7037.0        Bathurst St / Dundas St W  Casual Member  \n",
       "15358991          7521.0         Emerson Ave / Bloor St W  Casual Member  \n",
       "15358992          7216.0    Wellington St W / Stafford St  Casual Member  \n",
       "\n",
       "[2908447 rows x 9 columns]"
      ]
     },
     "execution_count": 143,
     "metadata": {},
     "output_type": "execute_result"
    }
   ],
   "source": [
    "fill_name(ridership_est_2022)"
   ]
  },
  {
   "cell_type": "code",
   "execution_count": 144,
   "metadata": {
    "ExecuteTime": {
     "end_time": "2022-12-01T09:06:17.655836Z",
     "start_time": "2022-12-01T09:06:16.724060Z"
    },
    "scrolled": false
   },
   "outputs": [
    {
     "data": {
      "text/plain": [
       "Trip Id                 0\n",
       "Start Time              0\n",
       "End Time                0\n",
       "Trip Duration           0\n",
       "Start Station Id        0\n",
       "Start Station Name    581\n",
       "End Station Id         14\n",
       "End Station Name      621\n",
       "User Type               0\n",
       "dtype: int64"
      ]
     },
     "execution_count": 144,
     "metadata": {},
     "output_type": "execute_result"
    }
   ],
   "source": [
    "ridership_est_2022.isnull().sum()"
   ]
  },
  {
   "cell_type": "markdown",
   "metadata": {},
   "source": [
    "Drop the rows with NA data. They only cause insignificant loss of information."
   ]
  },
  {
   "cell_type": "code",
   "execution_count": 145,
   "metadata": {
    "ExecuteTime": {
     "end_time": "2022-12-01T09:06:18.699615Z",
     "start_time": "2022-12-01T09:06:17.658261Z"
    }
   },
   "outputs": [],
   "source": [
    "ridership_2022_clean = ridership_est_2022.dropna()"
   ]
  },
  {
   "cell_type": "code",
   "execution_count": 146,
   "metadata": {
    "ExecuteTime": {
     "end_time": "2022-12-01T09:06:19.649684Z",
     "start_time": "2022-12-01T09:06:18.702867Z"
    }
   },
   "outputs": [
    {
     "name": "stdout",
     "output_type": "stream",
     "text": [
      "<class 'pandas.core.frame.DataFrame'>\n",
      "Int64Index: 2907271 entries, 12341332 to 15358992\n",
      "Data columns (total 9 columns):\n",
      " #   Column              Non-Null Count    Dtype                     \n",
      "---  ------              --------------    -----                     \n",
      " 0   Trip Id             2907271 non-null  int64                     \n",
      " 1   Start Time          2907271 non-null  datetime64[ns, US/Eastern]\n",
      " 2   End Time            2907271 non-null  datetime64[ns, US/Eastern]\n",
      " 3   Trip Duration       2907271 non-null  int64                     \n",
      " 4   Start Station Id    2907271 non-null  float64                   \n",
      " 5   Start Station Name  2907271 non-null  object                    \n",
      " 6   End Station Id      2907271 non-null  float64                   \n",
      " 7   End Station Name    2907271 non-null  object                    \n",
      " 8   User Type           2907271 non-null  object                    \n",
      "dtypes: datetime64[ns, US/Eastern](2), float64(2), int64(2), object(3)\n",
      "memory usage: 221.8+ MB\n"
     ]
    }
   ],
   "source": [
    "ridership_2022_clean.info(show_counts=True)"
   ]
  },
  {
   "cell_type": "markdown",
   "metadata": {},
   "source": [
    "### Concat the ridership data"
   ]
  },
  {
   "cell_type": "code",
   "execution_count": 147,
   "metadata": {
    "ExecuteTime": {
     "end_time": "2022-12-01T09:11:27.030006Z",
     "start_time": "2022-12-01T09:11:26.281963Z"
    }
   },
   "outputs": [],
   "source": [
    "ridership_clean = pd.concat([\n",
    "    ridership_2017_clean,\n",
    "    ridership_2018_clean,\n",
    "    ridership_2019_clean,\n",
    "    ridership_2020_clean,\n",
    "    ridership_2021_clean,\n",
    "    ridership_2022_clean\n",
    "])"
   ]
  },
  {
   "cell_type": "markdown",
   "metadata": {},
   "source": [
    "## Merge the weather data with bike share trip data"
   ]
  },
  {
   "cell_type": "code",
   "execution_count": 148,
   "metadata": {
    "ExecuteTime": {
     "end_time": "2022-12-01T09:11:27.061354Z",
     "start_time": "2022-12-01T09:11:27.033535Z"
    }
   },
   "outputs": [
    {
     "data": {
      "text/html": [
       "<div>\n",
       "<style scoped>\n",
       "    .dataframe tbody tr th:only-of-type {\n",
       "        vertical-align: middle;\n",
       "    }\n",
       "\n",
       "    .dataframe tbody tr th {\n",
       "        vertical-align: top;\n",
       "    }\n",
       "\n",
       "    .dataframe thead th {\n",
       "        text-align: right;\n",
       "    }\n",
       "</style>\n",
       "<table border=\"1\" class=\"dataframe\">\n",
       "  <thead>\n",
       "    <tr style=\"text-align: right;\">\n",
       "      <th></th>\n",
       "      <th>Temp (°C)</th>\n",
       "      <th>Dew Point Temp (°C)</th>\n",
       "      <th>Rel Hum (%)</th>\n",
       "      <th>Wind Dir (10s deg)</th>\n",
       "      <th>Wind Spd (km/h)</th>\n",
       "      <th>Visibility (km)</th>\n",
       "      <th>Hmdx</th>\n",
       "      <th>Wind Chill</th>\n",
       "      <th>Weather</th>\n",
       "      <th>Precip. Amount (mm)</th>\n",
       "    </tr>\n",
       "    <tr>\n",
       "      <th>Date/Time</th>\n",
       "      <th></th>\n",
       "      <th></th>\n",
       "      <th></th>\n",
       "      <th></th>\n",
       "      <th></th>\n",
       "      <th></th>\n",
       "      <th></th>\n",
       "      <th></th>\n",
       "      <th></th>\n",
       "      <th></th>\n",
       "    </tr>\n",
       "  </thead>\n",
       "  <tbody>\n",
       "    <tr>\n",
       "      <th>2017-01-01 00:00:00-05:00</th>\n",
       "      <td>1.5</td>\n",
       "      <td>-3.6</td>\n",
       "      <td>69.0</td>\n",
       "      <td>26.0</td>\n",
       "      <td>39.0</td>\n",
       "      <td>16.1</td>\n",
       "      <td>NaN</td>\n",
       "      <td>NaN</td>\n",
       "      <td>Clear</td>\n",
       "      <td>0.0</td>\n",
       "    </tr>\n",
       "    <tr>\n",
       "      <th>2017-01-01 01:00:00-05:00</th>\n",
       "      <td>1.5</td>\n",
       "      <td>-3.9</td>\n",
       "      <td>67.0</td>\n",
       "      <td>27.0</td>\n",
       "      <td>35.0</td>\n",
       "      <td>16.1</td>\n",
       "      <td>NaN</td>\n",
       "      <td>NaN</td>\n",
       "      <td>Clear</td>\n",
       "      <td>0.0</td>\n",
       "    </tr>\n",
       "    <tr>\n",
       "      <th>2017-01-01 02:00:00-05:00</th>\n",
       "      <td>1.0</td>\n",
       "      <td>-4.3</td>\n",
       "      <td>68.0</td>\n",
       "      <td>26.0</td>\n",
       "      <td>32.0</td>\n",
       "      <td>16.1</td>\n",
       "      <td>NaN</td>\n",
       "      <td>NaN</td>\n",
       "      <td>Clear</td>\n",
       "      <td>0.0</td>\n",
       "    </tr>\n",
       "    <tr>\n",
       "      <th>2017-01-01 03:00:00-05:00</th>\n",
       "      <td>1.2</td>\n",
       "      <td>-4.3</td>\n",
       "      <td>67.0</td>\n",
       "      <td>26.0</td>\n",
       "      <td>37.0</td>\n",
       "      <td>16.1</td>\n",
       "      <td>NaN</td>\n",
       "      <td>NaN</td>\n",
       "      <td>Clear</td>\n",
       "      <td>0.0</td>\n",
       "    </tr>\n",
       "    <tr>\n",
       "      <th>2017-01-01 04:00:00-05:00</th>\n",
       "      <td>1.3</td>\n",
       "      <td>-4.4</td>\n",
       "      <td>66.0</td>\n",
       "      <td>26.0</td>\n",
       "      <td>28.0</td>\n",
       "      <td>16.1</td>\n",
       "      <td>NaN</td>\n",
       "      <td>NaN</td>\n",
       "      <td>Clear</td>\n",
       "      <td>0.0</td>\n",
       "    </tr>\n",
       "  </tbody>\n",
       "</table>\n",
       "</div>"
      ],
      "text/plain": [
       "                           Temp (°C)  Dew Point Temp (°C)  Rel Hum (%)  \\\n",
       "Date/Time                                                                \n",
       "2017-01-01 00:00:00-05:00        1.5                 -3.6         69.0   \n",
       "2017-01-01 01:00:00-05:00        1.5                 -3.9         67.0   \n",
       "2017-01-01 02:00:00-05:00        1.0                 -4.3         68.0   \n",
       "2017-01-01 03:00:00-05:00        1.2                 -4.3         67.0   \n",
       "2017-01-01 04:00:00-05:00        1.3                 -4.4         66.0   \n",
       "\n",
       "                           Wind Dir (10s deg)  Wind Spd (km/h)  \\\n",
       "Date/Time                                                        \n",
       "2017-01-01 00:00:00-05:00                26.0             39.0   \n",
       "2017-01-01 01:00:00-05:00                27.0             35.0   \n",
       "2017-01-01 02:00:00-05:00                26.0             32.0   \n",
       "2017-01-01 03:00:00-05:00                26.0             37.0   \n",
       "2017-01-01 04:00:00-05:00                26.0             28.0   \n",
       "\n",
       "                           Visibility (km)  Hmdx  Wind Chill Weather  \\\n",
       "Date/Time                                                              \n",
       "2017-01-01 00:00:00-05:00             16.1   NaN         NaN   Clear   \n",
       "2017-01-01 01:00:00-05:00             16.1   NaN         NaN   Clear   \n",
       "2017-01-01 02:00:00-05:00             16.1   NaN         NaN   Clear   \n",
       "2017-01-01 03:00:00-05:00             16.1   NaN         NaN   Clear   \n",
       "2017-01-01 04:00:00-05:00             16.1   NaN         NaN   Clear   \n",
       "\n",
       "                           Precip. Amount (mm)  \n",
       "Date/Time                                       \n",
       "2017-01-01 00:00:00-05:00                  0.0  \n",
       "2017-01-01 01:00:00-05:00                  0.0  \n",
       "2017-01-01 02:00:00-05:00                  0.0  \n",
       "2017-01-01 03:00:00-05:00                  0.0  \n",
       "2017-01-01 04:00:00-05:00                  0.0  "
      ]
     },
     "execution_count": 148,
     "metadata": {},
     "output_type": "execute_result"
    }
   ],
   "source": [
    "weather_clean.head()"
   ]
  },
  {
   "cell_type": "code",
   "execution_count": 149,
   "metadata": {
    "ExecuteTime": {
     "end_time": "2022-12-01T09:11:27.092942Z",
     "start_time": "2022-12-01T09:11:27.063931Z"
    },
    "scrolled": false
   },
   "outputs": [
    {
     "data": {
      "text/html": [
       "<div>\n",
       "<style scoped>\n",
       "    .dataframe tbody tr th:only-of-type {\n",
       "        vertical-align: middle;\n",
       "    }\n",
       "\n",
       "    .dataframe tbody tr th {\n",
       "        vertical-align: top;\n",
       "    }\n",
       "\n",
       "    .dataframe thead th {\n",
       "        text-align: right;\n",
       "    }\n",
       "</style>\n",
       "<table border=\"1\" class=\"dataframe\">\n",
       "  <thead>\n",
       "    <tr style=\"text-align: right;\">\n",
       "      <th></th>\n",
       "      <th>Trip Id</th>\n",
       "      <th>Start Time</th>\n",
       "      <th>End Time</th>\n",
       "      <th>Trip Duration</th>\n",
       "      <th>Start Station Id</th>\n",
       "      <th>Start Station Name</th>\n",
       "      <th>End Station Id</th>\n",
       "      <th>End Station Name</th>\n",
       "      <th>User Type</th>\n",
       "    </tr>\n",
       "  </thead>\n",
       "  <tbody>\n",
       "    <tr>\n",
       "      <th>0</th>\n",
       "      <td>712441</td>\n",
       "      <td>2017-01-01 00:03:00-05:00</td>\n",
       "      <td>2017-01-01 00:08:00-05:00</td>\n",
       "      <td>274</td>\n",
       "      <td>7006.0</td>\n",
       "      <td>Bay St / College St (East Side)</td>\n",
       "      <td>7021.0</td>\n",
       "      <td>Bay St / Albert St</td>\n",
       "      <td>Member</td>\n",
       "    </tr>\n",
       "    <tr>\n",
       "      <th>1</th>\n",
       "      <td>712442</td>\n",
       "      <td>2017-01-01 00:03:00-05:00</td>\n",
       "      <td>2017-01-01 00:12:00-05:00</td>\n",
       "      <td>538</td>\n",
       "      <td>7046.0</td>\n",
       "      <td>Niagara St / Richmond St W</td>\n",
       "      <td>7147.0</td>\n",
       "      <td>King St W / Fraser Ave</td>\n",
       "      <td>Member</td>\n",
       "    </tr>\n",
       "    <tr>\n",
       "      <th>2</th>\n",
       "      <td>712443</td>\n",
       "      <td>2017-01-01 00:05:00-05:00</td>\n",
       "      <td>2017-01-01 00:22:00-05:00</td>\n",
       "      <td>992</td>\n",
       "      <td>7048.0</td>\n",
       "      <td>Front St W / Yonge St (Hockey Hall of Fame)</td>\n",
       "      <td>7089.0</td>\n",
       "      <td>Church St  / Wood St</td>\n",
       "      <td>Member</td>\n",
       "    </tr>\n",
       "    <tr>\n",
       "      <th>3</th>\n",
       "      <td>712444</td>\n",
       "      <td>2017-01-01 00:09:00-05:00</td>\n",
       "      <td>2017-01-01 00:26:00-05:00</td>\n",
       "      <td>1005</td>\n",
       "      <td>7177.0</td>\n",
       "      <td>East Liberty St / Pirandello St_canceled</td>\n",
       "      <td>7202.0</td>\n",
       "      <td>Queen St W / Bay St (City Hall)</td>\n",
       "      <td>Member</td>\n",
       "    </tr>\n",
       "    <tr>\n",
       "      <th>4</th>\n",
       "      <td>712445</td>\n",
       "      <td>2017-01-01 00:14:00-05:00</td>\n",
       "      <td>2017-01-01 00:25:00-05:00</td>\n",
       "      <td>645</td>\n",
       "      <td>7203.0</td>\n",
       "      <td>Bathurst St/Queens Quay(Billy Bishop Airport)</td>\n",
       "      <td>7010.0</td>\n",
       "      <td>King St W / Spadina Ave</td>\n",
       "      <td>Member</td>\n",
       "    </tr>\n",
       "  </tbody>\n",
       "</table>\n",
       "</div>"
      ],
      "text/plain": [
       "   Trip Id                Start Time                  End Time  Trip Duration  \\\n",
       "0   712441 2017-01-01 00:03:00-05:00 2017-01-01 00:08:00-05:00            274   \n",
       "1   712442 2017-01-01 00:03:00-05:00 2017-01-01 00:12:00-05:00            538   \n",
       "2   712443 2017-01-01 00:05:00-05:00 2017-01-01 00:22:00-05:00            992   \n",
       "3   712444 2017-01-01 00:09:00-05:00 2017-01-01 00:26:00-05:00           1005   \n",
       "4   712445 2017-01-01 00:14:00-05:00 2017-01-01 00:25:00-05:00            645   \n",
       "\n",
       "   Start Station Id                             Start Station Name  \\\n",
       "0            7006.0                Bay St / College St (East Side)   \n",
       "1            7046.0                     Niagara St / Richmond St W   \n",
       "2            7048.0    Front St W / Yonge St (Hockey Hall of Fame)   \n",
       "3            7177.0       East Liberty St / Pirandello St_canceled   \n",
       "4            7203.0  Bathurst St/Queens Quay(Billy Bishop Airport)   \n",
       "\n",
       "   End Station Id                 End Station Name User Type  \n",
       "0          7021.0               Bay St / Albert St    Member  \n",
       "1          7147.0           King St W / Fraser Ave    Member  \n",
       "2          7089.0             Church St  / Wood St    Member  \n",
       "3          7202.0  Queen St W / Bay St (City Hall)    Member  \n",
       "4          7010.0          King St W / Spadina Ave    Member  "
      ]
     },
     "execution_count": 149,
     "metadata": {},
     "output_type": "execute_result"
    }
   ],
   "source": [
    "ridership_clean.head()"
   ]
  },
  {
   "cell_type": "markdown",
   "metadata": {},
   "source": [
    "Since the weather data is reported every hour, the time of bike share data can be rounded to the nearest hour."
   ]
  },
  {
   "cell_type": "code",
   "execution_count": 150,
   "metadata": {
    "ExecuteTime": {
     "end_time": "2022-12-01T09:11:35.919385Z",
     "start_time": "2022-12-01T09:11:27.096501Z"
    }
   },
   "outputs": [],
   "source": [
    "# Create a 'Start hour' column to round the starting time to the nearest hour\n",
    "ridership_clean_hour = ridership_clean.copy()\n",
    "ridership_clean_hour['Start Hour'] = ridership_clean_hour['Start Time'].apply(lambda row: row.round('60min', ambiguous=True, nonexistent='shift_backward'))"
   ]
  },
  {
   "cell_type": "code",
   "execution_count": 151,
   "metadata": {
    "ExecuteTime": {
     "end_time": "2022-12-01T09:11:42.157466Z",
     "start_time": "2022-12-01T09:11:35.921378Z"
    }
   },
   "outputs": [],
   "source": [
    "# Merging the ridership dataset with weather dataset\n",
    "df_merged = pd.merge(ridership_clean_hour,weather_clean,left_on=\"Start Hour\",right_index=True,how=\"inner\",sort=False)"
   ]
  },
  {
   "cell_type": "code",
   "execution_count": 152,
   "metadata": {
    "ExecuteTime": {
     "end_time": "2022-12-01T09:11:43.567114Z",
     "start_time": "2022-12-01T09:11:42.463582Z"
    },
    "scrolled": true
   },
   "outputs": [
    {
     "name": "stdout",
     "output_type": "stream",
     "text": [
      "<class 'pandas.core.frame.DataFrame'>\n",
      "Int64Index: 14237027 entries, 0 to 15358706\n",
      "Data columns (total 20 columns):\n",
      " #   Column               Dtype                     \n",
      "---  ------               -----                     \n",
      " 0   Trip Id              int64                     \n",
      " 1   Start Time           datetime64[ns, US/Eastern]\n",
      " 2   End Time             datetime64[ns, US/Eastern]\n",
      " 3   Trip Duration        int64                     \n",
      " 4   Start Station Id     float64                   \n",
      " 5   Start Station Name   object                    \n",
      " 6   End Station Id       float64                   \n",
      " 7   End Station Name     object                    \n",
      " 8   User Type            object                    \n",
      " 9   Start Hour           datetime64[ns, US/Eastern]\n",
      " 10  Temp (°C)            float64                   \n",
      " 11  Dew Point Temp (°C)  float64                   \n",
      " 12  Rel Hum (%)          float64                   \n",
      " 13  Wind Dir (10s deg)   float64                   \n",
      " 14  Wind Spd (km/h)      float64                   \n",
      " 15  Visibility (km)      float64                   \n",
      " 16  Hmdx                 float64                   \n",
      " 17  Wind Chill           float64                   \n",
      " 18  Weather              object                    \n",
      " 19  Precip. Amount (mm)  float64                   \n",
      "dtypes: datetime64[ns, US/Eastern](3), float64(11), int64(2), object(4)\n",
      "memory usage: 2.2+ GB\n"
     ]
    }
   ],
   "source": [
    "df_merged.info()"
   ]
  },
  {
   "cell_type": "code",
   "execution_count": 153,
   "metadata": {
    "ExecuteTime": {
     "end_time": "2022-12-01T09:11:44.021828Z",
     "start_time": "2022-12-01T09:11:43.569115Z"
    }
   },
   "outputs": [
    {
     "data": {
      "text/html": [
       "<div>\n",
       "<style scoped>\n",
       "    .dataframe tbody tr th:only-of-type {\n",
       "        vertical-align: middle;\n",
       "    }\n",
       "\n",
       "    .dataframe tbody tr th {\n",
       "        vertical-align: top;\n",
       "    }\n",
       "\n",
       "    .dataframe thead th {\n",
       "        text-align: right;\n",
       "    }\n",
       "</style>\n",
       "<table border=\"1\" class=\"dataframe\">\n",
       "  <thead>\n",
       "    <tr style=\"text-align: right;\">\n",
       "      <th></th>\n",
       "      <th>Trip Id</th>\n",
       "      <th>Start Time</th>\n",
       "      <th>End Time</th>\n",
       "      <th>Trip Duration</th>\n",
       "      <th>Start Station Id</th>\n",
       "      <th>Start Station Name</th>\n",
       "      <th>End Station Id</th>\n",
       "      <th>End Station Name</th>\n",
       "      <th>User Type</th>\n",
       "      <th>Start Hour</th>\n",
       "      <th>Temp (°C)</th>\n",
       "      <th>Dew Point Temp (°C)</th>\n",
       "      <th>Rel Hum (%)</th>\n",
       "      <th>Wind Dir (10s deg)</th>\n",
       "      <th>Wind Spd (km/h)</th>\n",
       "      <th>Visibility (km)</th>\n",
       "      <th>Hmdx</th>\n",
       "      <th>Wind Chill</th>\n",
       "      <th>Weather</th>\n",
       "      <th>Precip. Amount (mm)</th>\n",
       "    </tr>\n",
       "  </thead>\n",
       "  <tbody>\n",
       "    <tr>\n",
       "      <th>0</th>\n",
       "      <td>712441</td>\n",
       "      <td>2017-01-01 00:03:00-05:00</td>\n",
       "      <td>2017-01-01 00:08:00-05:00</td>\n",
       "      <td>274</td>\n",
       "      <td>7006.0</td>\n",
       "      <td>Bay St / College St (East Side)</td>\n",
       "      <td>7021.0</td>\n",
       "      <td>Bay St / Albert St</td>\n",
       "      <td>Member</td>\n",
       "      <td>2017-01-01 00:00:00-05:00</td>\n",
       "      <td>1.5</td>\n",
       "      <td>-3.6</td>\n",
       "      <td>69.0</td>\n",
       "      <td>26.0</td>\n",
       "      <td>39.0</td>\n",
       "      <td>16.1</td>\n",
       "      <td>NaN</td>\n",
       "      <td>NaN</td>\n",
       "      <td>Clear</td>\n",
       "      <td>0.0</td>\n",
       "    </tr>\n",
       "    <tr>\n",
       "      <th>1</th>\n",
       "      <td>712442</td>\n",
       "      <td>2017-01-01 00:03:00-05:00</td>\n",
       "      <td>2017-01-01 00:12:00-05:00</td>\n",
       "      <td>538</td>\n",
       "      <td>7046.0</td>\n",
       "      <td>Niagara St / Richmond St W</td>\n",
       "      <td>7147.0</td>\n",
       "      <td>King St W / Fraser Ave</td>\n",
       "      <td>Member</td>\n",
       "      <td>2017-01-01 00:00:00-05:00</td>\n",
       "      <td>1.5</td>\n",
       "      <td>-3.6</td>\n",
       "      <td>69.0</td>\n",
       "      <td>26.0</td>\n",
       "      <td>39.0</td>\n",
       "      <td>16.1</td>\n",
       "      <td>NaN</td>\n",
       "      <td>NaN</td>\n",
       "      <td>Clear</td>\n",
       "      <td>0.0</td>\n",
       "    </tr>\n",
       "    <tr>\n",
       "      <th>2</th>\n",
       "      <td>712443</td>\n",
       "      <td>2017-01-01 00:05:00-05:00</td>\n",
       "      <td>2017-01-01 00:22:00-05:00</td>\n",
       "      <td>992</td>\n",
       "      <td>7048.0</td>\n",
       "      <td>Front St W / Yonge St (Hockey Hall of Fame)</td>\n",
       "      <td>7089.0</td>\n",
       "      <td>Church St  / Wood St</td>\n",
       "      <td>Member</td>\n",
       "      <td>2017-01-01 00:00:00-05:00</td>\n",
       "      <td>1.5</td>\n",
       "      <td>-3.6</td>\n",
       "      <td>69.0</td>\n",
       "      <td>26.0</td>\n",
       "      <td>39.0</td>\n",
       "      <td>16.1</td>\n",
       "      <td>NaN</td>\n",
       "      <td>NaN</td>\n",
       "      <td>Clear</td>\n",
       "      <td>0.0</td>\n",
       "    </tr>\n",
       "    <tr>\n",
       "      <th>3</th>\n",
       "      <td>712444</td>\n",
       "      <td>2017-01-01 00:09:00-05:00</td>\n",
       "      <td>2017-01-01 00:26:00-05:00</td>\n",
       "      <td>1005</td>\n",
       "      <td>7177.0</td>\n",
       "      <td>East Liberty St / Pirandello St_canceled</td>\n",
       "      <td>7202.0</td>\n",
       "      <td>Queen St W / Bay St (City Hall)</td>\n",
       "      <td>Member</td>\n",
       "      <td>2017-01-01 00:00:00-05:00</td>\n",
       "      <td>1.5</td>\n",
       "      <td>-3.6</td>\n",
       "      <td>69.0</td>\n",
       "      <td>26.0</td>\n",
       "      <td>39.0</td>\n",
       "      <td>16.1</td>\n",
       "      <td>NaN</td>\n",
       "      <td>NaN</td>\n",
       "      <td>Clear</td>\n",
       "      <td>0.0</td>\n",
       "    </tr>\n",
       "    <tr>\n",
       "      <th>4</th>\n",
       "      <td>712445</td>\n",
       "      <td>2017-01-01 00:14:00-05:00</td>\n",
       "      <td>2017-01-01 00:25:00-05:00</td>\n",
       "      <td>645</td>\n",
       "      <td>7203.0</td>\n",
       "      <td>Bathurst St/Queens Quay(Billy Bishop Airport)</td>\n",
       "      <td>7010.0</td>\n",
       "      <td>King St W / Spadina Ave</td>\n",
       "      <td>Member</td>\n",
       "      <td>2017-01-01 00:00:00-05:00</td>\n",
       "      <td>1.5</td>\n",
       "      <td>-3.6</td>\n",
       "      <td>69.0</td>\n",
       "      <td>26.0</td>\n",
       "      <td>39.0</td>\n",
       "      <td>16.1</td>\n",
       "      <td>NaN</td>\n",
       "      <td>NaN</td>\n",
       "      <td>Clear</td>\n",
       "      <td>0.0</td>\n",
       "    </tr>\n",
       "  </tbody>\n",
       "</table>\n",
       "</div>"
      ],
      "text/plain": [
       "   Trip Id                Start Time                  End Time  Trip Duration  \\\n",
       "0   712441 2017-01-01 00:03:00-05:00 2017-01-01 00:08:00-05:00            274   \n",
       "1   712442 2017-01-01 00:03:00-05:00 2017-01-01 00:12:00-05:00            538   \n",
       "2   712443 2017-01-01 00:05:00-05:00 2017-01-01 00:22:00-05:00            992   \n",
       "3   712444 2017-01-01 00:09:00-05:00 2017-01-01 00:26:00-05:00           1005   \n",
       "4   712445 2017-01-01 00:14:00-05:00 2017-01-01 00:25:00-05:00            645   \n",
       "\n",
       "   Start Station Id                             Start Station Name  \\\n",
       "0            7006.0                Bay St / College St (East Side)   \n",
       "1            7046.0                     Niagara St / Richmond St W   \n",
       "2            7048.0    Front St W / Yonge St (Hockey Hall of Fame)   \n",
       "3            7177.0       East Liberty St / Pirandello St_canceled   \n",
       "4            7203.0  Bathurst St/Queens Quay(Billy Bishop Airport)   \n",
       "\n",
       "   End Station Id                 End Station Name User Type  \\\n",
       "0          7021.0               Bay St / Albert St    Member   \n",
       "1          7147.0           King St W / Fraser Ave    Member   \n",
       "2          7089.0             Church St  / Wood St    Member   \n",
       "3          7202.0  Queen St W / Bay St (City Hall)    Member   \n",
       "4          7010.0          King St W / Spadina Ave    Member   \n",
       "\n",
       "                 Start Hour  Temp (°C)  Dew Point Temp (°C)  Rel Hum (%)  \\\n",
       "0 2017-01-01 00:00:00-05:00        1.5                 -3.6         69.0   \n",
       "1 2017-01-01 00:00:00-05:00        1.5                 -3.6         69.0   \n",
       "2 2017-01-01 00:00:00-05:00        1.5                 -3.6         69.0   \n",
       "3 2017-01-01 00:00:00-05:00        1.5                 -3.6         69.0   \n",
       "4 2017-01-01 00:00:00-05:00        1.5                 -3.6         69.0   \n",
       "\n",
       "   Wind Dir (10s deg)  Wind Spd (km/h)  Visibility (km)  Hmdx  Wind Chill  \\\n",
       "0                26.0             39.0             16.1   NaN         NaN   \n",
       "1                26.0             39.0             16.1   NaN         NaN   \n",
       "2                26.0             39.0             16.1   NaN         NaN   \n",
       "3                26.0             39.0             16.1   NaN         NaN   \n",
       "4                26.0             39.0             16.1   NaN         NaN   \n",
       "\n",
       "  Weather  Precip. Amount (mm)  \n",
       "0   Clear                  0.0  \n",
       "1   Clear                  0.0  \n",
       "2   Clear                  0.0  \n",
       "3   Clear                  0.0  \n",
       "4   Clear                  0.0  "
      ]
     },
     "execution_count": 153,
     "metadata": {},
     "output_type": "execute_result"
    }
   ],
   "source": [
    "df_merged.head()"
   ]
  },
  {
   "cell_type": "code",
   "execution_count": 154,
   "metadata": {
    "ExecuteTime": {
     "end_time": "2022-12-01T09:18:09.561295Z",
     "start_time": "2022-12-01T09:11:44.025343Z"
    }
   },
   "outputs": [],
   "source": [
    "# Write the merged dataframe to csv\n",
    "# warning! It takes some time to write to csv. My runtime was about 7 min\n",
    "path = os.path.join(os.path.abspath(os.getcwd()), 'data')\n",
    "df_merged.to_csv(os.path.join(path, 'bikeshare ridership merged with weather-cleaned.csv'))"
   ]
  },
  {
   "cell_type": "markdown",
   "metadata": {},
   "source": [
    "## Exploratory Data Analysis"
   ]
  },
  {
   "cell_type": "markdown",
   "metadata": {},
   "source": [
    "### Distribution of Trip Duration"
   ]
  },
  {
   "cell_type": "code",
   "execution_count": 157,
   "metadata": {
    "ExecuteTime": {
     "end_time": "2022-12-01T09:25:43.841065Z",
     "start_time": "2022-12-01T09:18:09.563819Z"
    }
   },
   "outputs": [
    {
     "data": {
      "image/png": "[encoded data removed]",
      "text/plain": [
       "<Figure size 432x288 with 1 Axes>"
      ]
     },
     "metadata": {},
     "output_type": "display_data"
    }
   ],
   "source": [
    "#Plot Distribution of Trip Duration in Minutes for each year\n",
    "ridership_2017_clean['Trip Duration'].plot(kind='kde', color='r', label='2017')\n",
    "ridership_2018_clean['Trip Duration'].plot(kind='kde', color='g', label='2018')\n",
    "ridership_2019_clean['Trip Duration'].plot(kind='kde', color='black', label='2019')\n",
    "#ridership_2020_clean['Trip Duration'].plot(kind='kde', color='blue', label='2020')\n",
    "#ridership_2021_clean['Trip Duration'].plot(kind='kde', color='grey', label='2021')\n",
    "#ridership_2022_clean['Trip Duration'].plot(kind='kde', color='y', label='2022')\n",
    "\n",
    "plt.xlabel('Trip Duration')\n",
    "plt.legend()\n",
    "plt.xlim(0,2500)\n",
    "plt.title('Distribution of Trip Duration in 2017')\n",
    "plt.show()"
   ]
  },
  {
   "cell_type": "code",
   "execution_count": null,
   "metadata": {},
   "outputs": [],
   "source": []
  },
  {
   "cell_type": "code",
   "execution_count": 253,
   "metadata": {},
   "outputs": [],
   "source": [
    "#Import Toronto neighbourhoods file\n",
    "neighbourhoods = gpd.read_file('toronto_neighbourhoods.shp')\n",
    "neighbourhoods=neighbourhoods[['FIELD_8','geometry']]                           #drop all columns except FIELD_8 and geometry\n",
    "neighbourhoods.rename(columns={'FIELD_8': 'name'}, inplace=True)                #renmae column'FIELD_8' with 'name'\n",
    "\n",
    "import re                                                                       #import Regular expression operations to check for the brackets in names \n",
    "for row in range (len(neighbourhoods['name'])):                                 #iterate over the names of neighborhoods using  number of rows of names\n",
    "    neighbourhoods['name'][row]=re.sub(r'\\(\\d+\\)', '', str(neighbourhoods['name'][row]))  #remove id from each name in the column\n",
    "\n",
    "#Import bike lanes file\n",
    "bike_lanes = gpd.read_file('bikeway_network.shp')\n",
    "bike_lanes = bike_lanes[['LF_NAME', 'SEG_TYPE', 'length', 'geometry']]   #get only the important columns\n",
    "bike_lanes = bike_lanes.rename(columns={'LF_NAME': 'name', 'SEG_TYPE': 'route_type'})  #rename the columns\n",
    "bike_lanes = bike_lanes[bike_lanes['route_type'] == 'bike lane']   #filter out all routes except for bike lanes\n",
    "\n",
    "#Import subway station dataframe\n",
    "subway_stations = gpd.read_file(\"subway_stations.shp\")"
   ]
  },
  {
   "cell_type": "code",
   "execution_count": 276,
   "metadata": {},
   "outputs": [
    {
     "data": {
      "text/plain": [
       "Station Id      655\n",
       "Station Name    655\n",
       "lat             653\n",
       "lon             654\n",
       "capacity         39\n",
       "geometry        655\n",
       "dtype: int64"
      ]
     },
     "execution_count": 276,
     "metadata": {},
     "output_type": "execute_result"
    }
   ],
   "source": [
    "#create a GeoDataFrame from bikeshare_stations dataframe and store in a new dataframe\n",
    "bikeshare_stations_gdf = gpd.GeoDataFrame(bikeshare_stations,geometry=gpd.points_from_xy(bikeshare_stations.lon, bikeshare_stations.lat))\n",
    "bikeshare_stations_gdf.crs = {'init': 'epsg:4326'}"
   ]
  },
  {
   "cell_type": "code",
   "execution_count": 277,
   "metadata": {},
   "outputs": [],
   "source": [
    "#Transform neighbourhoods, bikeshare_stations_gdf, subway_stations, and bike_lanes to EPSG:26917 (2D projection)\n",
    "neighbourhoods = neighbourhoods.to_crs(epsg=26917)\n",
    "bikeshare_stations_gdf = bikeshare_stations_gdf.to_crs(epsg=26917)\n",
    "subway_stations = subway_stations.to_crs(epsg=26917)\n",
    "bike_lanes = bike_lanes.to_crs(epsg=26917)"
   ]
  },
  {
   "cell_type": "code",
   "execution_count": 279,
   "metadata": {},
   "outputs": [
    {
     "data": {
      "text/plain": [
       "655"
      ]
     },
     "execution_count": 279,
     "metadata": {},
     "output_type": "execute_result"
    }
   ],
   "source": [
    "#Creat a new dataframe that merges the bikeshare stations with neighbourhoods\n",
    "merged=gpd.sjoin(neighbourhoods, bikeshare_stations_gdf)\n",
    "merged=merged.sort_values('Station Id')"
   ]
  },
  {
   "cell_type": "code",
   "execution_count": 305,
   "metadata": {},
   "outputs": [],
   "source": [
    "#Creat a dictionary that maps each station to its neighbourhood\n",
    "neighbourhood_map=dict(zip(merged['Station Id'],merged.name))  "
   ]
  },
  {
   "cell_type": "code",
   "execution_count": 299,
   "metadata": {},
   "outputs": [],
   "source": [
    "def insert_neighourhood(df):\n",
    "    \"\"\"This function is get the start and end neighbourhood for each trip.\n",
    "    \"\"\"\n",
    "    \n",
    "    df['Start Station Id']=df['Start Station Id'].astype(int)\n",
    "    df['End Station Id']=df['End Station Id'].astype(int)\n",
    "    df['Start neighbourhood']=df['Start Station Id'].map(neighbourhood_map)\n",
    "    df['End neighbourhood']=df['End Station Id'].map(neighbourhood_map)\n",
    "    \n",
    "    \n",
    "    return df"
   ]
  },
  {
   "cell_type": "code",
   "execution_count": 311,
   "metadata": {},
   "outputs": [],
   "source": [
    "with_neighbourhood_2017=insert_neighourhood(ridership_2017_clean) #apply this to the df_merged\n",
    "with_neighbourhood_2018=insert_neighourhood(ridership_2018_clean)\n",
    "with_neighbourhood_2019=insert_neighourhood(ridership_2019_clean)\n",
    "with_neighbourhood_2022=insert_neighourhood(ridership_2022_clean)"
   ]
  },
  {
   "cell_type": "code",
   "execution_count": 315,
   "metadata": {},
   "outputs": [
    {
     "data": {
      "text/plain": [
       "Start neighbourhood\n",
       "Bay Street Corridor                   262070\n",
       "Waterfront Communities-The Island     244680\n",
       "Church-Yonge Corridor                 114664\n",
       "Kensington-Chinatown                  107377\n",
       "Niagara                                79605\n",
       "Name: Trip Id, dtype: int64"
      ]
     },
     "execution_count": 315,
     "metadata": {},
     "output_type": "execute_result"
    }
   ],
   "source": [
    "count_of_trips_2017=with_neighbourhood_2017.groupby(by='Start neighbourhood')['Trip Id'].count().sort_values(ascending=False)\n",
    "count_of_trips_2018=with_neighbourhood_2018.groupby(by='Start neighbourhood')['Trip Id'].count().sort_values(ascending=False)\n",
    "count_of_trips_2019=with_neighbourhood_2019.groupby(by='Start neighbourhood')['Trip Id'].count().sort_values(ascending=False)\n",
    "count_of_trips_2022=with_neighbourhood_2022.groupby(by='Start neighbourhood')['Trip Id'].count().sort_values(ascending=False)"
   ]
  },
  {
   "cell_type": "code",
   "execution_count": null,
   "metadata": {},
   "outputs": [],
   "source": [
    "mergeddf['Start Time'] = pd.to_datetime(mergeddf['Start Time'])\n",
    "mergeddf['month'] = mergeddf['Start Time'].dt.month\n",
    "mergeddf['day'] = mergeddf['Start Time'].dt.day\n",
    "mergeddf['year'] = mergeddf['Start Time'].dt.year\n",
    "mergeddf['hour'] = mergeddf['Start Time'].dt.hour\n",
    "mergeddf['minute'] = mergeddf['Start Time'].dt.minute\n",
    "mergeddf = mergeddf.sort_values(by=['Start Time'], ascending = True)"
   ]
  },
  {
   "cell_type": "code",
   "execution_count": 321,
   "metadata": {},
   "outputs": [
    {
     "ename": "NameError",
     "evalue": "name 'mastermergeddfdf' is not defined",
     "output_type": "error",
     "traceback": [
      "\u001b[1;31m---------------------------------------------------------------------------\u001b[0m",
      "\u001b[1;31mNameError\u001b[0m                                 Traceback (most recent call last)",
      "Input \u001b[1;32mIn [321]\u001b[0m, in \u001b[0;36m<cell line: 7>\u001b[1;34m()\u001b[0m\n\u001b[0;32m      5\u001b[0m mergeddf[\u001b[38;5;124m'\u001b[39m\u001b[38;5;124myear\u001b[39m\u001b[38;5;124m'\u001b[39m] \u001b[38;5;241m=\u001b[39m mergeddf[\u001b[38;5;124m'\u001b[39m\u001b[38;5;124mStart Time\u001b[39m\u001b[38;5;124m'\u001b[39m]\u001b[38;5;241m.\u001b[39mdt\u001b[38;5;241m.\u001b[39myear\n\u001b[0;32m      6\u001b[0m mergeddf[\u001b[38;5;124m'\u001b[39m\u001b[38;5;124mhour\u001b[39m\u001b[38;5;124m'\u001b[39m] \u001b[38;5;241m=\u001b[39m mergeddf[\u001b[38;5;124m'\u001b[39m\u001b[38;5;124mStart Time\u001b[39m\u001b[38;5;124m'\u001b[39m]\u001b[38;5;241m.\u001b[39mdt\u001b[38;5;241m.\u001b[39mhour\n\u001b[1;32m----> 7\u001b[0m \u001b[43mmastermergeddfdf\u001b[49m[\u001b[38;5;124m'\u001b[39m\u001b[38;5;124mminute\u001b[39m\u001b[38;5;124m'\u001b[39m] \u001b[38;5;241m=\u001b[39m mergeddf[\u001b[38;5;124m'\u001b[39m\u001b[38;5;124mStart Time\u001b[39m\u001b[38;5;124m'\u001b[39m]\u001b[38;5;241m.\u001b[39mdt\u001b[38;5;241m.\u001b[39mminute\n\u001b[0;32m      8\u001b[0m mergeddf \u001b[38;5;241m=\u001b[39m mergeddf\u001b[38;5;241m.\u001b[39msort_values(by\u001b[38;5;241m=\u001b[39m[\u001b[38;5;124m'\u001b[39m\u001b[38;5;124mStart Time\u001b[39m\u001b[38;5;124m'\u001b[39m], ascending \u001b[38;5;241m=\u001b[39m \u001b[38;5;28;01mTrue\u001b[39;00m)\n\u001b[0;32m      9\u001b[0m figure, ((ax1,ax2,ax3,ax4,ax5)) \u001b[38;5;241m=\u001b[39m plt\u001b[38;5;241m.\u001b[39msubplots(nrows\u001b[38;5;241m=\u001b[39m\u001b[38;5;241m5\u001b[39m, ncols \u001b[38;5;241m=\u001b[39m\u001b[38;5;241m1\u001b[39m)\n",
      "\u001b[1;31mNameError\u001b[0m: name 'mastermergeddfdf' is not defined"
     ]
    }
   ],
   "source": [
    "\n",
    "figure, ((ax1,ax2,ax3,ax4,ax5)) = plt.subplots(nrows=5, ncols =1)\n",
    "figure.set_size_inches(15,20)\n",
    "\n",
    "sns.countplot(data=mergeddf, x = 'year', ax = ax1)\n",
    "sns.countplot(data=mergeddf, x = 'month', ax = ax2)\n",
    "sns.countplot(data=mergeddf, x = 'day', ax = ax3)\n",
    "sns.countplot(data=mergeddf, x = 'hour', ax = ax4)\n",
    "sns.countplot(data=mergeddf, x = 'year', hue = 'User Type', ax=ax5)"
   ]
  },
  {
   "cell_type": "markdown",
   "metadata": {},
   "source": [
    "## ML Model"
   ]
  },
  {
   "cell_type": "code",
   "execution_count": null,
   "metadata": {},
   "outputs": [],
   "source": []
  },
  {
   "cell_type": "markdown",
   "metadata": {},
   "source": [
    "## Conclusions"
   ]
  },
  {
   "cell_type": "code",
   "execution_count": null,
   "metadata": {},
   "outputs": [],
   "source": []
  }
 ],
 "metadata": {
  "kernelspec": {
   "display_name": "Python 3 (ipykernel)",
   "language": "python",
   "name": "python3"
  },
  "language_info": {
   "codemirror_mode": {
    "name": "ipython",
    "version": 3
   },
   "file_extension": ".py",
   "mimetype": "text/x-python",
   "name": "python",
   "nbconvert_exporter": "python",
   "pygments_lexer": "ipython3",
   "version": "3.9.12"
  },
  "toc": {
   "base_numbering": 1,
   "nav_menu": {},
   "number_sections": true,
   "sideBar": true,
   "skip_h1_title": false,
   "title_cell": "Table of Contents",
   "title_sidebar": "Contents",
   "toc_cell": false,
   "toc_position": {
    "height": "calc(100% - 180px)",
    "left": "10px",
    "top": "150px",
    "width": "328.712px"
   },
   "toc_section_display": true,
   "toc_window_display": true
  }
 },
 "nbformat": 4,
 "nbformat_minor": 4
}
